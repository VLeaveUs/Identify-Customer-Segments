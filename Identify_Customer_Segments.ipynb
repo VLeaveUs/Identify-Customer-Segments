{
 "cells": [
  {
   "cell_type": "markdown",
   "metadata": {},
   "source": [
    "# Project: Identify Customer Segments\n",
    "\n",
    "In this project, you will apply unsupervised learning techniques to identify segments of the population that form the core customer base for a mail-order sales company in Germany. These segments can then be used to direct marketing campaigns towards audiences that will have the highest expected rate of returns. The data that you will use has been provided by our partners at Bertelsmann Arvato Analytics, and represents a real-life data science task.\n",
    "\n",
    "This notebook will help you complete this task by providing a framework within which you will perform your analysis steps. In each step of the project, you will see some text describing the subtask that you will perform, followed by one or more code cells for you to complete your work. **Feel free to add additional code and markdown cells as you go along so that you can explore everything in precise chunks.** The code cells provided in the base template will outline only the major tasks, and will usually not be enough to cover all of the minor tasks that comprise it.\n",
    "\n",
    "It should be noted that while there will be precise guidelines on how you should handle certain tasks in the project, there will also be places where an exact specification is not provided. **There will be times in the project where you will need to make and justify your own decisions on how to treat the data.** These are places where there may not be only one way to handle the data. In real-life tasks, there may be many valid ways to approach an analysis task. One of the most important things you can do is clearly document your approach so that other scientists can understand the decisions you've made.\n",
    "\n",
    "At the end of most sections, there will be a Markdown cell labeled **Discussion**. In these cells, you will report your findings for the completed section, as well as document the decisions that you made in your approach to each subtask. **Your project will be evaluated not just on the code used to complete the tasks outlined, but also your communication about your observations and conclusions at each stage.**"
   ]
  },
  {
   "cell_type": "code",
   "execution_count": 3,
   "metadata": {},
   "outputs": [
    {
     "data": {
      "text/plain": [
       "'\\nImport note: The classroom currently uses sklearn version 0.19.\\nIf you need to use an imputer, it is available in sklearn.preprocessing.Imputer,\\ninstead of sklearn.impute as in newer versions of sklearn.\\n'"
      ]
     },
     "execution_count": 3,
     "metadata": {},
     "output_type": "execute_result"
    }
   ],
   "source": [
    "# import libraries here; add more as necessary\n",
    "import numpy as np\n",
    "import pandas as pd\n",
    "import matplotlib.pyplot as plt\n",
    "import seaborn as sns\n",
    "from sklearn.preprocessing import OneHotEncoder, LabelEncoder\n",
<<<<<<< HEAD
    "from mpl_toolkits.mplot3d import Axes3D\n",
    "from sklearn.cluster import KMeans\n",
    "from sklearn.preprocessing import Imputer, StandardScaler\n",
=======
>>>>>>> d5ca0ed332afa9678dbdb657c09097591c65c96a
    "\n",
    "# magic word for producing visualizations in notebook\n",
    "%matplotlib inline\n",
    "\n",
    "'''\n",
    "Import note: The classroom currently uses sklearn version 0.19.\n",
    "If you need to use an imputer, it is available in sklearn.preprocessing.Imputer,\n",
    "instead of sklearn.impute as in newer versions of sklearn.\n",
    "'''"
   ]
  },
  {
   "cell_type": "markdown",
   "metadata": {},
   "source": [
    "### Step 0: Load the Data\n",
    "\n",
    "There are four files associated with this project (not including this one):\n",
    "\n",
    "- `Udacity_AZDIAS_Subset.csv`: Demographics data for the general population of Germany; 891211 persons (rows) x 85 features (columns).\n",
    "- `Udacity_CUSTOMERS_Subset.csv`: Demographics data for customers of a mail-order company; 191652 persons (rows) x 85 features (columns).\n",
    "- `Data_Dictionary.md`: Detailed information file about the features in the provided datasets.\n",
    "- `AZDIAS_Feature_Summary.csv`: Summary of feature attributes for demographics data; 85 features (rows) x 4 columns\n",
    "\n",
    "Each row of the demographics files represents a single person, but also includes information outside of individuals, including information about their household, building, and neighborhood. You will use this information to cluster the general population into groups with similar demographic properties. Then, you will see how the people in the customers dataset fit into those created clusters. The hope here is that certain clusters are over-represented in the customers data, as compared to the general population; those over-represented clusters will be assumed to be part of the core userbase. This information can then be used for further applications, such as targeting for a marketing campaign.\n",
    "\n",
    "To start off with, load in the demographics data for the general population into a pandas DataFrame, and do the same for the feature attributes summary. Note for all of the `.csv` data files in this project: they're semicolon (`;`) delimited, so you'll need an additional argument in your [`read_csv()`](https://pandas.pydata.org/pandas-docs/stable/generated/pandas.read_csv.html) call to read in the data properly. Also, considering the size of the main dataset, it may take some time for it to load completely.\n",
    "\n",
    "Once the dataset is loaded, it's recommended that you take a little bit of time just browsing the general structure of the dataset and feature summary file. You'll be getting deep into the innards of the cleaning in the first major step of the project, so gaining some general familiarity can help you get your bearings."
   ]
  },
  {
   "cell_type": "code",
   "execution_count": 4,
   "metadata": {},
   "outputs": [],
   "source": [
    "# Load in the general demographics data.\n",
    "azdias = pd.read_csv('./Udacity_AZDIAS_Subset.csv', sep=';')\n",
    "\n",
    "# Load in the feature summary file.\n",
    "feat_info = pd.read_csv('./AZDIAS_Feature_Summary.csv', sep=';')"
   ]
  },
  {
   "cell_type": "code",
   "execution_count": 5,
   "metadata": {},
   "outputs": [
    {
     "data": {
      "text/html": [
       "<div>\n",
       "<style scoped>\n",
       "    .dataframe tbody tr th:only-of-type {\n",
       "        vertical-align: middle;\n",
       "    }\n",
       "\n",
       "    .dataframe tbody tr th {\n",
       "        vertical-align: top;\n",
       "    }\n",
       "\n",
       "    .dataframe thead th {\n",
       "        text-align: right;\n",
       "    }\n",
       "</style>\n",
       "<table border=\"1\" class=\"dataframe\">\n",
       "  <thead>\n",
       "    <tr style=\"text-align: right;\">\n",
       "      <th></th>\n",
       "      <th>AGER_TYP</th>\n",
       "      <th>ALTERSKATEGORIE_GROB</th>\n",
       "      <th>ANREDE_KZ</th>\n",
       "      <th>CJT_GESAMTTYP</th>\n",
       "      <th>FINANZ_MINIMALIST</th>\n",
       "      <th>FINANZ_SPARER</th>\n",
       "      <th>FINANZ_VORSORGER</th>\n",
       "      <th>FINANZ_ANLEGER</th>\n",
       "      <th>FINANZ_UNAUFFAELLIGER</th>\n",
       "      <th>FINANZ_HAUSBAUER</th>\n",
       "      <th>...</th>\n",
       "      <th>PLZ8_ANTG1</th>\n",
       "      <th>PLZ8_ANTG2</th>\n",
       "      <th>PLZ8_ANTG3</th>\n",
       "      <th>PLZ8_ANTG4</th>\n",
       "      <th>PLZ8_BAUMAX</th>\n",
       "      <th>PLZ8_HHZ</th>\n",
       "      <th>PLZ8_GBZ</th>\n",
       "      <th>ARBEIT</th>\n",
       "      <th>ORTSGR_KLS9</th>\n",
       "      <th>RELAT_AB</th>\n",
       "    </tr>\n",
       "  </thead>\n",
       "  <tbody>\n",
       "    <tr>\n",
       "      <th>0</th>\n",
       "      <td>-1</td>\n",
       "      <td>2</td>\n",
       "      <td>1</td>\n",
       "      <td>2.0</td>\n",
       "      <td>3</td>\n",
       "      <td>4</td>\n",
       "      <td>3</td>\n",
       "      <td>5</td>\n",
       "      <td>5</td>\n",
       "      <td>3</td>\n",
       "      <td>...</td>\n",
       "      <td>NaN</td>\n",
       "      <td>NaN</td>\n",
       "      <td>NaN</td>\n",
       "      <td>NaN</td>\n",
       "      <td>NaN</td>\n",
       "      <td>NaN</td>\n",
       "      <td>NaN</td>\n",
       "      <td>NaN</td>\n",
       "      <td>NaN</td>\n",
       "      <td>NaN</td>\n",
       "    </tr>\n",
       "    <tr>\n",
       "      <th>1</th>\n",
       "      <td>-1</td>\n",
       "      <td>1</td>\n",
       "      <td>2</td>\n",
       "      <td>5.0</td>\n",
       "      <td>1</td>\n",
       "      <td>5</td>\n",
       "      <td>2</td>\n",
       "      <td>5</td>\n",
       "      <td>4</td>\n",
       "      <td>5</td>\n",
       "      <td>...</td>\n",
       "      <td>2.0</td>\n",
       "      <td>3.0</td>\n",
       "      <td>2.0</td>\n",
       "      <td>1.0</td>\n",
       "      <td>1.0</td>\n",
       "      <td>5.0</td>\n",
       "      <td>4.0</td>\n",
       "      <td>3.0</td>\n",
       "      <td>5.0</td>\n",
       "      <td>4.0</td>\n",
       "    </tr>\n",
       "    <tr>\n",
       "      <th>2</th>\n",
       "      <td>-1</td>\n",
       "      <td>3</td>\n",
       "      <td>2</td>\n",
       "      <td>3.0</td>\n",
       "      <td>1</td>\n",
       "      <td>4</td>\n",
       "      <td>1</td>\n",
       "      <td>2</td>\n",
       "      <td>3</td>\n",
       "      <td>5</td>\n",
       "      <td>...</td>\n",
       "      <td>3.0</td>\n",
       "      <td>3.0</td>\n",
       "      <td>1.0</td>\n",
       "      <td>0.0</td>\n",
       "      <td>1.0</td>\n",
       "      <td>4.0</td>\n",
       "      <td>4.0</td>\n",
       "      <td>3.0</td>\n",
       "      <td>5.0</td>\n",
       "      <td>2.0</td>\n",
       "    </tr>\n",
       "    <tr>\n",
       "      <th>3</th>\n",
       "      <td>2</td>\n",
       "      <td>4</td>\n",
       "      <td>2</td>\n",
       "      <td>2.0</td>\n",
       "      <td>4</td>\n",
       "      <td>2</td>\n",
       "      <td>5</td>\n",
       "      <td>2</td>\n",
       "      <td>1</td>\n",
       "      <td>2</td>\n",
       "      <td>...</td>\n",
       "      <td>2.0</td>\n",
       "      <td>2.0</td>\n",
       "      <td>2.0</td>\n",
       "      <td>0.0</td>\n",
       "      <td>1.0</td>\n",
       "      <td>3.0</td>\n",
       "      <td>4.0</td>\n",
       "      <td>2.0</td>\n",
       "      <td>3.0</td>\n",
       "      <td>3.0</td>\n",
       "    </tr>\n",
       "    <tr>\n",
       "      <th>4</th>\n",
       "      <td>-1</td>\n",
       "      <td>3</td>\n",
       "      <td>1</td>\n",
       "      <td>5.0</td>\n",
       "      <td>4</td>\n",
       "      <td>3</td>\n",
       "      <td>4</td>\n",
       "      <td>1</td>\n",
       "      <td>3</td>\n",
       "      <td>2</td>\n",
       "      <td>...</td>\n",
       "      <td>2.0</td>\n",
       "      <td>4.0</td>\n",
       "      <td>2.0</td>\n",
       "      <td>1.0</td>\n",
       "      <td>2.0</td>\n",
       "      <td>3.0</td>\n",
       "      <td>3.0</td>\n",
       "      <td>4.0</td>\n",
       "      <td>6.0</td>\n",
       "      <td>5.0</td>\n",
       "    </tr>\n",
       "  </tbody>\n",
       "</table>\n",
       "<p>5 rows × 85 columns</p>\n",
       "</div>"
      ],
      "text/plain": [
       "   AGER_TYP  ALTERSKATEGORIE_GROB  ANREDE_KZ  CJT_GESAMTTYP  \\\n",
       "0        -1                     2          1            2.0   \n",
       "1        -1                     1          2            5.0   \n",
       "2        -1                     3          2            3.0   \n",
       "3         2                     4          2            2.0   \n",
       "4        -1                     3          1            5.0   \n",
       "\n",
       "   FINANZ_MINIMALIST  FINANZ_SPARER  FINANZ_VORSORGER  FINANZ_ANLEGER  \\\n",
       "0                  3              4                 3               5   \n",
       "1                  1              5                 2               5   \n",
       "2                  1              4                 1               2   \n",
       "3                  4              2                 5               2   \n",
       "4                  4              3                 4               1   \n",
       "\n",
       "   FINANZ_UNAUFFAELLIGER  FINANZ_HAUSBAUER    ...     PLZ8_ANTG1  PLZ8_ANTG2  \\\n",
       "0                      5                 3    ...            NaN         NaN   \n",
       "1                      4                 5    ...            2.0         3.0   \n",
       "2                      3                 5    ...            3.0         3.0   \n",
       "3                      1                 2    ...            2.0         2.0   \n",
       "4                      3                 2    ...            2.0         4.0   \n",
       "\n",
       "   PLZ8_ANTG3  PLZ8_ANTG4  PLZ8_BAUMAX  PLZ8_HHZ  PLZ8_GBZ  ARBEIT  \\\n",
       "0         NaN         NaN          NaN       NaN       NaN     NaN   \n",
       "1         2.0         1.0          1.0       5.0       4.0     3.0   \n",
       "2         1.0         0.0          1.0       4.0       4.0     3.0   \n",
       "3         2.0         0.0          1.0       3.0       4.0     2.0   \n",
       "4         2.0         1.0          2.0       3.0       3.0     4.0   \n",
       "\n",
       "   ORTSGR_KLS9  RELAT_AB  \n",
       "0          NaN       NaN  \n",
       "1          5.0       4.0  \n",
       "2          5.0       2.0  \n",
       "3          3.0       3.0  \n",
       "4          6.0       5.0  \n",
       "\n",
       "[5 rows x 85 columns]"
      ]
     },
     "execution_count": 5,
     "metadata": {},
     "output_type": "execute_result"
    }
   ],
   "source": [
    "# Check the structure of the data after it's loaded (e.g. print the number of\n",
    "# rows and columns, print the first few rows).\n",
    "\n",
    "azdias.head()"
   ]
  },
  {
   "cell_type": "code",
   "execution_count": 6,
   "metadata": {},
   "outputs": [
    {
     "data": {
      "text/html": [
       "<div>\n",
       "<style scoped>\n",
       "    .dataframe tbody tr th:only-of-type {\n",
       "        vertical-align: middle;\n",
       "    }\n",
       "\n",
       "    .dataframe tbody tr th {\n",
       "        vertical-align: top;\n",
       "    }\n",
       "\n",
       "    .dataframe thead th {\n",
       "        text-align: right;\n",
       "    }\n",
       "</style>\n",
       "<table border=\"1\" class=\"dataframe\">\n",
       "  <thead>\n",
       "    <tr style=\"text-align: right;\">\n",
       "      <th></th>\n",
       "      <th>AGER_TYP</th>\n",
       "      <th>ALTERSKATEGORIE_GROB</th>\n",
       "      <th>ANREDE_KZ</th>\n",
       "      <th>CJT_GESAMTTYP</th>\n",
       "      <th>FINANZ_MINIMALIST</th>\n",
       "      <th>FINANZ_SPARER</th>\n",
       "      <th>FINANZ_VORSORGER</th>\n",
       "      <th>FINANZ_ANLEGER</th>\n",
       "      <th>FINANZ_UNAUFFAELLIGER</th>\n",
       "      <th>FINANZ_HAUSBAUER</th>\n",
       "      <th>...</th>\n",
       "      <th>PLZ8_ANTG1</th>\n",
       "      <th>PLZ8_ANTG2</th>\n",
       "      <th>PLZ8_ANTG3</th>\n",
       "      <th>PLZ8_ANTG4</th>\n",
       "      <th>PLZ8_BAUMAX</th>\n",
       "      <th>PLZ8_HHZ</th>\n",
       "      <th>PLZ8_GBZ</th>\n",
       "      <th>ARBEIT</th>\n",
       "      <th>ORTSGR_KLS9</th>\n",
       "      <th>RELAT_AB</th>\n",
       "    </tr>\n",
       "  </thead>\n",
       "  <tbody>\n",
       "    <tr>\n",
       "      <th>count</th>\n",
       "      <td>891221.000000</td>\n",
       "      <td>891221.000000</td>\n",
       "      <td>891221.000000</td>\n",
       "      <td>886367.000000</td>\n",
       "      <td>891221.000000</td>\n",
       "      <td>891221.000000</td>\n",
       "      <td>891221.000000</td>\n",
       "      <td>891221.000000</td>\n",
       "      <td>891221.000000</td>\n",
       "      <td>891221.000000</td>\n",
       "      <td>...</td>\n",
       "      <td>774706.000000</td>\n",
       "      <td>774706.000000</td>\n",
       "      <td>774706.000000</td>\n",
       "      <td>774706.000000</td>\n",
       "      <td>774706.000000</td>\n",
       "      <td>774706.000000</td>\n",
       "      <td>774706.000000</td>\n",
       "      <td>794005.000000</td>\n",
       "      <td>794005.000000</td>\n",
       "      <td>794005.00000</td>\n",
       "    </tr>\n",
       "    <tr>\n",
       "      <th>mean</th>\n",
       "      <td>-0.358435</td>\n",
       "      <td>2.777398</td>\n",
       "      <td>1.522098</td>\n",
       "      <td>3.632838</td>\n",
       "      <td>3.074528</td>\n",
       "      <td>2.821039</td>\n",
       "      <td>3.401106</td>\n",
       "      <td>3.033328</td>\n",
       "      <td>2.874167</td>\n",
       "      <td>3.075121</td>\n",
       "      <td>...</td>\n",
       "      <td>2.253330</td>\n",
       "      <td>2.801858</td>\n",
       "      <td>1.595426</td>\n",
       "      <td>0.699166</td>\n",
       "      <td>1.943913</td>\n",
       "      <td>3.612821</td>\n",
       "      <td>3.381087</td>\n",
       "      <td>3.167854</td>\n",
       "      <td>5.293002</td>\n",
       "      <td>3.07222</td>\n",
       "    </tr>\n",
       "    <tr>\n",
       "      <th>std</th>\n",
       "      <td>1.198724</td>\n",
       "      <td>1.068775</td>\n",
       "      <td>0.499512</td>\n",
       "      <td>1.595021</td>\n",
       "      <td>1.321055</td>\n",
       "      <td>1.464749</td>\n",
       "      <td>1.322134</td>\n",
       "      <td>1.529603</td>\n",
       "      <td>1.486731</td>\n",
       "      <td>1.353248</td>\n",
       "      <td>...</td>\n",
       "      <td>0.972008</td>\n",
       "      <td>0.920309</td>\n",
       "      <td>0.986736</td>\n",
       "      <td>0.727137</td>\n",
       "      <td>1.459654</td>\n",
       "      <td>0.973967</td>\n",
       "      <td>1.111598</td>\n",
       "      <td>1.002376</td>\n",
       "      <td>2.303739</td>\n",
       "      <td>1.36298</td>\n",
       "    </tr>\n",
       "    <tr>\n",
       "      <th>min</th>\n",
       "      <td>-1.000000</td>\n",
       "      <td>1.000000</td>\n",
       "      <td>1.000000</td>\n",
       "      <td>1.000000</td>\n",
       "      <td>1.000000</td>\n",
       "      <td>1.000000</td>\n",
       "      <td>1.000000</td>\n",
       "      <td>1.000000</td>\n",
       "      <td>1.000000</td>\n",
       "      <td>1.000000</td>\n",
       "      <td>...</td>\n",
       "      <td>0.000000</td>\n",
       "      <td>0.000000</td>\n",
       "      <td>0.000000</td>\n",
       "      <td>0.000000</td>\n",
       "      <td>1.000000</td>\n",
       "      <td>1.000000</td>\n",
       "      <td>1.000000</td>\n",
       "      <td>1.000000</td>\n",
       "      <td>0.000000</td>\n",
       "      <td>1.00000</td>\n",
       "    </tr>\n",
       "    <tr>\n",
       "      <th>25%</th>\n",
       "      <td>-1.000000</td>\n",
       "      <td>2.000000</td>\n",
       "      <td>1.000000</td>\n",
       "      <td>2.000000</td>\n",
       "      <td>2.000000</td>\n",
       "      <td>1.000000</td>\n",
       "      <td>3.000000</td>\n",
       "      <td>2.000000</td>\n",
       "      <td>2.000000</td>\n",
       "      <td>2.000000</td>\n",
       "      <td>...</td>\n",
       "      <td>1.000000</td>\n",
       "      <td>2.000000</td>\n",
       "      <td>1.000000</td>\n",
       "      <td>0.000000</td>\n",
       "      <td>1.000000</td>\n",
       "      <td>3.000000</td>\n",
       "      <td>3.000000</td>\n",
       "      <td>3.000000</td>\n",
       "      <td>4.000000</td>\n",
       "      <td>2.00000</td>\n",
       "    </tr>\n",
       "    <tr>\n",
       "      <th>50%</th>\n",
       "      <td>-1.000000</td>\n",
       "      <td>3.000000</td>\n",
       "      <td>2.000000</td>\n",
       "      <td>4.000000</td>\n",
       "      <td>3.000000</td>\n",
       "      <td>3.000000</td>\n",
       "      <td>3.000000</td>\n",
       "      <td>3.000000</td>\n",
       "      <td>3.000000</td>\n",
       "      <td>3.000000</td>\n",
       "      <td>...</td>\n",
       "      <td>2.000000</td>\n",
       "      <td>3.000000</td>\n",
       "      <td>2.000000</td>\n",
       "      <td>1.000000</td>\n",
       "      <td>1.000000</td>\n",
       "      <td>4.000000</td>\n",
       "      <td>3.000000</td>\n",
       "      <td>3.000000</td>\n",
       "      <td>5.000000</td>\n",
       "      <td>3.00000</td>\n",
       "    </tr>\n",
       "    <tr>\n",
       "      <th>75%</th>\n",
       "      <td>-1.000000</td>\n",
       "      <td>4.000000</td>\n",
       "      <td>2.000000</td>\n",
       "      <td>5.000000</td>\n",
       "      <td>4.000000</td>\n",
       "      <td>4.000000</td>\n",
       "      <td>5.000000</td>\n",
       "      <td>5.000000</td>\n",
       "      <td>4.000000</td>\n",
       "      <td>4.000000</td>\n",
       "      <td>...</td>\n",
       "      <td>3.000000</td>\n",
       "      <td>3.000000</td>\n",
       "      <td>2.000000</td>\n",
       "      <td>1.000000</td>\n",
       "      <td>3.000000</td>\n",
       "      <td>4.000000</td>\n",
       "      <td>4.000000</td>\n",
       "      <td>4.000000</td>\n",
       "      <td>7.000000</td>\n",
       "      <td>4.00000</td>\n",
       "    </tr>\n",
       "    <tr>\n",
       "      <th>max</th>\n",
       "      <td>3.000000</td>\n",
       "      <td>9.000000</td>\n",
       "      <td>2.000000</td>\n",
       "      <td>6.000000</td>\n",
       "      <td>5.000000</td>\n",
       "      <td>5.000000</td>\n",
       "      <td>5.000000</td>\n",
       "      <td>5.000000</td>\n",
       "      <td>5.000000</td>\n",
       "      <td>5.000000</td>\n",
       "      <td>...</td>\n",
       "      <td>4.000000</td>\n",
       "      <td>4.000000</td>\n",
       "      <td>3.000000</td>\n",
       "      <td>2.000000</td>\n",
       "      <td>5.000000</td>\n",
       "      <td>5.000000</td>\n",
       "      <td>5.000000</td>\n",
       "      <td>9.000000</td>\n",
       "      <td>9.000000</td>\n",
       "      <td>9.00000</td>\n",
       "    </tr>\n",
       "  </tbody>\n",
       "</table>\n",
       "<p>8 rows × 81 columns</p>\n",
       "</div>"
      ],
      "text/plain": [
       "            AGER_TYP  ALTERSKATEGORIE_GROB      ANREDE_KZ  CJT_GESAMTTYP  \\\n",
       "count  891221.000000         891221.000000  891221.000000  886367.000000   \n",
       "mean       -0.358435              2.777398       1.522098       3.632838   \n",
       "std         1.198724              1.068775       0.499512       1.595021   \n",
       "min        -1.000000              1.000000       1.000000       1.000000   \n",
       "25%        -1.000000              2.000000       1.000000       2.000000   \n",
       "50%        -1.000000              3.000000       2.000000       4.000000   \n",
       "75%        -1.000000              4.000000       2.000000       5.000000   \n",
       "max         3.000000              9.000000       2.000000       6.000000   \n",
       "\n",
       "       FINANZ_MINIMALIST  FINANZ_SPARER  FINANZ_VORSORGER  FINANZ_ANLEGER  \\\n",
       "count      891221.000000  891221.000000     891221.000000   891221.000000   \n",
       "mean            3.074528       2.821039          3.401106        3.033328   \n",
       "std             1.321055       1.464749          1.322134        1.529603   \n",
       "min             1.000000       1.000000          1.000000        1.000000   \n",
       "25%             2.000000       1.000000          3.000000        2.000000   \n",
       "50%             3.000000       3.000000          3.000000        3.000000   \n",
       "75%             4.000000       4.000000          5.000000        5.000000   \n",
       "max             5.000000       5.000000          5.000000        5.000000   \n",
       "\n",
       "       FINANZ_UNAUFFAELLIGER  FINANZ_HAUSBAUER      ...          PLZ8_ANTG1  \\\n",
       "count          891221.000000     891221.000000      ...       774706.000000   \n",
       "mean                2.874167          3.075121      ...            2.253330   \n",
       "std                 1.486731          1.353248      ...            0.972008   \n",
       "min                 1.000000          1.000000      ...            0.000000   \n",
       "25%                 2.000000          2.000000      ...            1.000000   \n",
       "50%                 3.000000          3.000000      ...            2.000000   \n",
       "75%                 4.000000          4.000000      ...            3.000000   \n",
       "max                 5.000000          5.000000      ...            4.000000   \n",
       "\n",
       "          PLZ8_ANTG2     PLZ8_ANTG3     PLZ8_ANTG4    PLZ8_BAUMAX  \\\n",
       "count  774706.000000  774706.000000  774706.000000  774706.000000   \n",
       "mean        2.801858       1.595426       0.699166       1.943913   \n",
       "std         0.920309       0.986736       0.727137       1.459654   \n",
       "min         0.000000       0.000000       0.000000       1.000000   \n",
       "25%         2.000000       1.000000       0.000000       1.000000   \n",
       "50%         3.000000       2.000000       1.000000       1.000000   \n",
       "75%         3.000000       2.000000       1.000000       3.000000   \n",
       "max         4.000000       3.000000       2.000000       5.000000   \n",
       "\n",
       "            PLZ8_HHZ       PLZ8_GBZ         ARBEIT    ORTSGR_KLS9  \\\n",
       "count  774706.000000  774706.000000  794005.000000  794005.000000   \n",
       "mean        3.612821       3.381087       3.167854       5.293002   \n",
       "std         0.973967       1.111598       1.002376       2.303739   \n",
       "min         1.000000       1.000000       1.000000       0.000000   \n",
       "25%         3.000000       3.000000       3.000000       4.000000   \n",
       "50%         4.000000       3.000000       3.000000       5.000000   \n",
       "75%         4.000000       4.000000       4.000000       7.000000   \n",
       "max         5.000000       5.000000       9.000000       9.000000   \n",
       "\n",
       "           RELAT_AB  \n",
       "count  794005.00000  \n",
       "mean        3.07222  \n",
       "std         1.36298  \n",
       "min         1.00000  \n",
       "25%         2.00000  \n",
       "50%         3.00000  \n",
       "75%         4.00000  \n",
       "max         9.00000  \n",
       "\n",
       "[8 rows x 81 columns]"
      ]
     },
     "execution_count": 6,
     "metadata": {},
     "output_type": "execute_result"
    }
   ],
   "source": [
    "azdias.describe()"
   ]
  },
  {
   "cell_type": "code",
   "execution_count": 7,
   "metadata": {
    "scrolled": true
   },
   "outputs": [
    {
     "name": "stdout",
     "output_type": "stream",
     "text": [
      "<class 'pandas.core.frame.DataFrame'>\n",
      "RangeIndex: 891221 entries, 0 to 891220\n",
      "Data columns (total 85 columns):\n",
      "AGER_TYP                 891221 non-null int64\n",
      "ALTERSKATEGORIE_GROB     891221 non-null int64\n",
      "ANREDE_KZ                891221 non-null int64\n",
      "CJT_GESAMTTYP            886367 non-null float64\n",
      "FINANZ_MINIMALIST        891221 non-null int64\n",
      "FINANZ_SPARER            891221 non-null int64\n",
      "FINANZ_VORSORGER         891221 non-null int64\n",
      "FINANZ_ANLEGER           891221 non-null int64\n",
      "FINANZ_UNAUFFAELLIGER    891221 non-null int64\n",
      "FINANZ_HAUSBAUER         891221 non-null int64\n",
      "FINANZTYP                891221 non-null int64\n",
      "GEBURTSJAHR              891221 non-null int64\n",
      "GFK_URLAUBERTYP          886367 non-null float64\n",
      "GREEN_AVANTGARDE         891221 non-null int64\n",
      "HEALTH_TYP               891221 non-null int64\n",
      "LP_LEBENSPHASE_FEIN      886367 non-null float64\n",
      "LP_LEBENSPHASE_GROB      886367 non-null float64\n",
      "LP_FAMILIE_FEIN          886367 non-null float64\n",
      "LP_FAMILIE_GROB          886367 non-null float64\n",
      "LP_STATUS_FEIN           886367 non-null float64\n",
      "LP_STATUS_GROB           886367 non-null float64\n",
      "NATIONALITAET_KZ         891221 non-null int64\n",
      "PRAEGENDE_JUGENDJAHRE    891221 non-null int64\n",
      "RETOURTYP_BK_S           886367 non-null float64\n",
      "SEMIO_SOZ                891221 non-null int64\n",
      "SEMIO_FAM                891221 non-null int64\n",
      "SEMIO_REL                891221 non-null int64\n",
      "SEMIO_MAT                891221 non-null int64\n",
      "SEMIO_VERT               891221 non-null int64\n",
      "SEMIO_LUST               891221 non-null int64\n",
      "SEMIO_ERL                891221 non-null int64\n",
      "SEMIO_KULT               891221 non-null int64\n",
      "SEMIO_RAT                891221 non-null int64\n",
      "SEMIO_KRIT               891221 non-null int64\n",
      "SEMIO_DOM                891221 non-null int64\n",
      "SEMIO_KAEM               891221 non-null int64\n",
      "SEMIO_PFLICHT            891221 non-null int64\n",
      "SEMIO_TRADV              891221 non-null int64\n",
      "SHOPPER_TYP              891221 non-null int64\n",
      "SOHO_KZ                  817722 non-null float64\n",
      "TITEL_KZ                 817722 non-null float64\n",
      "VERS_TYP                 891221 non-null int64\n",
      "ZABEOTYP                 891221 non-null int64\n",
      "ALTER_HH                 817722 non-null float64\n",
      "ANZ_PERSONEN             817722 non-null float64\n",
      "ANZ_TITEL                817722 non-null float64\n",
      "HH_EINKOMMEN_SCORE       872873 non-null float64\n",
      "KK_KUNDENTYP             306609 non-null float64\n",
      "W_KEIT_KIND_HH           783619 non-null float64\n",
      "WOHNDAUER_2008           817722 non-null float64\n",
      "ANZ_HAUSHALTE_AKTIV      798073 non-null float64\n",
      "ANZ_HH_TITEL             794213 non-null float64\n",
      "GEBAEUDETYP              798073 non-null float64\n",
      "KONSUMNAEHE              817252 non-null float64\n",
      "MIN_GEBAEUDEJAHR         798073 non-null float64\n",
      "OST_WEST_KZ              798073 non-null object\n",
      "WOHNLAGE                 798073 non-null float64\n",
      "CAMEO_DEUG_2015          792242 non-null object\n",
      "CAMEO_DEU_2015           792242 non-null object\n",
      "CAMEO_INTL_2015          792242 non-null object\n",
      "KBA05_ANTG1              757897 non-null float64\n",
      "KBA05_ANTG2              757897 non-null float64\n",
      "KBA05_ANTG3              757897 non-null float64\n",
      "KBA05_ANTG4              757897 non-null float64\n",
      "KBA05_BAUMAX             757897 non-null float64\n",
      "KBA05_GBZ                757897 non-null float64\n",
      "BALLRAUM                 797481 non-null float64\n",
      "EWDICHTE                 797481 non-null float64\n",
      "INNENSTADT               797481 non-null float64\n",
      "GEBAEUDETYP_RASTER       798066 non-null float64\n",
      "KKK                      770025 non-null float64\n",
      "MOBI_REGIO               757897 non-null float64\n",
      "ONLINE_AFFINITAET        886367 non-null float64\n",
      "REGIOTYP                 770025 non-null float64\n",
      "KBA13_ANZAHL_PKW         785421 non-null float64\n",
      "PLZ8_ANTG1               774706 non-null float64\n",
      "PLZ8_ANTG2               774706 non-null float64\n",
      "PLZ8_ANTG3               774706 non-null float64\n",
      "PLZ8_ANTG4               774706 non-null float64\n",
      "PLZ8_BAUMAX              774706 non-null float64\n",
      "PLZ8_HHZ                 774706 non-null float64\n",
      "PLZ8_GBZ                 774706 non-null float64\n",
      "ARBEIT                   794005 non-null float64\n",
      "ORTSGR_KLS9              794005 non-null float64\n",
      "RELAT_AB                 794005 non-null float64\n",
      "dtypes: float64(49), int64(32), object(4)\n",
      "memory usage: 578.0+ MB\n"
     ]
    }
   ],
   "source": [
    "azdias.info()"
   ]
  },
  {
   "cell_type": "code",
   "execution_count": 8,
   "metadata": {},
   "outputs": [
    {
     "data": {
      "text/plain": [
       "4896838"
      ]
     },
     "execution_count": 8,
     "metadata": {},
     "output_type": "execute_result"
    }
   ],
   "source": [
    "azdias.isna().sum().sum()"
   ]
  },
  {
   "cell_type": "code",
   "execution_count": 9,
   "metadata": {
    "scrolled": true
   },
   "outputs": [
    {
     "data": {
      "text/html": [
       "<div>\n",
       "<style scoped>\n",
       "    .dataframe tbody tr th:only-of-type {\n",
       "        vertical-align: middle;\n",
       "    }\n",
       "\n",
       "    .dataframe tbody tr th {\n",
       "        vertical-align: top;\n",
       "    }\n",
       "\n",
       "    .dataframe thead th {\n",
       "        text-align: right;\n",
       "    }\n",
       "</style>\n",
       "<table border=\"1\" class=\"dataframe\">\n",
       "  <thead>\n",
       "    <tr style=\"text-align: right;\">\n",
       "      <th></th>\n",
       "      <th>attribute</th>\n",
       "      <th>information_level</th>\n",
       "      <th>type</th>\n",
       "      <th>missing_or_unknown</th>\n",
       "    </tr>\n",
       "  </thead>\n",
       "  <tbody>\n",
       "    <tr>\n",
       "      <th>0</th>\n",
       "      <td>AGER_TYP</td>\n",
       "      <td>person</td>\n",
       "      <td>categorical</td>\n",
       "      <td>[-1,0]</td>\n",
       "    </tr>\n",
       "    <tr>\n",
       "      <th>1</th>\n",
       "      <td>ALTERSKATEGORIE_GROB</td>\n",
       "      <td>person</td>\n",
       "      <td>ordinal</td>\n",
       "      <td>[-1,0,9]</td>\n",
       "    </tr>\n",
       "    <tr>\n",
       "      <th>2</th>\n",
       "      <td>ANREDE_KZ</td>\n",
       "      <td>person</td>\n",
       "      <td>categorical</td>\n",
       "      <td>[-1,0]</td>\n",
       "    </tr>\n",
       "    <tr>\n",
       "      <th>3</th>\n",
       "      <td>CJT_GESAMTTYP</td>\n",
       "      <td>person</td>\n",
       "      <td>categorical</td>\n",
       "      <td>[0]</td>\n",
       "    </tr>\n",
       "    <tr>\n",
       "      <th>4</th>\n",
       "      <td>FINANZ_MINIMALIST</td>\n",
       "      <td>person</td>\n",
       "      <td>ordinal</td>\n",
       "      <td>[-1]</td>\n",
       "    </tr>\n",
       "    <tr>\n",
       "      <th>5</th>\n",
       "      <td>FINANZ_SPARER</td>\n",
       "      <td>person</td>\n",
       "      <td>ordinal</td>\n",
       "      <td>[-1]</td>\n",
       "    </tr>\n",
       "    <tr>\n",
       "      <th>6</th>\n",
       "      <td>FINANZ_VORSORGER</td>\n",
       "      <td>person</td>\n",
       "      <td>ordinal</td>\n",
       "      <td>[-1]</td>\n",
       "    </tr>\n",
       "    <tr>\n",
       "      <th>7</th>\n",
       "      <td>FINANZ_ANLEGER</td>\n",
       "      <td>person</td>\n",
       "      <td>ordinal</td>\n",
       "      <td>[-1]</td>\n",
       "    </tr>\n",
       "    <tr>\n",
       "      <th>8</th>\n",
       "      <td>FINANZ_UNAUFFAELLIGER</td>\n",
       "      <td>person</td>\n",
       "      <td>ordinal</td>\n",
       "      <td>[-1]</td>\n",
       "    </tr>\n",
       "    <tr>\n",
       "      <th>9</th>\n",
       "      <td>FINANZ_HAUSBAUER</td>\n",
       "      <td>person</td>\n",
       "      <td>ordinal</td>\n",
       "      <td>[-1]</td>\n",
       "    </tr>\n",
       "    <tr>\n",
       "      <th>10</th>\n",
       "      <td>FINANZTYP</td>\n",
       "      <td>person</td>\n",
       "      <td>categorical</td>\n",
       "      <td>[-1]</td>\n",
       "    </tr>\n",
       "    <tr>\n",
       "      <th>11</th>\n",
       "      <td>GEBURTSJAHR</td>\n",
       "      <td>person</td>\n",
       "      <td>numeric</td>\n",
       "      <td>[0]</td>\n",
       "    </tr>\n",
       "    <tr>\n",
       "      <th>12</th>\n",
       "      <td>GFK_URLAUBERTYP</td>\n",
       "      <td>person</td>\n",
       "      <td>categorical</td>\n",
       "      <td>[]</td>\n",
       "    </tr>\n",
       "    <tr>\n",
       "      <th>13</th>\n",
       "      <td>GREEN_AVANTGARDE</td>\n",
       "      <td>person</td>\n",
       "      <td>categorical</td>\n",
       "      <td>[]</td>\n",
       "    </tr>\n",
       "    <tr>\n",
       "      <th>14</th>\n",
       "      <td>HEALTH_TYP</td>\n",
       "      <td>person</td>\n",
       "      <td>ordinal</td>\n",
       "      <td>[-1,0]</td>\n",
       "    </tr>\n",
       "    <tr>\n",
       "      <th>15</th>\n",
       "      <td>LP_LEBENSPHASE_FEIN</td>\n",
       "      <td>person</td>\n",
       "      <td>mixed</td>\n",
       "      <td>[0]</td>\n",
       "    </tr>\n",
       "    <tr>\n",
       "      <th>16</th>\n",
       "      <td>LP_LEBENSPHASE_GROB</td>\n",
       "      <td>person</td>\n",
       "      <td>mixed</td>\n",
       "      <td>[0]</td>\n",
       "    </tr>\n",
       "    <tr>\n",
       "      <th>17</th>\n",
       "      <td>LP_FAMILIE_FEIN</td>\n",
       "      <td>person</td>\n",
       "      <td>categorical</td>\n",
       "      <td>[0]</td>\n",
       "    </tr>\n",
       "    <tr>\n",
       "      <th>18</th>\n",
       "      <td>LP_FAMILIE_GROB</td>\n",
       "      <td>person</td>\n",
       "      <td>categorical</td>\n",
       "      <td>[0]</td>\n",
       "    </tr>\n",
       "    <tr>\n",
       "      <th>19</th>\n",
       "      <td>LP_STATUS_FEIN</td>\n",
       "      <td>person</td>\n",
       "      <td>categorical</td>\n",
       "      <td>[0]</td>\n",
       "    </tr>\n",
       "    <tr>\n",
       "      <th>20</th>\n",
       "      <td>LP_STATUS_GROB</td>\n",
       "      <td>person</td>\n",
       "      <td>categorical</td>\n",
       "      <td>[0]</td>\n",
       "    </tr>\n",
       "    <tr>\n",
       "      <th>21</th>\n",
       "      <td>NATIONALITAET_KZ</td>\n",
       "      <td>person</td>\n",
       "      <td>categorical</td>\n",
       "      <td>[-1,0]</td>\n",
       "    </tr>\n",
       "    <tr>\n",
       "      <th>22</th>\n",
       "      <td>PRAEGENDE_JUGENDJAHRE</td>\n",
       "      <td>person</td>\n",
       "      <td>mixed</td>\n",
       "      <td>[-1,0]</td>\n",
       "    </tr>\n",
       "    <tr>\n",
       "      <th>23</th>\n",
       "      <td>RETOURTYP_BK_S</td>\n",
       "      <td>person</td>\n",
       "      <td>ordinal</td>\n",
       "      <td>[0]</td>\n",
       "    </tr>\n",
       "    <tr>\n",
       "      <th>24</th>\n",
       "      <td>SEMIO_SOZ</td>\n",
       "      <td>person</td>\n",
       "      <td>ordinal</td>\n",
       "      <td>[-1,9]</td>\n",
       "    </tr>\n",
       "    <tr>\n",
       "      <th>25</th>\n",
       "      <td>SEMIO_FAM</td>\n",
       "      <td>person</td>\n",
       "      <td>ordinal</td>\n",
       "      <td>[-1,9]</td>\n",
       "    </tr>\n",
       "    <tr>\n",
       "      <th>26</th>\n",
       "      <td>SEMIO_REL</td>\n",
       "      <td>person</td>\n",
       "      <td>ordinal</td>\n",
       "      <td>[-1,9]</td>\n",
       "    </tr>\n",
       "    <tr>\n",
       "      <th>27</th>\n",
       "      <td>SEMIO_MAT</td>\n",
       "      <td>person</td>\n",
       "      <td>ordinal</td>\n",
       "      <td>[-1,9]</td>\n",
       "    </tr>\n",
       "    <tr>\n",
       "      <th>28</th>\n",
       "      <td>SEMIO_VERT</td>\n",
       "      <td>person</td>\n",
       "      <td>ordinal</td>\n",
       "      <td>[-1,9]</td>\n",
       "    </tr>\n",
       "    <tr>\n",
       "      <th>29</th>\n",
       "      <td>SEMIO_LUST</td>\n",
       "      <td>person</td>\n",
       "      <td>ordinal</td>\n",
       "      <td>[-1,9]</td>\n",
       "    </tr>\n",
       "    <tr>\n",
       "      <th>...</th>\n",
       "      <td>...</td>\n",
       "      <td>...</td>\n",
       "      <td>...</td>\n",
       "      <td>...</td>\n",
       "    </tr>\n",
       "    <tr>\n",
       "      <th>55</th>\n",
       "      <td>OST_WEST_KZ</td>\n",
       "      <td>building</td>\n",
       "      <td>categorical</td>\n",
       "      <td>[-1]</td>\n",
       "    </tr>\n",
       "    <tr>\n",
       "      <th>56</th>\n",
       "      <td>WOHNLAGE</td>\n",
       "      <td>building</td>\n",
       "      <td>mixed</td>\n",
       "      <td>[-1]</td>\n",
       "    </tr>\n",
       "    <tr>\n",
       "      <th>57</th>\n",
       "      <td>CAMEO_DEUG_2015</td>\n",
       "      <td>microcell_rr4</td>\n",
       "      <td>categorical</td>\n",
       "      <td>[-1,X]</td>\n",
       "    </tr>\n",
       "    <tr>\n",
       "      <th>58</th>\n",
       "      <td>CAMEO_DEU_2015</td>\n",
       "      <td>microcell_rr4</td>\n",
       "      <td>categorical</td>\n",
       "      <td>[XX]</td>\n",
       "    </tr>\n",
       "    <tr>\n",
       "      <th>59</th>\n",
       "      <td>CAMEO_INTL_2015</td>\n",
       "      <td>microcell_rr4</td>\n",
       "      <td>mixed</td>\n",
       "      <td>[-1,XX]</td>\n",
       "    </tr>\n",
       "    <tr>\n",
       "      <th>60</th>\n",
       "      <td>KBA05_ANTG1</td>\n",
       "      <td>microcell_rr3</td>\n",
       "      <td>ordinal</td>\n",
       "      <td>[-1]</td>\n",
       "    </tr>\n",
       "    <tr>\n",
       "      <th>61</th>\n",
       "      <td>KBA05_ANTG2</td>\n",
       "      <td>microcell_rr3</td>\n",
       "      <td>ordinal</td>\n",
       "      <td>[-1]</td>\n",
       "    </tr>\n",
       "    <tr>\n",
       "      <th>62</th>\n",
       "      <td>KBA05_ANTG3</td>\n",
       "      <td>microcell_rr3</td>\n",
       "      <td>ordinal</td>\n",
       "      <td>[-1]</td>\n",
       "    </tr>\n",
       "    <tr>\n",
       "      <th>63</th>\n",
       "      <td>KBA05_ANTG4</td>\n",
       "      <td>microcell_rr3</td>\n",
       "      <td>ordinal</td>\n",
       "      <td>[-1]</td>\n",
       "    </tr>\n",
       "    <tr>\n",
       "      <th>64</th>\n",
       "      <td>KBA05_BAUMAX</td>\n",
       "      <td>microcell_rr3</td>\n",
       "      <td>mixed</td>\n",
       "      <td>[-1,0]</td>\n",
       "    </tr>\n",
       "    <tr>\n",
       "      <th>65</th>\n",
       "      <td>KBA05_GBZ</td>\n",
       "      <td>microcell_rr3</td>\n",
       "      <td>ordinal</td>\n",
       "      <td>[-1,0]</td>\n",
       "    </tr>\n",
       "    <tr>\n",
       "      <th>66</th>\n",
       "      <td>BALLRAUM</td>\n",
       "      <td>postcode</td>\n",
       "      <td>ordinal</td>\n",
       "      <td>[-1]</td>\n",
       "    </tr>\n",
       "    <tr>\n",
       "      <th>67</th>\n",
       "      <td>EWDICHTE</td>\n",
       "      <td>postcode</td>\n",
       "      <td>ordinal</td>\n",
       "      <td>[-1]</td>\n",
       "    </tr>\n",
       "    <tr>\n",
       "      <th>68</th>\n",
       "      <td>INNENSTADT</td>\n",
       "      <td>postcode</td>\n",
       "      <td>ordinal</td>\n",
       "      <td>[-1]</td>\n",
       "    </tr>\n",
       "    <tr>\n",
       "      <th>69</th>\n",
       "      <td>GEBAEUDETYP_RASTER</td>\n",
       "      <td>region_rr1</td>\n",
       "      <td>ordinal</td>\n",
       "      <td>[]</td>\n",
       "    </tr>\n",
       "    <tr>\n",
       "      <th>70</th>\n",
       "      <td>KKK</td>\n",
       "      <td>region_rr1</td>\n",
       "      <td>ordinal</td>\n",
       "      <td>[-1,0]</td>\n",
       "    </tr>\n",
       "    <tr>\n",
       "      <th>71</th>\n",
       "      <td>MOBI_REGIO</td>\n",
       "      <td>region_rr1</td>\n",
       "      <td>ordinal</td>\n",
       "      <td>[]</td>\n",
       "    </tr>\n",
       "    <tr>\n",
       "      <th>72</th>\n",
       "      <td>ONLINE_AFFINITAET</td>\n",
       "      <td>region_rr1</td>\n",
       "      <td>ordinal</td>\n",
       "      <td>[]</td>\n",
       "    </tr>\n",
       "    <tr>\n",
       "      <th>73</th>\n",
       "      <td>REGIOTYP</td>\n",
       "      <td>region_rr1</td>\n",
       "      <td>ordinal</td>\n",
       "      <td>[-1,0]</td>\n",
       "    </tr>\n",
       "    <tr>\n",
       "      <th>74</th>\n",
       "      <td>KBA13_ANZAHL_PKW</td>\n",
       "      <td>macrocell_plz8</td>\n",
       "      <td>numeric</td>\n",
       "      <td>[]</td>\n",
       "    </tr>\n",
       "    <tr>\n",
       "      <th>75</th>\n",
       "      <td>PLZ8_ANTG1</td>\n",
       "      <td>macrocell_plz8</td>\n",
       "      <td>ordinal</td>\n",
       "      <td>[-1]</td>\n",
       "    </tr>\n",
       "    <tr>\n",
       "      <th>76</th>\n",
       "      <td>PLZ8_ANTG2</td>\n",
       "      <td>macrocell_plz8</td>\n",
       "      <td>ordinal</td>\n",
       "      <td>[-1]</td>\n",
       "    </tr>\n",
       "    <tr>\n",
       "      <th>77</th>\n",
       "      <td>PLZ8_ANTG3</td>\n",
       "      <td>macrocell_plz8</td>\n",
       "      <td>ordinal</td>\n",
       "      <td>[-1]</td>\n",
       "    </tr>\n",
       "    <tr>\n",
       "      <th>78</th>\n",
       "      <td>PLZ8_ANTG4</td>\n",
       "      <td>macrocell_plz8</td>\n",
       "      <td>ordinal</td>\n",
       "      <td>[-1]</td>\n",
       "    </tr>\n",
       "    <tr>\n",
       "      <th>79</th>\n",
       "      <td>PLZ8_BAUMAX</td>\n",
       "      <td>macrocell_plz8</td>\n",
       "      <td>mixed</td>\n",
       "      <td>[-1,0]</td>\n",
       "    </tr>\n",
       "    <tr>\n",
       "      <th>80</th>\n",
       "      <td>PLZ8_HHZ</td>\n",
       "      <td>macrocell_plz8</td>\n",
       "      <td>ordinal</td>\n",
       "      <td>[-1]</td>\n",
       "    </tr>\n",
       "    <tr>\n",
       "      <th>81</th>\n",
       "      <td>PLZ8_GBZ</td>\n",
       "      <td>macrocell_plz8</td>\n",
       "      <td>ordinal</td>\n",
       "      <td>[-1]</td>\n",
       "    </tr>\n",
       "    <tr>\n",
       "      <th>82</th>\n",
       "      <td>ARBEIT</td>\n",
       "      <td>community</td>\n",
       "      <td>ordinal</td>\n",
       "      <td>[-1,9]</td>\n",
       "    </tr>\n",
       "    <tr>\n",
       "      <th>83</th>\n",
       "      <td>ORTSGR_KLS9</td>\n",
       "      <td>community</td>\n",
       "      <td>ordinal</td>\n",
       "      <td>[-1,0]</td>\n",
       "    </tr>\n",
       "    <tr>\n",
       "      <th>84</th>\n",
       "      <td>RELAT_AB</td>\n",
       "      <td>community</td>\n",
       "      <td>ordinal</td>\n",
       "      <td>[-1,9]</td>\n",
       "    </tr>\n",
       "  </tbody>\n",
       "</table>\n",
       "<p>85 rows × 4 columns</p>\n",
       "</div>"
      ],
      "text/plain": [
       "                attribute information_level         type missing_or_unknown\n",
       "0                AGER_TYP            person  categorical             [-1,0]\n",
       "1    ALTERSKATEGORIE_GROB            person      ordinal           [-1,0,9]\n",
       "2               ANREDE_KZ            person  categorical             [-1,0]\n",
       "3           CJT_GESAMTTYP            person  categorical                [0]\n",
       "4       FINANZ_MINIMALIST            person      ordinal               [-1]\n",
       "5           FINANZ_SPARER            person      ordinal               [-1]\n",
       "6        FINANZ_VORSORGER            person      ordinal               [-1]\n",
       "7          FINANZ_ANLEGER            person      ordinal               [-1]\n",
       "8   FINANZ_UNAUFFAELLIGER            person      ordinal               [-1]\n",
       "9        FINANZ_HAUSBAUER            person      ordinal               [-1]\n",
       "10              FINANZTYP            person  categorical               [-1]\n",
       "11            GEBURTSJAHR            person      numeric                [0]\n",
       "12        GFK_URLAUBERTYP            person  categorical                 []\n",
       "13       GREEN_AVANTGARDE            person  categorical                 []\n",
       "14             HEALTH_TYP            person      ordinal             [-1,0]\n",
       "15    LP_LEBENSPHASE_FEIN            person        mixed                [0]\n",
       "16    LP_LEBENSPHASE_GROB            person        mixed                [0]\n",
       "17        LP_FAMILIE_FEIN            person  categorical                [0]\n",
       "18        LP_FAMILIE_GROB            person  categorical                [0]\n",
       "19         LP_STATUS_FEIN            person  categorical                [0]\n",
       "20         LP_STATUS_GROB            person  categorical                [0]\n",
       "21       NATIONALITAET_KZ            person  categorical             [-1,0]\n",
       "22  PRAEGENDE_JUGENDJAHRE            person        mixed             [-1,0]\n",
       "23         RETOURTYP_BK_S            person      ordinal                [0]\n",
       "24              SEMIO_SOZ            person      ordinal             [-1,9]\n",
       "25              SEMIO_FAM            person      ordinal             [-1,9]\n",
       "26              SEMIO_REL            person      ordinal             [-1,9]\n",
       "27              SEMIO_MAT            person      ordinal             [-1,9]\n",
       "28             SEMIO_VERT            person      ordinal             [-1,9]\n",
       "29             SEMIO_LUST            person      ordinal             [-1,9]\n",
       "..                    ...               ...          ...                ...\n",
       "55            OST_WEST_KZ          building  categorical               [-1]\n",
       "56               WOHNLAGE          building        mixed               [-1]\n",
       "57        CAMEO_DEUG_2015     microcell_rr4  categorical             [-1,X]\n",
       "58         CAMEO_DEU_2015     microcell_rr4  categorical               [XX]\n",
       "59        CAMEO_INTL_2015     microcell_rr4        mixed            [-1,XX]\n",
       "60            KBA05_ANTG1     microcell_rr3      ordinal               [-1]\n",
       "61            KBA05_ANTG2     microcell_rr3      ordinal               [-1]\n",
       "62            KBA05_ANTG3     microcell_rr3      ordinal               [-1]\n",
       "63            KBA05_ANTG4     microcell_rr3      ordinal               [-1]\n",
       "64           KBA05_BAUMAX     microcell_rr3        mixed             [-1,0]\n",
       "65              KBA05_GBZ     microcell_rr3      ordinal             [-1,0]\n",
       "66               BALLRAUM          postcode      ordinal               [-1]\n",
       "67               EWDICHTE          postcode      ordinal               [-1]\n",
       "68             INNENSTADT          postcode      ordinal               [-1]\n",
       "69     GEBAEUDETYP_RASTER        region_rr1      ordinal                 []\n",
       "70                    KKK        region_rr1      ordinal             [-1,0]\n",
       "71             MOBI_REGIO        region_rr1      ordinal                 []\n",
       "72      ONLINE_AFFINITAET        region_rr1      ordinal                 []\n",
       "73               REGIOTYP        region_rr1      ordinal             [-1,0]\n",
       "74       KBA13_ANZAHL_PKW    macrocell_plz8      numeric                 []\n",
       "75             PLZ8_ANTG1    macrocell_plz8      ordinal               [-1]\n",
       "76             PLZ8_ANTG2    macrocell_plz8      ordinal               [-1]\n",
       "77             PLZ8_ANTG3    macrocell_plz8      ordinal               [-1]\n",
       "78             PLZ8_ANTG4    macrocell_plz8      ordinal               [-1]\n",
       "79            PLZ8_BAUMAX    macrocell_plz8        mixed             [-1,0]\n",
       "80               PLZ8_HHZ    macrocell_plz8      ordinal               [-1]\n",
       "81               PLZ8_GBZ    macrocell_plz8      ordinal               [-1]\n",
       "82                 ARBEIT         community      ordinal             [-1,9]\n",
       "83            ORTSGR_KLS9         community      ordinal             [-1,0]\n",
       "84               RELAT_AB         community      ordinal             [-1,9]\n",
       "\n",
       "[85 rows x 4 columns]"
      ]
     },
     "execution_count": 9,
     "metadata": {},
     "output_type": "execute_result"
    }
   ],
   "source": [
    "feat_info"
   ]
  },
  {
   "cell_type": "markdown",
   "metadata": {},
   "source": [
    "> **Tip**: Add additional cells to keep everything in reasonably-sized chunks! Keyboard shortcut `esc --> a` (press escape to enter command mode, then press the 'A' key) adds a new cell before the active cell, and `esc --> b` adds a new cell after the active cell. If you need to convert an active cell to a markdown cell, use `esc --> m` and to convert to a code cell, use `esc --> y`. \n",
    "\n",
    "## Step 1: Preprocessing\n",
    "\n",
    "### Step 1.1: Assess Missing Data\n",
    "\n",
    "The feature summary file contains a summary of properties for each demographics data column. You will use this file to help you make cleaning decisions during this stage of the project. First of all, you should assess the demographics data in terms of missing data. Pay attention to the following points as you perform your analysis, and take notes on what you observe. Make sure that you fill in the **Discussion** cell with your findings and decisions at the end of each step that has one!\n",
    "\n",
    "#### Step 1.1.1: Convert Missing Value Codes to NaNs\n",
    "The fourth column of the feature attributes summary (loaded in above as `feat_info`) documents the codes from the data dictionary that indicate missing or unknown data. While the file encodes this as a list (e.g. `[-1,0]`), this will get read in as a string object. You'll need to do a little bit of parsing to make use of it to identify and clean the data. Convert data that matches a 'missing' or 'unknown' value code into a numpy NaN value. You might want to see how much data takes on a 'missing' or 'unknown' code, and how much data is naturally missing, as a point of interest.\n",
    "\n",
    "**As one more reminder, you are encouraged to add additional cells to break up your analysis into manageable chunks.**"
   ]
  },
  {
   "cell_type": "code",
   "execution_count": 10,
   "metadata": {},
   "outputs": [
    {
     "data": {
      "text/html": [
       "<div>\n",
       "<style scoped>\n",
       "    .dataframe tbody tr th:only-of-type {\n",
       "        vertical-align: middle;\n",
       "    }\n",
       "\n",
       "    .dataframe tbody tr th {\n",
       "        vertical-align: top;\n",
       "    }\n",
       "\n",
       "    .dataframe thead th {\n",
       "        text-align: right;\n",
       "    }\n",
       "</style>\n",
       "<table border=\"1\" class=\"dataframe\">\n",
       "  <thead>\n",
       "    <tr style=\"text-align: right;\">\n",
       "      <th></th>\n",
       "      <th>attribute</th>\n",
       "      <th>information_level</th>\n",
       "      <th>type</th>\n",
       "      <th>missing_or_unknown</th>\n",
       "      <th>clean_tag</th>\n",
       "    </tr>\n",
       "  </thead>\n",
       "  <tbody>\n",
       "    <tr>\n",
       "      <th>0</th>\n",
       "      <td>AGER_TYP</td>\n",
       "      <td>person</td>\n",
       "      <td>categorical</td>\n",
       "      <td>[-1,0]</td>\n",
       "      <td>-1,0</td>\n",
       "    </tr>\n",
       "    <tr>\n",
       "      <th>1</th>\n",
       "      <td>ALTERSKATEGORIE_GROB</td>\n",
       "      <td>person</td>\n",
       "      <td>ordinal</td>\n",
       "      <td>[-1,0,9]</td>\n",
       "      <td>-1,0,9</td>\n",
       "    </tr>\n",
       "    <tr>\n",
       "      <th>2</th>\n",
       "      <td>ANREDE_KZ</td>\n",
       "      <td>person</td>\n",
       "      <td>categorical</td>\n",
       "      <td>[-1,0]</td>\n",
       "      <td>-1,0</td>\n",
       "    </tr>\n",
       "    <tr>\n",
       "      <th>3</th>\n",
       "      <td>CJT_GESAMTTYP</td>\n",
       "      <td>person</td>\n",
       "      <td>categorical</td>\n",
       "      <td>[0]</td>\n",
       "      <td>0</td>\n",
       "    </tr>\n",
       "    <tr>\n",
       "      <th>4</th>\n",
       "      <td>FINANZ_MINIMALIST</td>\n",
       "      <td>person</td>\n",
       "      <td>ordinal</td>\n",
       "      <td>[-1]</td>\n",
       "      <td>-1</td>\n",
       "    </tr>\n",
       "  </tbody>\n",
       "</table>\n",
       "</div>"
      ],
      "text/plain": [
       "              attribute information_level         type missing_or_unknown  \\\n",
       "0              AGER_TYP            person  categorical             [-1,0]   \n",
       "1  ALTERSKATEGORIE_GROB            person      ordinal           [-1,0,9]   \n",
       "2             ANREDE_KZ            person  categorical             [-1,0]   \n",
       "3         CJT_GESAMTTYP            person  categorical                [0]   \n",
       "4     FINANZ_MINIMALIST            person      ordinal               [-1]   \n",
       "\n",
       "  clean_tag  \n",
       "0      -1,0  \n",
       "1    -1,0,9  \n",
       "2      -1,0  \n",
       "3         0  \n",
       "4        -1  "
      ]
     },
     "execution_count": 10,
     "metadata": {},
     "output_type": "execute_result"
    }
   ],
   "source": [
    "# Identify missing or unknown data values and convert them to NaNs.\n",
    "\n",
    "# Prepare str for conversion\n",
    "miss_tag = feat_info['missing_or_unknown'].str.replace('[','')\n",
    "miss_tag = miss_tag.str.replace(']','')\n",
    "feat_info['clean_tag'] = miss_tag\n",
    "feat_info.head()\n"
   ]
  },
  {
   "cell_type": "code",
   "execution_count": 11,
   "metadata": {},
   "outputs": [],
   "source": [
    "# Fill missing/erroneous values with NaN\n",
    "for column in range(azdias.shape[1]):\n",
    "    tag_tup = feat_info.iloc[column]['clean_tag']\n",
    "    tag_arr = tag_tup.split(sep=\",\")\n",
    "    tag = [eval(i) if (i != 'X' and i != 'XX' and i != '') else i for i in tag_arr] # Convert sttr to int\n",
    "    if tag != ['']:\n",
    "        azdias = azdias.replace({feat_info.iloc[column]['attribute']:tag}, np.nan) # Nested dict for finding tag values in attribute"
   ]
  },
  {
   "cell_type": "code",
<<<<<<< HEAD
   "execution_count": 12,
=======
   "execution_count": 10,
>>>>>>> d5ca0ed332afa9678dbdb657c09097591c65c96a
   "metadata": {},
   "outputs": [
    {
     "data": {
      "text/plain": [
       "8373929"
      ]
     },
<<<<<<< HEAD
     "execution_count": 12,
=======
     "execution_count": 10,
>>>>>>> d5ca0ed332afa9678dbdb657c09097591c65c96a
     "metadata": {},
     "output_type": "execute_result"
    }
   ],
   "source": [
    "azdias.isna().sum().sum()"
   ]
  },
  {
   "cell_type": "code",
<<<<<<< HEAD
   "execution_count": 13,
=======
   "execution_count": 11,
>>>>>>> d5ca0ed332afa9678dbdb657c09097591c65c96a
   "metadata": {},
   "outputs": [
    {
     "data": {
      "text/html": [
       "<div>\n",
       "<style scoped>\n",
       "    .dataframe tbody tr th:only-of-type {\n",
       "        vertical-align: middle;\n",
       "    }\n",
       "\n",
       "    .dataframe tbody tr th {\n",
       "        vertical-align: top;\n",
       "    }\n",
       "\n",
       "    .dataframe thead th {\n",
       "        text-align: right;\n",
       "    }\n",
       "</style>\n",
       "<table border=\"1\" class=\"dataframe\">\n",
       "  <thead>\n",
       "    <tr style=\"text-align: right;\">\n",
       "      <th></th>\n",
       "      <th>AGER_TYP</th>\n",
       "      <th>ALTERSKATEGORIE_GROB</th>\n",
       "      <th>ANREDE_KZ</th>\n",
       "      <th>CJT_GESAMTTYP</th>\n",
       "      <th>FINANZ_MINIMALIST</th>\n",
       "      <th>FINANZ_SPARER</th>\n",
       "      <th>FINANZ_VORSORGER</th>\n",
       "      <th>FINANZ_ANLEGER</th>\n",
       "      <th>FINANZ_UNAUFFAELLIGER</th>\n",
       "      <th>FINANZ_HAUSBAUER</th>\n",
       "      <th>...</th>\n",
       "      <th>PLZ8_ANTG1</th>\n",
       "      <th>PLZ8_ANTG2</th>\n",
       "      <th>PLZ8_ANTG3</th>\n",
       "      <th>PLZ8_ANTG4</th>\n",
       "      <th>PLZ8_BAUMAX</th>\n",
       "      <th>PLZ8_HHZ</th>\n",
       "      <th>PLZ8_GBZ</th>\n",
       "      <th>ARBEIT</th>\n",
       "      <th>ORTSGR_KLS9</th>\n",
       "      <th>RELAT_AB</th>\n",
       "    </tr>\n",
       "  </thead>\n",
       "  <tbody>\n",
       "    <tr>\n",
       "      <th>891216</th>\n",
       "      <td>NaN</td>\n",
       "      <td>3.0</td>\n",
       "      <td>2</td>\n",
       "      <td>5.0</td>\n",
       "      <td>1</td>\n",
       "      <td>4</td>\n",
       "      <td>2</td>\n",
       "      <td>5</td>\n",
       "      <td>4</td>\n",
       "      <td>4</td>\n",
       "      <td>...</td>\n",
       "      <td>3.0</td>\n",
       "      <td>2.0</td>\n",
       "      <td>0.0</td>\n",
       "      <td>0.0</td>\n",
       "      <td>1.0</td>\n",
       "      <td>2.0</td>\n",
       "      <td>3.0</td>\n",
       "      <td>NaN</td>\n",
       "      <td>NaN</td>\n",
       "      <td>NaN</td>\n",
       "    </tr>\n",
       "    <tr>\n",
       "      <th>891217</th>\n",
       "      <td>NaN</td>\n",
       "      <td>2.0</td>\n",
       "      <td>1</td>\n",
       "      <td>4.0</td>\n",
       "      <td>3</td>\n",
       "      <td>3</td>\n",
       "      <td>3</td>\n",
       "      <td>2</td>\n",
       "      <td>2</td>\n",
       "      <td>3</td>\n",
       "      <td>...</td>\n",
       "      <td>1.0</td>\n",
       "      <td>3.0</td>\n",
       "      <td>3.0</td>\n",
       "      <td>2.0</td>\n",
       "      <td>4.0</td>\n",
       "      <td>5.0</td>\n",
       "      <td>3.0</td>\n",
       "      <td>4.0</td>\n",
       "      <td>6.0</td>\n",
       "      <td>5.0</td>\n",
       "    </tr>\n",
       "    <tr>\n",
       "      <th>891218</th>\n",
       "      <td>NaN</td>\n",
       "      <td>2.0</td>\n",
       "      <td>2</td>\n",
       "      <td>4.0</td>\n",
       "      <td>2</td>\n",
       "      <td>4</td>\n",
       "      <td>2</td>\n",
       "      <td>5</td>\n",
       "      <td>4</td>\n",
       "      <td>3</td>\n",
       "      <td>...</td>\n",
       "      <td>4.0</td>\n",
       "      <td>2.0</td>\n",
       "      <td>0.0</td>\n",
       "      <td>0.0</td>\n",
       "      <td>1.0</td>\n",
       "      <td>3.0</td>\n",
       "      <td>4.0</td>\n",
       "      <td>2.0</td>\n",
       "      <td>2.0</td>\n",
       "      <td>3.0</td>\n",
       "    </tr>\n",
       "    <tr>\n",
       "      <th>891219</th>\n",
       "      <td>NaN</td>\n",
       "      <td>1.0</td>\n",
       "      <td>1</td>\n",
       "      <td>3.0</td>\n",
       "      <td>1</td>\n",
       "      <td>5</td>\n",
       "      <td>3</td>\n",
       "      <td>5</td>\n",
       "      <td>5</td>\n",
       "      <td>5</td>\n",
       "      <td>...</td>\n",
       "      <td>1.0</td>\n",
       "      <td>4.0</td>\n",
       "      <td>3.0</td>\n",
       "      <td>1.0</td>\n",
       "      <td>5.0</td>\n",
       "      <td>1.0</td>\n",
       "      <td>1.0</td>\n",
       "      <td>4.0</td>\n",
       "      <td>7.0</td>\n",
       "      <td>5.0</td>\n",
       "    </tr>\n",
       "    <tr>\n",
       "      <th>891220</th>\n",
       "      <td>NaN</td>\n",
       "      <td>4.0</td>\n",
       "      <td>1</td>\n",
       "      <td>1.0</td>\n",
       "      <td>4</td>\n",
       "      <td>2</td>\n",
       "      <td>5</td>\n",
       "      <td>2</td>\n",
       "      <td>1</td>\n",
       "      <td>5</td>\n",
       "      <td>...</td>\n",
       "      <td>3.0</td>\n",
       "      <td>3.0</td>\n",
       "      <td>1.0</td>\n",
       "      <td>0.0</td>\n",
       "      <td>1.0</td>\n",
       "      <td>4.0</td>\n",
       "      <td>4.0</td>\n",
       "      <td>3.0</td>\n",
       "      <td>4.0</td>\n",
       "      <td>5.0</td>\n",
       "    </tr>\n",
       "  </tbody>\n",
       "</table>\n",
       "<p>5 rows × 85 columns</p>\n",
       "</div>"
      ],
      "text/plain": [
       "        AGER_TYP  ALTERSKATEGORIE_GROB  ANREDE_KZ  CJT_GESAMTTYP  \\\n",
       "891216       NaN                   3.0          2            5.0   \n",
       "891217       NaN                   2.0          1            4.0   \n",
       "891218       NaN                   2.0          2            4.0   \n",
       "891219       NaN                   1.0          1            3.0   \n",
       "891220       NaN                   4.0          1            1.0   \n",
       "\n",
       "        FINANZ_MINIMALIST  FINANZ_SPARER  FINANZ_VORSORGER  FINANZ_ANLEGER  \\\n",
       "891216                  1              4                 2               5   \n",
       "891217                  3              3                 3               2   \n",
       "891218                  2              4                 2               5   \n",
       "891219                  1              5                 3               5   \n",
       "891220                  4              2                 5               2   \n",
       "\n",
       "        FINANZ_UNAUFFAELLIGER  FINANZ_HAUSBAUER    ...     PLZ8_ANTG1  \\\n",
       "891216                      4                 4    ...            3.0   \n",
       "891217                      2                 3    ...            1.0   \n",
       "891218                      4                 3    ...            4.0   \n",
       "891219                      5                 5    ...            1.0   \n",
       "891220                      1                 5    ...            3.0   \n",
       "\n",
       "        PLZ8_ANTG2  PLZ8_ANTG3  PLZ8_ANTG4  PLZ8_BAUMAX  PLZ8_HHZ  PLZ8_GBZ  \\\n",
       "891216         2.0         0.0         0.0          1.0       2.0       3.0   \n",
       "891217         3.0         3.0         2.0          4.0       5.0       3.0   \n",
       "891218         2.0         0.0         0.0          1.0       3.0       4.0   \n",
       "891219         4.0         3.0         1.0          5.0       1.0       1.0   \n",
       "891220         3.0         1.0         0.0          1.0       4.0       4.0   \n",
       "\n",
       "        ARBEIT  ORTSGR_KLS9  RELAT_AB  \n",
       "891216     NaN          NaN       NaN  \n",
       "891217     4.0          6.0       5.0  \n",
       "891218     2.0          2.0       3.0  \n",
       "891219     4.0          7.0       5.0  \n",
       "891220     3.0          4.0       5.0  \n",
       "\n",
       "[5 rows x 85 columns]"
      ]
     },
<<<<<<< HEAD
     "execution_count": 13,
=======
     "execution_count": 11,
>>>>>>> d5ca0ed332afa9678dbdb657c09097591c65c96a
     "metadata": {},
     "output_type": "execute_result"
    }
   ],
   "source": [
    "azdias.tail()"
   ]
  },
  {
   "cell_type": "markdown",
   "metadata": {},
   "source": [
    "#### Step 1.1.2: Assess Missing Data in Each Column\n",
    "\n",
    "How much missing data is present in each column? There are a few columns that are outliers in terms of the proportion of values that are missing. You will want to use matplotlib's [`hist()`](https://matplotlib.org/api/_as_gen/matplotlib.pyplot.hist.html) function to visualize the distribution of missing value counts to find these columns. Identify and document these columns. While some of these columns might have justifications for keeping or re-encoding the data, for this project you should just remove them from the dataframe. (Feel free to make remarks about these outlier columns in the discussion, however!)\n",
    "\n",
    "For the remaining features, are there any patterns in which columns have, or share, missing data?"
   ]
  },
  {
   "cell_type": "code",
<<<<<<< HEAD
   "execution_count": 14,
=======
   "execution_count": 12,
>>>>>>> d5ca0ed332afa9678dbdb657c09097591c65c96a
   "metadata": {
    "scrolled": true
   },
   "outputs": [
    {
     "data": {
      "text/plain": [
       "TITEL_KZ                 99.757636\n",
       "AGER_TYP                 76.955435\n",
       "KK_KUNDENTYP             65.596749\n",
       "KBA05_BAUMAX             53.468668\n",
       "GEBURTSJAHR              44.020282\n",
       "ALTER_HH                 34.813699\n",
       "REGIOTYP                 17.735668\n",
       "KKK                      17.735668\n",
       "W_KEIT_KIND_HH           16.605084\n",
       "KBA05_ANTG4              14.959701\n",
       "KBA05_GBZ                14.959701\n",
       "MOBI_REGIO               14.959701\n",
       "KBA05_ANTG1              14.959701\n",
       "KBA05_ANTG2              14.959701\n",
       "KBA05_ANTG3              14.959701\n",
       "PLZ8_GBZ                 13.073637\n",
       "PLZ8_HHZ                 13.073637\n",
       "PLZ8_BAUMAX              13.073637\n",
       "PLZ8_ANTG4               13.073637\n",
       "PLZ8_ANTG1               13.073637\n",
       "PLZ8_ANTG3               13.073637\n",
       "PLZ8_ANTG2               13.073637\n",
       "SHOPPER_TYP              12.476816\n",
       "VERS_TYP                 12.476816\n",
       "HEALTH_TYP               12.476816\n",
       "NATIONALITAET_KZ         12.153551\n",
       "PRAEGENDE_JUGENDJAHRE    12.136608\n",
       "KBA13_ANZAHL_PKW         11.871354\n",
       "ANZ_HAUSHALTE_AKTIV      11.176913\n",
       "CAMEO_INTL_2015          11.147852\n",
       "                           ...    \n",
       "RETOURTYP_BK_S            0.544646\n",
       "ONLINE_AFFINITAET         0.544646\n",
       "LP_STATUS_FEIN            0.544646\n",
       "LP_STATUS_GROB            0.544646\n",
       "GFK_URLAUBERTYP           0.544646\n",
       "ALTERSKATEGORIE_GROB      0.323264\n",
       "FINANZTYP                 0.000000\n",
       "GREEN_AVANTGARDE          0.000000\n",
       "FINANZ_HAUSBAUER          0.000000\n",
       "FINANZ_UNAUFFAELLIGER     0.000000\n",
       "FINANZ_ANLEGER            0.000000\n",
       "FINANZ_SPARER             0.000000\n",
       "FINANZ_MINIMALIST         0.000000\n",
       "ANREDE_KZ                 0.000000\n",
       "FINANZ_VORSORGER          0.000000\n",
       "SEMIO_FAM                 0.000000\n",
       "SEMIO_SOZ                 0.000000\n",
       "SEMIO_REL                 0.000000\n",
       "SEMIO_MAT                 0.000000\n",
       "SEMIO_VERT                0.000000\n",
       "SEMIO_LUST                0.000000\n",
       "SEMIO_ERL                 0.000000\n",
       "SEMIO_KULT                0.000000\n",
       "SEMIO_RAT                 0.000000\n",
       "SEMIO_KRIT                0.000000\n",
       "SEMIO_DOM                 0.000000\n",
       "SEMIO_KAEM                0.000000\n",
       "SEMIO_PFLICHT             0.000000\n",
       "SEMIO_TRADV               0.000000\n",
       "ZABEOTYP                  0.000000\n",
       "Length: 85, dtype: float64"
      ]
     },
<<<<<<< HEAD
     "execution_count": 14,
=======
     "execution_count": 12,
>>>>>>> d5ca0ed332afa9678dbdb657c09097591c65c96a
     "metadata": {},
     "output_type": "execute_result"
    }
   ],
   "source": [
    "# Perform an assessment of how much missing data there is in each column of the\n",
    "# dataset.\n",
    "# Percentage of missing values for features\n",
    "\n",
    "azdias_nan = (azdias.isna().sum()/len(azdias))*100\n",
    "azdias_nan.sort_values(ascending=False)"
   ]
  },
  {
   "cell_type": "code",
<<<<<<< HEAD
   "execution_count": 15,
=======
   "execution_count": 13,
>>>>>>> d5ca0ed332afa9678dbdb657c09097591c65c96a
   "metadata": {},
   "outputs": [
    {
     "data": {
      "text/plain": [
       "Text(0,0.5,'Num of Features')"
      ]
     },
<<<<<<< HEAD
     "execution_count": 15,
=======
     "execution_count": 13,
>>>>>>> d5ca0ed332afa9678dbdb657c09097591c65c96a
     "metadata": {},
     "output_type": "execute_result"
    },
    {
     "data": {
      "image/png": "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\n",
      "text/plain": [
<<<<<<< HEAD
       "<matplotlib.figure.Figure at 0x7ff1f716f4e0>"
=======
       "<matplotlib.figure.Figure at 0x7f17c8e325c0>"
>>>>>>> d5ca0ed332afa9678dbdb657c09097591c65c96a
      ]
     },
     "metadata": {
      "needs_background": "light"
     },
     "output_type": "display_data"
    }
   ],
   "source": [
    "# Investigate patterns in the amount of missing data in each column.\n",
    "plt.hist(azdias_nan)\n",
    "plt.xlabel('Perc of missing values')\n",
    "plt.ylabel('Num of Features')"
   ]
  },
  {
   "cell_type": "code",
<<<<<<< HEAD
   "execution_count": 16,
=======
   "execution_count": 14,
>>>>>>> d5ca0ed332afa9678dbdb657c09097591c65c96a
   "metadata": {},
   "outputs": [],
   "source": [
    "# Remove the outlier columns from the dataset. (You'll perform other data\n",
    "# engineering tasks such as re-encoding and imputation later.)\n",
    "outliers = azdias_nan[azdias_nan >= 30] # Based on a 30% threshold\n",
    "azdias.drop(outliers.index, axis=1, inplace=True)\n"
   ]
  },
  {
   "cell_type": "code",
<<<<<<< HEAD
   "execution_count": 17,
=======
   "execution_count": 15,
>>>>>>> d5ca0ed332afa9678dbdb657c09097591c65c96a
   "metadata": {},
   "outputs": [
    {
     "data": {
      "text/plain": [
       "(891221, 79)"
      ]
     },
<<<<<<< HEAD
     "execution_count": 17,
=======
     "execution_count": 15,
>>>>>>> d5ca0ed332afa9678dbdb657c09097591c65c96a
     "metadata": {},
     "output_type": "execute_result"
    }
   ],
   "source": [
    "azdias.shape"
   ]
  },
  {
   "cell_type": "code",
<<<<<<< HEAD
   "execution_count": 18,
=======
   "execution_count": 16,
>>>>>>> d5ca0ed332afa9678dbdb657c09097591c65c96a
   "metadata": {},
   "outputs": [
    {
     "data": {
      "text/plain": [
       "AGER_TYP        76.955435\n",
       "GEBURTSJAHR     44.020282\n",
       "TITEL_KZ        99.757636\n",
       "ALTER_HH        34.813699\n",
       "KK_KUNDENTYP    65.596749\n",
       "KBA05_BAUMAX    53.468668\n",
       "dtype: float64"
      ]
     },
<<<<<<< HEAD
     "execution_count": 18,
=======
     "execution_count": 16,
>>>>>>> d5ca0ed332afa9678dbdb657c09097591c65c96a
     "metadata": {},
     "output_type": "execute_result"
    }
   ],
   "source": [
    "outliers"
   ]
  },
  {
   "cell_type": "markdown",
   "metadata": {},
   "source": [
    "#### Discussion 1.1.2: Assess Missing Data in Each Column\n",
    "\n",
    "By inspecting the missing values of the dataset, we can deduct that most of the features have between 10-20% missing values and 9/10 of them are in the range of 0-20%. The total amount of data missing is proportionwise about 11.1% of the total data, meaning its effect isn't much significant. Removing the AGER_TYP, GEBURTSJAHR, TITEL_KZ, ALTER_HH, KK_KUNDENTYP and KBA05_BAUMAX the dataset is cleaner, as its outliers have been removed. We can also observe that groups of data with similar names have about the same ratio of missing values (if not identical)."
   ]
  },
  {
   "cell_type": "markdown",
   "metadata": {},
   "source": [
    "#### Step 1.1.3: Assess Missing Data in Each Row\n",
    "\n",
    "Now, you'll perform a similar assessment for the rows of the dataset. How much data is missing in each row? As with the columns, you should see some groups of points that have a very different numbers of missing values. Divide the data into two subsets: one for data points that are above some threshold for missing values, and a second subset for points below that threshold.\n",
    "\n",
    "In order to know what to do with the outlier rows, we should see if the distribution of data values on columns that are not missing data (or are missing very little data) are similar or different between the two groups. Select at least five of these columns and compare the distribution of values.\n",
    "- You can use seaborn's [`countplot()`](https://seaborn.pydata.org/generated/seaborn.countplot.html) function to create a bar chart of code frequencies and matplotlib's [`subplot()`](https://matplotlib.org/api/_as_gen/matplotlib.pyplot.subplot.html) function to put bar charts for the two subplots side by side.\n",
    "- To reduce repeated code, you might want to write a function that can perform this comparison, taking as one of its arguments a column to be compared.\n",
    "\n",
    "Depending on what you observe in your comparison, this will have implications on how you approach your conclusions later in the analysis. If the distributions of non-missing features look similar between the data with many missing values and the data with few or no missing values, then we could argue that simply dropping those points from the analysis won't present a major issue. On the other hand, if the data with many missing values looks very different from the data with few or no missing values, then we should make a note on those data as special. We'll revisit these data later on. **Either way, you should continue your analysis for now using just the subset of the data with few or no missing values.**"
   ]
  },
  {
   "cell_type": "code",
<<<<<<< HEAD
   "execution_count": 19,
=======
   "execution_count": 17,
>>>>>>> d5ca0ed332afa9678dbdb657c09097591c65c96a
   "metadata": {
    "scrolled": true
   },
   "outputs": [
    {
     "data": {
      "text/plain": [
       "643174    62.025316\n",
       "732775    62.025316\n",
       "472919    60.759494\n",
       "183108    59.493671\n",
       "139316    59.493671\n",
       "691141    59.493671\n",
       "691142    59.493671\n",
       "691171    59.493671\n",
       "691183    59.493671\n",
       "139332    59.493671\n",
       "691197    59.493671\n",
       "139323    59.493671\n",
       "691212    59.493671\n",
       "691122    59.493671\n",
       "139267    59.493671\n",
       "139255    59.493671\n",
       "139250    59.493671\n",
       "139248    59.493671\n",
       "139245    59.493671\n",
       "139243    59.493671\n",
       "691317    59.493671\n",
       "691129    59.493671\n",
       "691118    59.493671\n",
       "139236    59.493671\n",
       "139478    59.493671\n",
       "690871    59.493671\n",
       "690876    59.493671\n",
       "690878    59.493671\n",
       "690887    59.493671\n",
       "139521    59.493671\n",
       "            ...    \n",
       "540246     0.000000\n",
       "540244     0.000000\n",
       "540243     0.000000\n",
       "540242     0.000000\n",
       "540241     0.000000\n",
       "540240     0.000000\n",
       "540239     0.000000\n",
       "540269     0.000000\n",
       "540271     0.000000\n",
       "540300     0.000000\n",
       "540289     0.000000\n",
       "540299     0.000000\n",
       "540298     0.000000\n",
       "540296     0.000000\n",
       "540295     0.000000\n",
       "540293     0.000000\n",
       "540292     0.000000\n",
       "540291     0.000000\n",
       "540290     0.000000\n",
       "540287     0.000000\n",
       "540273     0.000000\n",
       "540286     0.000000\n",
       "540284     0.000000\n",
       "540283     0.000000\n",
       "540281     0.000000\n",
       "540280     0.000000\n",
       "540277     0.000000\n",
       "540275     0.000000\n",
       "540274     0.000000\n",
       "445610     0.000000\n",
       "Length: 891221, dtype: float64"
      ]
     },
<<<<<<< HEAD
     "execution_count": 19,
=======
     "execution_count": 17,
>>>>>>> d5ca0ed332afa9678dbdb657c09097591c65c96a
     "metadata": {},
     "output_type": "execute_result"
    }
   ],
   "source": [
    "# How much data is missing in each row of the dataset?\n",
    "azd_rownan = (azdias.isna().sum(axis=1)/len(azdias.columns))*100\n",
    "azd_rownan.sort_values(ascending=False)"
   ]
  },
  {
   "cell_type": "code",
<<<<<<< HEAD
   "execution_count": 20,
=======
   "execution_count": 18,
>>>>>>> d5ca0ed332afa9678dbdb657c09097591c65c96a
   "metadata": {},
   "outputs": [
    {
     "data": {
      "text/plain": [
       "Text(0,0.5,'Num of People')"
      ]
     },
<<<<<<< HEAD
     "execution_count": 20,
=======
     "execution_count": 18,
>>>>>>> d5ca0ed332afa9678dbdb657c09097591c65c96a
     "metadata": {},
     "output_type": "execute_result"
    },
    {
     "data": {
      "image/png": "iVBORw0KGgoAAAANSUhEUgAAAZsAAAEKCAYAAADEovgeAAAABHNCSVQICAgIfAhkiAAAAAlwSFlzAAALEgAACxIB0t1+/AAAADl0RVh0U29mdHdhcmUAbWF0cGxvdGxpYiB2ZXJzaW9uIDIuMS4wLCBodHRwOi8vbWF0cGxvdGxpYi5vcmcvpW3flQAAHeNJREFUeJzt3X20HVWd5vHvA5EWEQwvgRUTMKAZBVFCuEIcXY6KHQIoYRRaHGkySK/0uKLiaC8NtnYUhrVwmG40tmYmDZHQbQsRRNIYiFkRtHs1L7kIJkBkco1I7gRJIOFNFA0880ftC4frueeevFTOvcfns1atU/WrXbV3kUN+2VX77JJtIiIi6rRHpxsQERHdL8kmIiJql2QTERG1S7KJiIjaJdlERETtkmwiIqJ2STYREVG7JJuIiKhdkk1ERNRuTKcbMFIcdNBBnjRpUqebERExqtx1112P2h43XLkkm2LSpEn09vZ2uhkREaOKpF+2Uy630SIionZJNhERUbskm4iIqF2STURE1K62ZCPp9ZLuaVielPRJSQdIWiFpXfncv5SXpPmS+iStljS14VyzSvl1kmY1xI+TtKYcM1+SSrxpHRER0Rm1JRvbD9ieYnsKcBzwDHA9MBdYaXsysLJsA5wMTC7LbGABVIkDmAecABwPzGtIHgtK2YHjZpT4UHVEREQH7K7baCcCP7f9S2AmsLjEFwOnl/WZwFWu3A6MlTQeOAlYYXuL7a3ACmBG2bef7dtcvW70qkHnalZHRER0wO5KNmcB3y7rh9h+GKB8HlziE4ANDcf0l1ireH+TeKs6IiKiA2pPNpL2Ak4DvjNc0SYx70B8e9o2W1KvpN7Nmzdvz6EREbEddscMAicDP7H9SNl+RNJ42w+XW2GbSrwfOLThuInAxhJ/56D4rSU+sUn5VnW8hO2FwEKAnp6e7UpUjSbN/f6OHrpTHrzk1I7UGxGxvXbHbbQP8eItNIClwMCIslnADQ3xc8qotGnAE+UW2HJguqT9y8CA6cDysu8pSdPKKLRzBp2rWR0REdEBtfZsJL0C+FPgLxvClwBLJJ0HPAScWeLLgFOAPqqRa+cC2N4i6SJgVSl3oe0tZf2jwJXA3sBNZWlVR0REdECtycb2M8CBg2KPUY1OG1zWwJwhzrMIWNQk3gsc3STetI6IiOiMzCAQERG1S7KJiIjaJdlERETtkmwiIqJ2STYREVG7JJuIiKhdkk1ERNQuySYiImqXZBMREbVLsomIiNol2URERO2SbCIionZJNhERUbskm4iIqF2STURE1C7JJiIiapdkExERtUuyiYiI2iXZRERE7ZJsIiKidkk2ERFRu1qTjaSxkq6V9DNJayW9VdIBklZIWlc+9y9lJWm+pD5JqyVNbTjPrFJ+naRZDfHjJK0px8yXpBJvWkdERHRG3T2brwI3234DcAywFpgLrLQ9GVhZtgFOBiaXZTawAKrEAcwDTgCOB+Y1JI8FpezAcTNKfKg6IiKiA2pLNpL2A94BXAFg+3e2HwdmAotLscXA6WV9JnCVK7cDYyWNB04CVtjeYnsrsAKYUfbtZ/s22wauGnSuZnVEREQH1NmzOQLYDHxT0t2SLpe0D3CI7YcByufBpfwEYEPD8f0l1ire3yROizoiIqID6kw2Y4CpwALbxwK/pvXtLDWJeQfibZM0W1KvpN7Nmzdvz6EREbEd6kw2/UC/7TvK9rVUyeeRcguM8rmpofyhDcdPBDYOE5/YJE6LOl7C9kLbPbZ7xo0bt0MXGRERw6st2dj+FbBB0utL6ETgfmApMDCibBZwQ1lfCpxTRqVNA54ot8CWA9Ml7V8GBkwHlpd9T0maVkahnTPoXM3qiIiIDhhT8/k/DnxL0l7AeuBcqgS3RNJ5wEPAmaXsMuAUoA94ppTF9hZJFwGrSrkLbW8p6x8FrgT2Bm4qC8AlQ9QREREdUGuysX0P0NNk14lNyhqYM8R5FgGLmsR7gaObxB9rVkdERHRGZhCIiIjaJdlERETtkmwiIqJ2STYREVG7JJuIiKhdkk1ERNQuySYiImqXZBMREbVLsomIiNol2URERO2SbCIionZJNhERUbskm4iIqF2STURE1C7JJiIiapdkExERtUuyiYiI2iXZRERE7ZJsIiKidkk2ERFRuySbiIioXa3JRtKDktZIukdSb4kdIGmFpHXlc/8Sl6T5kvokrZY0teE8s0r5dZJmNcSPK+fvK8eqVR0REdEZu6Nn8y7bU2z3lO25wErbk4GVZRvgZGByWWYDC6BKHMA84ATgeGBeQ/JYUMoOHDdjmDoiIqIDOnEbbSawuKwvBk5viF/lyu3AWEnjgZOAFba32N4KrABmlH372b7NtoGrBp2rWR0REdEBdScbAz+QdJek2SV2iO2HAcrnwSU+AdjQcGx/ibWK9zeJt6rjJSTNltQrqXfz5s07eIkRETGcMTWf/222N0o6GFgh6WctyqpJzDsQb5vthcBCgJ6enu06NiIi2ldrz8b2xvK5Cbie6pnLI+UWGOVzUyneDxzacPhEYOMw8YlN4rSoIyIiOqC2ZCNpH0n7DqwD04F7gaXAwIiyWcANZX0pcE4ZlTYNeKLcAlsOTJe0fxkYMB1YXvY9JWlaGYV2zqBzNasjIiI6oM7baIcA15fRyGOAf7Z9s6RVwBJJ5wEPAWeW8suAU4A+4BngXADbWyRdBKwq5S60vaWsfxS4EtgbuKksAJcMUUdERHRAW8lG0t7AYbYfaPfEttcDxzSJPwac2CRuYM4Q51oELGoS7wWObreOiIjojGFvo0l6H3APcHPZniJpad0Ni4iI7tHOM5svUj3YfxzA9j3ApPqaFBER3aadZLPN9hO1tyQiIrpWO89s7pX0X4A9JU0GPgH8e73NioiIbtJOz+bjwBuBZ4FvA08Cn6yzURER0V2G7dnYfgb467JERERstyGTjaR/ocX0L7ZPq6VFERHRdVr1bP7XbmtFRER0tSGTje0fDaxL2gt4A1VP5wHbv9sNbYuIiC4x7DMbSacC/xv4OdVMy4dL+kvbN7U+MiIiotLO0Oe/pXrbZh+ApNcC3+fFecgiIiJaamfo86aBRFOsJ1P2R0TEdminZ3OfpGXAEqpnNmcCqyS9H8D2d2tsX0REdIF2ks3LgUeA/1S2NwMHAO+jSj5JNhER0VI7P+o8d3c0JCIiulc7rxiYKOl6SZskPSLpOkkThzsuIiJiQDsDBL5J9ZrlVwMTgH8psYiIiLa0k2zG2f6m7W1luRIYV3O7IiKii7STbB6VdLakPctyNvBY3Q2LiIju0U6y+QjwZ8CvgIeBM0osIiKiLcMmG9sP2T7N9jjbB9s+3fYv262g9IbulnRj2T5c0h2S1km6psy7hqQ/Kdt9Zf+khnNcUOIPSDqpIT6jxPokzW2IN60jIiI6o53RaP9B0kpJ95btN0v6/HbUcT6wtmH7y8BlticDW4HzSvw8YKvt1wGXlXJIOgo4i+oFbjOAbwzc0gO+DpwMHAV8qJRtVUdERHRAO7fR/gG4APg9gO3VVH/5D6sMkT4VuLxsC3g3cG0pshg4vazPLNuU/SeW8jOBq20/a/sXQB9wfFn6bK8vs1BfDcwcpo6IiOiAdpLNK2zfOSi2rc3zfwX4DPB82T4QeNz2wPH9VMOpKZ8bAMr+J0r5F+KDjhkq3qqOiIjogHZHo72W8tZOSWdQDRRoSdJ7qSbxvKsx3KSoh9m3q+LN2jhbUq+k3s2bNzcrEhERu0A7c6PNARYCb5D0/4BfAB9u47i3AadJOoVqfrX9qHo6YyWNKT2PicDGUr4fOBTolzQGeBWwpSE+oPGYZvFHW9TxErYXlmujp6dnyFdgR0TEzmlnNNp62++h+iHnG2y/vZ3RaLYvsD3R9iSqZzw/tP1h4Baq4dMAs4AbyvrSsk3Z/0PbLvGzymi1w4HJwJ3AKmByGXm2V6ljaTlmqDoiIqIDhkw2kk6Q9FNJT0u6DTjM9lO7oM7PAp+S1Ef1fOWKEr8COLDEPwXMBbB9H9XrDe4Hbgbm2H6u9Fo+BiynGu22pJRtVUdERHRAq9toXwf+CvgxcBrVLbCTWpQfku1bgVvL+nqqkWSDy/yW6l05zY6/GLi4SXwZsKxJvGkdERHRGa1uo+1he0UZcvwdMh9aRETsoFY9m7EDb+Nstp03dEZERLtaJZsfUb2Ns9l23tAZERFtGzLZ5A2dERGxq7Tzo86IiIidkmQTERG1a/U7mzPL5+G7rzkREdGNWvVsLiif1+2OhkRERPdqNRrtMUm3AIdLWjp4p+3T6mtWRER0k1bJ5lRgKvCPwN/unuZEREQ3ajX0+XfA7ZL+o+3Nkvatwn569zUvIiK6QTuj0Q6RdDdwL3C/pLskHV1zuyIioou0k2wWAp+y/RrbhwGfLrGIiIi2tJNs9rF9y8BGmcF5n9paFBERXaedN3Wul/QFqoECAGdTva0zIiKiLe30bD5C9XqB75blICDzpkVERNuG7dnY3gp8Yje0JSIiulTmRouIiNol2URERO2SbCIionbDPrMpsz5/HJjUWD5zo0VERLva6dl8D3gQ+BrVHGkDS0uSXi7pTkk/lXSfpC+V+OGS7pC0TtI1kvYq8T8p231l/6SGc11Q4g9IOqkhPqPE+iTNbYg3rSMiIjqjnWTzW9vzbd9i+0cDSxvHPQu82/YxwBRghqRpwJeBy2xPBrYC55Xy5wFbbb8OuKyUQ9JRwFnAG4EZwDck7SlpT+DrwMnAUcCHSlla1BERER3QTrL5qqR5kt4qaerAMtxBrgxM2vmyshh4N3BtiS8GTi/rM8s2Zf+JklTiV9t+1vYvgD7g+LL02V5fJg29GphZjhmqjoiI6IB2ZhB4E/DnVH+BP19iA0mjpdL7uAt4HVUv5OfA47a3lSL9wISyPgHYAGB7m6QngANL/PaG0zYes2FQ/IRyzFB1REREB7STbP4zcETpPWwX288BUySNBa4HjmxWrHxqiH1DxZv1ylqV/wOSZgOzAQ477LBmRSIiYhdo5zbaT4GxO1OJ7ceBW4FpwFhJA0luIrCxrPcDhwKU/a8CtjTGBx0zVPzRFnUMbtdC2z22e8aNG7czlxgRES209T4b4GeSlktaOrAMd5CkcaVHg6S9gfcAa4FbgDNKsVnADWV9admm7P+hbZf4WWW02uHAZOBOYBUwuYw824tqEMHScsxQdURERAe0cxtt3g6eezywuDy32QNYYvtGSfcDV0v6H8DdwBWl/BXAP0rqo+rRnAVg+z5JS4D7gW3AnHJ7DkkfA5YDewKLbN9XzvXZIeqIiIgOaGciznaGOTc7bjVwbJP4eqqRZIPjvwXOHOJcFwMXN4kvA5a1W0dERHRGOzMIPMWLD9j3ohrC/Gvb+9XZsIiI6B7t9Gz2bdyWdDrpNURExHbY7ok4bX+PNn5jExERMaCd22jvb9jcA+hhiN+tRERENNPOaLT3Naxvo5qUc2YtrYmIiK7UzjObc3dHQyIionsNmWwk/U2L42z7ohraExERXahVz+bXTWL7UE3XfyCQZBMREW0ZMtnYfuEFaZL2Bc4HzqWayn/Yl6dFREQMaPnMRtIBwKeAD1O9F2aq7a27o2EREdE9Wj2zuRR4P7AQeFPDi9AiIiK2S6sfdX4aeDXweWCjpCfL8pSkJ3dP8yIiohu0emaz3bMLRERENJOEEhERtUuyiYiI2iXZRERE7ZJsIiKidkk2ERFRuySbiIioXZJNRETULskmIiJqV1uykXSopFskrZV0n6TzS/wASSskrSuf+5e4JM2X1CdptaSpDeeaVcqvkzSrIX6cpDXlmPmS1KqOiIjojDp7NtuAT9s+EpgGzJF0FDAXWGl7MrCybAOcDEwuy2xgAbwwGeg84ATgeGBeQ/JYUMoOHDejxIeqIyIiOqC2ZGP7Yds/KetPAWuBCVSvlF5cii0GTi/rM4GrXLkdGCtpPHASsML2ljLj9ApgRtm3n+3bbBu4atC5mtUREREdsFue2UiaBBwL3AEcYvthqBIScHApNgHY0HBYf4m1ivc3idOijsHtmi2pV1Lv5s2bd/TyIiJiGLUnG0mvBK4DPmm71WzRahLzDsTbZnuh7R7bPePGjdueQyMiYjvUmmwkvYwq0XzL9ndL+JFyC4zyuanE+4FDGw6fCGwcJj6xSbxVHRER0QF1jkYTcAWw1vbfNexaCgyMKJsF3NAQP6eMSpsGPFFugS0HpkvavwwMmA4sL/uekjSt1HXOoHM1qyMiIjqg5Wuhd9LbgD8H1ki6p8Q+B1wCLJF0HvAQcGbZtww4BegDngHOBbC9RdJFwKpS7kLbW8r6R4Ergb2Bm8pCizoiIqIDaks2tv+N5s9VAE5sUt7AnCHOtQhY1CTeCxzdJP5YszoiIqIzMoNARETULskmIiJql2QTERG1S7KJiIjaJdlERETtkmwiIqJ2STYREVG7JJuIiKhdkk1ERNQuySYiImqXZBMREbVLsomIiNol2URERO2SbCIionZJNhERUbskm4iIqF2STURE1C7JJiIiapdkExERtUuyiYiI2tWWbCQtkrRJ0r0NsQMkrZC0rnzuX+KSNF9Sn6TVkqY2HDOrlF8naVZD/DhJa8ox8yWpVR0REdE5dfZsrgRmDIrNBVbangysLNsAJwOTyzIbWABV4gDmAScAxwPzGpLHglJ24LgZw9QREREdUluysf1jYMug8ExgcVlfDJzeEL/KlduBsZLGAycBK2xvsb0VWAHMKPv2s32bbQNXDTpXszoiIqJDdvczm0NsPwxQPg8u8QnAhoZy/SXWKt7fJN6qjoiI6JCRMkBATWLegfj2VSrNltQrqXfz5s3be3hERLRpdyebR8otMMrnphLvBw5tKDcR2DhMfGKTeKs6/oDthbZ7bPeMGzduhy8qIiJa293JZikwMKJsFnBDQ/ycMiptGvBEuQW2HJguaf8yMGA6sLzse0rStDIK7ZxB52pWR0REdMiYuk4s6dvAO4GDJPVTjSq7BFgi6TzgIeDMUnwZcArQBzwDnAtge4uki4BVpdyFtgcGHXyUasTb3sBNZaFFHRER0SG1JRvbHxpi14lNyhqYM8R5FgGLmsR7gaObxB9rVkdERHTOSBkgEBERXSzJJiIialfbbbSo36S53+9Y3Q9ecmrH6o6I0Sc9m4iIqF2STURE1C7JJiIiapdkExERtUuyiYiI2iXZRERE7ZJsIiKidkk2ERFRu/yoMyJiBOjUj7R31w+007OJiIjaJdlERETtkmwiIqJ2STYREVG7DBCIiGjQydnUu1l6NhERUbskm4iIqF2STURE1C7JJiIiate1AwQkzQC+CuwJXG77kg43qat0+6+do5I/59hVujLZSNoT+Drwp0A/sErSUtv3d7ZlsbM6OVIofwFG7LiuTDbA8UCf7fUAkq4GZgJJNhGjQIYfd59ufWYzAdjQsN1fYhER0QHd2rNRk5j/oJA0G5hdNp+W9MAO1ncQ8OgOHjtS5BqGoS/XdeaXyJ/DyPBHcw274Hv9mnYKdWuy6QcObdieCGwcXMj2QmDhzlYmqdd2z86ep5NyDSNDrmFkyDXset16G20VMFnS4ZL2As4Clna4TRERf7S6smdje5ukjwHLqYY+L7J9X4ebFRHxR6srkw2A7WXAst1U3U7fihsBcg0jQ65hZMg17GKy/+C5eURExC7Vrc9sIiJiBEmy2UmSZkh6QFKfpLmdbk87JC2StEnSvQ2xAyStkLSufO7fyTYOR9Khkm6RtFbSfZLOL/FRcx2SXi7pTkk/LdfwpRI/XNId5RquKYNcRjRJe0q6W9KNZXtUXYOkByWtkXSPpN4SGzXfJQBJYyVdK+ln5f+Lt46ka0iy2QkN0+KcDBwFfEjSUZ1tVVuuBGYMis0FVtqeDKws2yPZNuDTto8EpgFzyn/70XQdzwLvtn0MMAWYIWka8GXgsnINW4HzOtjGdp0PrG3YHo3X8C7bUxqGC4+m7xJUc0HebPsNwDFUfx4j5xpsZ9nBBXgrsLxh+wLggk63q822TwLubdh+ABhf1scDD3S6jdt5PTdQzYU3Kq8DeAXwE+AEqh/ijSnxl3zHRuJC9Tu2lcC7gRupflQ92q7hQeCgQbFR810C9gN+QXkOPxKvIT2bndNN0+IcYvthgPJ5cIfb0zZJk4BjgTsYZddRbj/dA2wCVgA/Bx63va0UGQ3fqa8AnwGeL9sHMvquwcAPJN1VZhaB0fVdOgLYDHyz3M68XNI+jKBrSLLZOW1NixP1kfRK4Drgk7af7HR7tpft52xPoeodHA8c2azY7m1V+yS9F9hk+67GcJOiI/YairfZnkp1S3yOpHd0ukHbaQwwFVhg+1jg14yw235JNjunrWlxRolHJI0HKJ+bOtyeYUl6GVWi+Zbt75bwqLsOANuPA7dSPX8aK2ngN3Aj/Tv1NuA0SQ8CV1PdSvsKo+sasL2xfG4CrqdK/KPpu9QP9Nu+o2xfS5V8Rsw1JNnsnG6aFmcpMKusz6J6BjJiSRJwBbDW9t817Bo11yFpnKSxZX1v4D1UD3VvAc4oxUb0Ndi+wPZE25Oovv8/tP1hRtE1SNpH0r4D68B04F5G0XfJ9q+ADZJeX0InUr1SZcRcQ37UuZMknUL1L7mBaXEu7nCThiXp28A7qWaFfQSYB3wPWAIcBjwEnGl7S6faOBxJbwf+FVjDi88KPkf13GZUXIekNwOLqb47ewBLbF8o6QiqXsIBwN3A2baf7VxL2yPpncBf2X7vaLqG0tbry+YY4J9tXyzpQEbJdwlA0hTgcmAvYD1wLuV7xQi4hiSbiIioXW6jRURE7ZJsIiKidkk2ERFRuySbiIioXZJNRETULskmuoKk58qMvfdK+o6kV+zGui8tszZfuoPHX769E7hKOq1Ts4xLulLSGcOXjHhRhj5HV5D0tO1XlvVvAXcN+rFnq2P3tP3cTtT9JDBupP6OZFeTdCVwo+1rO92WGD3Ss4lu9K/A6wAknV3eGXOPpP9TXguBpKclXSjpDuCtkt4i6d/Lu2XuHPhF+QBVLi09pzWSPljiS4F9gDsGYg3HfFHSYkk/KO9Leb+k/1mOv7lMt4OkWyX1lEk5r2yo47+X/Z+QdL+k1ZKuLrH/Kunvy/qVkuaX9q8f6HVI2kPSN0qv60ZJywb3SCQdKenOhu1JklaX9b+RtKq0Z2GZtYFBxz8o6aCy3iPp1rK+j6r3Jq1SNTHkzBJ/Y8Ofx2pJk3fgzzdGoSSb6CplPq6TgTWSjgQ+SDXJ4hTgOeDDpeg+VK9YOAG4E7gGON/Vu2XeA/xm0KnfT/XOmYH9l0oab/s04Deu3oNyTZMmvRY4FZgJ/BNwi+03lfOfOqjsFGCC7aNLmW+W+FzgWNtvBv7bEJc+Hng78F7gkoY2TwLeBPwF1VT/L2F7LbBX+RU9VP+9lpT1v7f9FttHA3uXc7frr6mmrnkL8C6q/177lPZ/tfx59FDN6RV/BJJsolvsrWqq/l6qaTmuoJof6jhgVdl3ItVU7FAlnuvK+uuBh22vArD9ZMP0+APeDny7zNL8CPAj4C1ttOsm27+nmlZnT+DmEl9DlQgarQeOkPQ1STOAgVmsVwPfknQ21Uvjmvme7edt3w8c0tDm75T4r6jmK2tmCfBnZf2DVIkX4F2q3ra5hmqCzTcOf7kvmA7MLf/dbwVeTjVlym3A5yR9FniN7cFJPbrUmOGLRIwKvyn/Wn5Bue2z2PYFTcr/tuE5jRh+Cvxm0+a341kA289L+r1ffEj6PIP+/7O9VdIxwEnAHKoE8BGqHtA7gNOAL0hq9pd+4/MiDfoczjXAdyR9t2qG10l6OfANoMf2BklfpEoYg23jxX+0Nu4X8AHbDwwqv7bcujwVWC7pL2z/sM12xiiWnk10s5XAGZIOhhfeKf+aJuV+Brxa0ltKuX314vT4A34MfLA8VxlH9Zf/nexC5dnHHravA74ATJW0B3Co7VuoXlA2Fnhlm6f8N+AD5dnNIVSTr/4B2z+n6ul9gRd7NQOJ41FV7wwaavTZg1S9R4APNMSXAx8feM4j6djyeQSw3vZ8qhmJ39zmtcQol55NdC3b90v6PNUbGPcAfk/VY/jloHK/Kw/3v6Zqqv/fUD2Xebqh2PVUzzx+StUL+ky5NbUrTaB60+LAPwIvoLr19k+SXkXVW7jM9uNNntU3cx3VrcN7gf9LNSP2E0OUvQa4FDgcqvfrSPoHqtt9D1K9TqOZLwFXSBqYcXvARVSzoa8uCedBqmc+HwTOlvR74FfAhe1cSIx+Gfoc0cUkvdL206qmy7+TarDErk6SEcNKzyaiu92o6gVtewEXJdFEp6RnExERtcsAgYiIqF2STURE1C7JJiIiapdkExERtUuyiYiI2iXZRERE7f4/hYuZxJZIxj8AAAAASUVORK5CYII=\n",
      "text/plain": [
<<<<<<< HEAD
       "<matplotlib.figure.Figure at 0x7ff2246738d0>"
=======
       "<matplotlib.figure.Figure at 0x7f17c8e32198>"
>>>>>>> d5ca0ed332afa9678dbdb657c09097591c65c96a
      ]
     },
     "metadata": {
      "needs_background": "light"
     },
     "output_type": "display_data"
    }
   ],
   "source": [
    "plt.hist(azd_rownan)\n",
    "plt.xlabel('Perc of missing values')\n",
    "plt.ylabel('Num of People')"
   ]
  },
  {
   "cell_type": "code",
<<<<<<< HEAD
   "execution_count": 21,
=======
   "execution_count": 19,
>>>>>>> d5ca0ed332afa9678dbdb657c09097591c65c96a
   "metadata": {},
   "outputs": [
    {
     "name": "stdout",
     "output_type": "stream",
     "text": [
      "(109941,) (781280,)\n"
     ]
    }
   ],
   "source": [
    "# Write code to divide the data into two subsets based on the number of missing\n",
    "# values in each row.\n",
    "azdias_out = azd_rownan[azd_rownan >= 15] # 15% threshold\n",
    "azdias_in = azd_rownan.drop(azdias_out.index)\n",
    "\n",
    "print(azdias_out.shape, azdias_in.shape)"
   ]
  },
  {
   "cell_type": "code",
<<<<<<< HEAD
   "execution_count": 22,
=======
   "execution_count": 20,
>>>>>>> d5ca0ed332afa9678dbdb657c09097591c65c96a
   "metadata": {},
   "outputs": [],
   "source": [
    "azdias_above15 = azdias.iloc[azdias_out.index, :]\n",
    "azdias_below15 = azdias.iloc[azdias_in.index, :]"
   ]
  },
  {
   "cell_type": "code",
<<<<<<< HEAD
   "execution_count": 23,
=======
   "execution_count": 21,
>>>>>>> d5ca0ed332afa9678dbdb657c09097591c65c96a
   "metadata": {
    "scrolled": false
   },
   "outputs": [
    {
     "data": {
      "image/png": "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\n",
      "text/plain": [
<<<<<<< HEAD
       "<matplotlib.figure.Figure at 0x7ff1f489bdd8>"
=======
       "<matplotlib.figure.Figure at 0x7f17c50ad780>"
>>>>>>> d5ca0ed332afa9678dbdb657c09097591c65c96a
      ]
     },
     "metadata": {
      "needs_background": "light"
     },
     "output_type": "display_data"
    },
    {
     "data": {
      "image/png": "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\n",
      "text/plain": [
<<<<<<< HEAD
       "<matplotlib.figure.Figure at 0x7ff1f47ceeb8>"
=======
       "<matplotlib.figure.Figure at 0x7f17c651ff60>"
>>>>>>> d5ca0ed332afa9678dbdb657c09097591c65c96a
      ]
     },
     "metadata": {
      "needs_background": "light"
     },
     "output_type": "display_data"
    },
    {
     "data": {
      "image/png": "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\n",
      "text/plain": [
<<<<<<< HEAD
       "<matplotlib.figure.Figure at 0x7ff1f47cee80>"
=======
       "<matplotlib.figure.Figure at 0x7f17c64a64a8>"
>>>>>>> d5ca0ed332afa9678dbdb657c09097591c65c96a
      ]
     },
     "metadata": {
      "needs_background": "light"
     },
     "output_type": "display_data"
    },
    {
     "data": {
      "image/png": "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\n",
      "text/plain": [
<<<<<<< HEAD
       "<matplotlib.figure.Figure at 0x7ff1f45ebc50>"
=======
       "<matplotlib.figure.Figure at 0x7f17c642c160>"
>>>>>>> d5ca0ed332afa9678dbdb657c09097591c65c96a
      ]
     },
     "metadata": {
      "needs_background": "light"
     },
     "output_type": "display_data"
    },
    {
     "data": {
      "image/png": "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\n",
      "text/plain": [
<<<<<<< HEAD
       "<matplotlib.figure.Figure at 0x7ff1f45ebfd0>"
=======
       "<matplotlib.figure.Figure at 0x7f17c61ecd68>"
>>>>>>> d5ca0ed332afa9678dbdb657c09097591c65c96a
      ]
     },
     "metadata": {
      "needs_background": "light"
     },
     "output_type": "display_data"
    }
   ],
   "source": [
    "# Compare the distribution of values for at least five columns where there are\n",
    "# no or few missing values, between the two subsets.\n",
    "def compare_hist(column):\n",
    "    fig = plt.figure(10, figsize=(12,6))\n",
    "    \n",
    "    ax1 = fig.add_subplot(121)\n",
    "    ax1 = plt.title('Above 15')\n",
    "    sns.countplot(azdias_above15[column.name])\n",
    "    \n",
    "    ax1 = fig.add_subplot(122)\n",
    "    ax1 = plt.title('Below 15')\n",
    "    sns.countplot(azdias_below15[column.name])\n",
    "    \n",
    "    fig.suptitle(column.name)\n",
    "    plt.show()\n",
    "    \n",
    "compare_hist(azdias['SHOPPER_TYP'])\n",
    "compare_hist(azdias['HEALTH_TYP'])\n",
    "compare_hist(azdias['LP_STATUS_FEIN'])\n",
    "compare_hist(azdias['SEMIO_REL'])\n",
    "compare_hist(azdias['ONLINE_AFFINITAET'])"
   ]
  },
  {
   "cell_type": "markdown",
   "metadata": {},
   "source": [
    "#### Discussion 1.1.3: Assess Missing Data in Each Row\n",
    "\n",
    "It seems that for the data with missing values, there's one index that is peaking and the rest are relatively low. So, comparatively with the other subset, there's not a distinct distribution, as such, observed."
   ]
  },
  {
   "cell_type": "markdown",
   "metadata": {},
   "source": [
    "### Step 1.2: Select and Re-Encode Features\n",
    "\n",
    "Checking for missing data isn't the only way in which you can prepare a dataset for analysis. Since the unsupervised learning techniques to be used will only work on data that is encoded numerically, you need to make a few encoding changes or additional assumptions to be able to make progress. In addition, while almost all of the values in the dataset are encoded using numbers, not all of them represent numeric values. Check the third column of the feature summary (`feat_info`) for a summary of types of measurement.\n",
    "- For numeric and interval data, these features can be kept without changes.\n",
    "- Most of the variables in the dataset are ordinal in nature. While ordinal values may technically be non-linear in spacing, make the simplifying assumption that the ordinal variables can be treated as being interval in nature (that is, kept without any changes).\n",
    "- Special handling may be necessary for the remaining two variable types: categorical, and 'mixed'.\n",
    "\n",
    "In the first two parts of this sub-step, you will perform an investigation of the categorical and mixed-type features and make a decision on each of them, whether you will keep, drop, or re-encode each. Then, in the last part, you will create a new data frame with only the selected and engineered columns.\n",
    "\n",
    "Data wrangling is often the trickiest part of the data analysis process, and there's a lot of it to be done here. But stick with it: once you're done with this step, you'll be ready to get to the machine learning parts of the project!"
   ]
  },
  {
   "cell_type": "code",
<<<<<<< HEAD
   "execution_count": 24,
=======
   "execution_count": 22,
>>>>>>> d5ca0ed332afa9678dbdb657c09097591c65c96a
   "metadata": {},
   "outputs": [
    {
     "data": {
      "text/plain": [
       "ordinal        49\n",
       "categorical    18\n",
       "numeric         6\n",
       "mixed           6\n",
       "Name: type, dtype: int64"
      ]
     },
<<<<<<< HEAD
     "execution_count": 24,
=======
     "execution_count": 22,
>>>>>>> d5ca0ed332afa9678dbdb657c09097591c65c96a
     "metadata": {},
     "output_type": "execute_result"
    }
   ],
   "source": [
    "# How many features are there of each data type?\n",
    "col_list = azdias_below15.columns.tolist()\n",
    "feat_info_2 = feat_info[feat_info['attribute'].isin(col_list)] # Based on new dataset\n",
    "# feat_info\n",
    "feat_info_2['type'].value_counts() "
   ]
  },
  {
   "cell_type": "markdown",
   "metadata": {},
   "source": [
    "#### Step 1.2.1: Re-Encode Categorical Features\n",
    "\n",
    "For categorical data, you would ordinarily need to encode the levels as dummy variables. Depending on the number of categories, perform one of the following:\n",
    "- For binary (two-level) categoricals that take numeric values, you can keep them without needing to do anything.\n",
    "- There is one binary variable that takes on non-numeric values. For this one, you need to re-encode the values as numbers or create a dummy variable.\n",
    "- For multi-level categoricals (three or more values), you can choose to encode the values using multiple dummy variables (e.g. via [OneHotEncoder](http://scikit-learn.org/stable/modules/generated/sklearn.preprocessing.OneHotEncoder.html)), or (to keep things straightforward) just drop them from the analysis. As always, document your choices in the Discussion section."
   ]
  },
  {
   "cell_type": "code",
<<<<<<< HEAD
   "execution_count": 25,
=======
   "execution_count": 23,
>>>>>>> d5ca0ed332afa9678dbdb657c09097591c65c96a
   "metadata": {
    "scrolled": true
   },
   "outputs": [
    {
     "data": {
      "text/html": [
       "<div>\n",
       "<style scoped>\n",
       "    .dataframe tbody tr th:only-of-type {\n",
       "        vertical-align: middle;\n",
       "    }\n",
       "\n",
       "    .dataframe tbody tr th {\n",
       "        vertical-align: top;\n",
       "    }\n",
       "\n",
       "    .dataframe thead th {\n",
       "        text-align: right;\n",
       "    }\n",
       "</style>\n",
       "<table border=\"1\" class=\"dataframe\">\n",
       "  <thead>\n",
       "    <tr style=\"text-align: right;\">\n",
       "      <th></th>\n",
       "      <th>attribute</th>\n",
       "      <th>information_level</th>\n",
       "      <th>type</th>\n",
       "      <th>missing_or_unknown</th>\n",
       "      <th>clean_tag</th>\n",
       "    </tr>\n",
       "  </thead>\n",
       "  <tbody>\n",
       "    <tr>\n",
       "      <th>2</th>\n",
       "      <td>ANREDE_KZ</td>\n",
       "      <td>person</td>\n",
       "      <td>categorical</td>\n",
       "      <td>[-1,0]</td>\n",
       "      <td>-1,0</td>\n",
       "    </tr>\n",
       "    <tr>\n",
       "      <th>3</th>\n",
       "      <td>CJT_GESAMTTYP</td>\n",
       "      <td>person</td>\n",
       "      <td>categorical</td>\n",
       "      <td>[0]</td>\n",
       "      <td>0</td>\n",
       "    </tr>\n",
       "    <tr>\n",
       "      <th>10</th>\n",
       "      <td>FINANZTYP</td>\n",
       "      <td>person</td>\n",
       "      <td>categorical</td>\n",
       "      <td>[-1]</td>\n",
       "      <td>-1</td>\n",
       "    </tr>\n",
       "    <tr>\n",
       "      <th>12</th>\n",
       "      <td>GFK_URLAUBERTYP</td>\n",
       "      <td>person</td>\n",
       "      <td>categorical</td>\n",
       "      <td>[]</td>\n",
       "      <td></td>\n",
       "    </tr>\n",
       "    <tr>\n",
       "      <th>13</th>\n",
       "      <td>GREEN_AVANTGARDE</td>\n",
       "      <td>person</td>\n",
       "      <td>categorical</td>\n",
       "      <td>[]</td>\n",
       "      <td></td>\n",
       "    </tr>\n",
       "    <tr>\n",
       "      <th>17</th>\n",
       "      <td>LP_FAMILIE_FEIN</td>\n",
       "      <td>person</td>\n",
       "      <td>categorical</td>\n",
       "      <td>[0]</td>\n",
       "      <td>0</td>\n",
       "    </tr>\n",
       "    <tr>\n",
       "      <th>18</th>\n",
       "      <td>LP_FAMILIE_GROB</td>\n",
       "      <td>person</td>\n",
       "      <td>categorical</td>\n",
       "      <td>[0]</td>\n",
       "      <td>0</td>\n",
       "    </tr>\n",
       "    <tr>\n",
       "      <th>19</th>\n",
       "      <td>LP_STATUS_FEIN</td>\n",
       "      <td>person</td>\n",
       "      <td>categorical</td>\n",
       "      <td>[0]</td>\n",
       "      <td>0</td>\n",
       "    </tr>\n",
       "    <tr>\n",
       "      <th>20</th>\n",
       "      <td>LP_STATUS_GROB</td>\n",
       "      <td>person</td>\n",
       "      <td>categorical</td>\n",
       "      <td>[0]</td>\n",
       "      <td>0</td>\n",
       "    </tr>\n",
       "    <tr>\n",
       "      <th>21</th>\n",
       "      <td>NATIONALITAET_KZ</td>\n",
       "      <td>person</td>\n",
       "      <td>categorical</td>\n",
       "      <td>[-1,0]</td>\n",
       "      <td>-1,0</td>\n",
       "    </tr>\n",
       "    <tr>\n",
       "      <th>38</th>\n",
       "      <td>SHOPPER_TYP</td>\n",
       "      <td>person</td>\n",
       "      <td>categorical</td>\n",
       "      <td>[-1]</td>\n",
       "      <td>-1</td>\n",
       "    </tr>\n",
       "    <tr>\n",
       "      <th>39</th>\n",
       "      <td>SOHO_KZ</td>\n",
       "      <td>person</td>\n",
       "      <td>categorical</td>\n",
       "      <td>[-1]</td>\n",
       "      <td>-1</td>\n",
       "    </tr>\n",
       "    <tr>\n",
       "      <th>41</th>\n",
       "      <td>VERS_TYP</td>\n",
       "      <td>person</td>\n",
       "      <td>categorical</td>\n",
       "      <td>[-1]</td>\n",
       "      <td>-1</td>\n",
       "    </tr>\n",
       "    <tr>\n",
       "      <th>42</th>\n",
       "      <td>ZABEOTYP</td>\n",
       "      <td>person</td>\n",
       "      <td>categorical</td>\n",
       "      <td>[-1,9]</td>\n",
       "      <td>-1,9</td>\n",
       "    </tr>\n",
       "    <tr>\n",
       "      <th>52</th>\n",
       "      <td>GEBAEUDETYP</td>\n",
       "      <td>building</td>\n",
       "      <td>categorical</td>\n",
       "      <td>[-1,0]</td>\n",
       "      <td>-1,0</td>\n",
       "    </tr>\n",
       "    <tr>\n",
       "      <th>55</th>\n",
       "      <td>OST_WEST_KZ</td>\n",
       "      <td>building</td>\n",
       "      <td>categorical</td>\n",
       "      <td>[-1]</td>\n",
       "      <td>-1</td>\n",
       "    </tr>\n",
       "    <tr>\n",
       "      <th>57</th>\n",
       "      <td>CAMEO_DEUG_2015</td>\n",
       "      <td>microcell_rr4</td>\n",
       "      <td>categorical</td>\n",
       "      <td>[-1,X]</td>\n",
       "      <td>-1,X</td>\n",
       "    </tr>\n",
       "    <tr>\n",
       "      <th>58</th>\n",
       "      <td>CAMEO_DEU_2015</td>\n",
       "      <td>microcell_rr4</td>\n",
       "      <td>categorical</td>\n",
       "      <td>[XX]</td>\n",
       "      <td>XX</td>\n",
       "    </tr>\n",
       "  </tbody>\n",
       "</table>\n",
       "</div>"
      ],
      "text/plain": [
       "           attribute information_level         type missing_or_unknown  \\\n",
       "2          ANREDE_KZ            person  categorical             [-1,0]   \n",
       "3      CJT_GESAMTTYP            person  categorical                [0]   \n",
       "10         FINANZTYP            person  categorical               [-1]   \n",
       "12   GFK_URLAUBERTYP            person  categorical                 []   \n",
       "13  GREEN_AVANTGARDE            person  categorical                 []   \n",
       "17   LP_FAMILIE_FEIN            person  categorical                [0]   \n",
       "18   LP_FAMILIE_GROB            person  categorical                [0]   \n",
       "19    LP_STATUS_FEIN            person  categorical                [0]   \n",
       "20    LP_STATUS_GROB            person  categorical                [0]   \n",
       "21  NATIONALITAET_KZ            person  categorical             [-1,0]   \n",
       "38       SHOPPER_TYP            person  categorical               [-1]   \n",
       "39           SOHO_KZ            person  categorical               [-1]   \n",
       "41          VERS_TYP            person  categorical               [-1]   \n",
       "42          ZABEOTYP            person  categorical             [-1,9]   \n",
       "52       GEBAEUDETYP          building  categorical             [-1,0]   \n",
       "55       OST_WEST_KZ          building  categorical               [-1]   \n",
       "57   CAMEO_DEUG_2015     microcell_rr4  categorical             [-1,X]   \n",
       "58    CAMEO_DEU_2015     microcell_rr4  categorical               [XX]   \n",
       "\n",
       "   clean_tag  \n",
       "2       -1,0  \n",
       "3          0  \n",
       "10        -1  \n",
       "12            \n",
       "13            \n",
       "17         0  \n",
       "18         0  \n",
       "19         0  \n",
       "20         0  \n",
       "21      -1,0  \n",
       "38        -1  \n",
       "39        -1  \n",
       "41        -1  \n",
       "42      -1,9  \n",
       "52      -1,0  \n",
       "55        -1  \n",
       "57      -1,X  \n",
       "58        XX  "
      ]
     },
<<<<<<< HEAD
     "execution_count": 25,
=======
     "execution_count": 23,
>>>>>>> d5ca0ed332afa9678dbdb657c09097591c65c96a
     "metadata": {},
     "output_type": "execute_result"
    }
   ],
   "source": [
    "# Assess categorical variables: which are binary, which are multi-level, and\n",
    "# which one needs to be re-encoded?\n",
    "categoricals = feat_info_2[feat_info_2['type'] == 'categorical']\n",
    "categoricals"
   ]
  },
  {
   "cell_type": "code",
<<<<<<< HEAD
   "execution_count": 26,
=======
   "execution_count": 24,
>>>>>>> d5ca0ed332afa9678dbdb657c09097591c65c96a
   "metadata": {},
   "outputs": [],
   "source": [
    "# Separate binary from multi-level categoricals\n",
    "binary = []\n",
    "multi = []\n",
    "for i in categoricals['attribute']:\n",
    "    if azdias_below15[i].nunique() == 2:\n",
    "        binary.append(i)\n",
    "    else:\n",
    "        multi.append(i)"
   ]
  },
  {
   "cell_type": "code",
<<<<<<< HEAD
   "execution_count": 27,
=======
   "execution_count": 25,
>>>>>>> d5ca0ed332afa9678dbdb657c09097591c65c96a
   "metadata": {},
   "outputs": [
    {
     "data": {
      "text/html": [
       "<div>\n",
       "<style scoped>\n",
       "    .dataframe tbody tr th:only-of-type {\n",
       "        vertical-align: middle;\n",
       "    }\n",
       "\n",
       "    .dataframe tbody tr th {\n",
       "        vertical-align: top;\n",
       "    }\n",
       "\n",
       "    .dataframe thead th {\n",
       "        text-align: right;\n",
       "    }\n",
       "</style>\n",
       "<table border=\"1\" class=\"dataframe\">\n",
       "  <thead>\n",
       "    <tr style=\"text-align: right;\">\n",
       "      <th></th>\n",
       "      <th>ANREDE_KZ</th>\n",
       "      <th>GREEN_AVANTGARDE</th>\n",
       "      <th>SOHO_KZ</th>\n",
       "      <th>VERS_TYP</th>\n",
       "      <th>OST_WEST_KZ</th>\n",
       "    </tr>\n",
       "  </thead>\n",
       "  <tbody>\n",
       "    <tr>\n",
       "      <th>1</th>\n",
       "      <td>2</td>\n",
       "      <td>0</td>\n",
       "      <td>1.0</td>\n",
       "      <td>2.0</td>\n",
       "      <td>W</td>\n",
       "    </tr>\n",
       "    <tr>\n",
       "      <th>2</th>\n",
       "      <td>2</td>\n",
       "      <td>1</td>\n",
       "      <td>0.0</td>\n",
       "      <td>1.0</td>\n",
       "      <td>W</td>\n",
       "    </tr>\n",
       "    <tr>\n",
       "      <th>3</th>\n",
       "      <td>2</td>\n",
       "      <td>0</td>\n",
       "      <td>0.0</td>\n",
       "      <td>1.0</td>\n",
       "      <td>W</td>\n",
       "    </tr>\n",
       "    <tr>\n",
       "      <th>4</th>\n",
       "      <td>1</td>\n",
       "      <td>0</td>\n",
       "      <td>0.0</td>\n",
       "      <td>2.0</td>\n",
       "      <td>W</td>\n",
       "    </tr>\n",
       "    <tr>\n",
       "      <th>5</th>\n",
       "      <td>2</td>\n",
       "      <td>0</td>\n",
       "      <td>0.0</td>\n",
       "      <td>2.0</td>\n",
       "      <td>W</td>\n",
       "    </tr>\n",
       "  </tbody>\n",
       "</table>\n",
       "</div>"
      ],
      "text/plain": [
       "   ANREDE_KZ  GREEN_AVANTGARDE  SOHO_KZ  VERS_TYP OST_WEST_KZ\n",
       "1          2                 0      1.0       2.0           W\n",
       "2          2                 1      0.0       1.0           W\n",
       "3          2                 0      0.0       1.0           W\n",
       "4          1                 0      0.0       2.0           W\n",
       "5          2                 0      0.0       2.0           W"
      ]
     },
<<<<<<< HEAD
     "execution_count": 27,
=======
     "execution_count": 25,
>>>>>>> d5ca0ed332afa9678dbdb657c09097591c65c96a
     "metadata": {},
     "output_type": "execute_result"
    }
   ],
   "source": [
    "azdias_below15[binary].head()"
   ]
  },
  {
   "cell_type": "code",
<<<<<<< HEAD
   "execution_count": 28,
=======
   "execution_count": 26,
>>>>>>> d5ca0ed332afa9678dbdb657c09097591c65c96a
   "metadata": {
    "scrolled": true
   },
   "outputs": [
    {
     "data": {
      "text/html": [
       "<div>\n",
       "<style scoped>\n",
       "    .dataframe tbody tr th:only-of-type {\n",
       "        vertical-align: middle;\n",
       "    }\n",
       "\n",
       "    .dataframe tbody tr th {\n",
       "        vertical-align: top;\n",
       "    }\n",
       "\n",
       "    .dataframe thead th {\n",
       "        text-align: right;\n",
       "    }\n",
       "</style>\n",
       "<table border=\"1\" class=\"dataframe\">\n",
       "  <thead>\n",
       "    <tr style=\"text-align: right;\">\n",
       "      <th></th>\n",
       "      <th>OST_WEST_KZ_O</th>\n",
       "      <th>OST_WEST_KZ_W</th>\n",
       "    </tr>\n",
       "  </thead>\n",
       "  <tbody>\n",
       "    <tr>\n",
       "      <th>1</th>\n",
       "      <td>0</td>\n",
       "      <td>1</td>\n",
       "    </tr>\n",
       "    <tr>\n",
       "      <th>2</th>\n",
       "      <td>0</td>\n",
       "      <td>1</td>\n",
       "    </tr>\n",
       "    <tr>\n",
       "      <th>3</th>\n",
       "      <td>0</td>\n",
       "      <td>1</td>\n",
       "    </tr>\n",
       "    <tr>\n",
       "      <th>4</th>\n",
       "      <td>0</td>\n",
       "      <td>1</td>\n",
       "    </tr>\n",
       "    <tr>\n",
       "      <th>5</th>\n",
       "      <td>0</td>\n",
       "      <td>1</td>\n",
       "    </tr>\n",
       "  </tbody>\n",
       "</table>\n",
       "</div>"
      ],
      "text/plain": [
       "   OST_WEST_KZ_O  OST_WEST_KZ_W\n",
       "1              0              1\n",
       "2              0              1\n",
       "3              0              1\n",
       "4              0              1\n",
       "5              0              1"
      ]
     },
<<<<<<< HEAD
     "execution_count": 28,
=======
     "execution_count": 26,
>>>>>>> d5ca0ed332afa9678dbdb657c09097591c65c96a
     "metadata": {},
     "output_type": "execute_result"
    }
   ],
   "source": [
    "binar_non = azdias_below15['OST_WEST_KZ'] \n",
    "binar_non = pd.get_dummies(binar_non.astype('category'), prefix='OST_WEST_KZ')\n",
    "binar_non.head()"
   ]
  },
  {
   "cell_type": "code",
<<<<<<< HEAD
   "execution_count": 29,
=======
   "execution_count": 27,
>>>>>>> d5ca0ed332afa9678dbdb657c09097591c65c96a
   "metadata": {},
   "outputs": [],
   "source": [
    "azdias_below15 = azdias_below15.drop('OST_WEST_KZ', axis=1)\n",
    "azdias_below15 = pd.concat([azdias_below15, binar_non], axis=1)\n"
   ]
  },
  {
   "cell_type": "code",
<<<<<<< HEAD
   "execution_count": 30,
=======
   "execution_count": 28,
>>>>>>> d5ca0ed332afa9678dbdb657c09097591c65c96a
   "metadata": {},
   "outputs": [
    {
     "data": {
      "text/plain": [
       "['CJT_GESAMTTYP',\n",
       " 'FINANZTYP',\n",
       " 'GFK_URLAUBERTYP',\n",
       " 'LP_FAMILIE_FEIN',\n",
       " 'LP_FAMILIE_GROB',\n",
       " 'LP_STATUS_FEIN',\n",
       " 'LP_STATUS_GROB',\n",
       " 'NATIONALITAET_KZ',\n",
       " 'SHOPPER_TYP',\n",
       " 'ZABEOTYP',\n",
       " 'GEBAEUDETYP',\n",
       " 'CAMEO_DEUG_2015',\n",
       " 'CAMEO_DEU_2015']"
      ]
     },
<<<<<<< HEAD
     "execution_count": 30,
=======
     "execution_count": 28,
>>>>>>> d5ca0ed332afa9678dbdb657c09097591c65c96a
     "metadata": {},
     "output_type": "execute_result"
    }
   ],
   "source": [
    "multi"
   ]
  },
  {
   "cell_type": "code",
<<<<<<< HEAD
   "execution_count": 31,
=======
   "execution_count": 29,
>>>>>>> d5ca0ed332afa9678dbdb657c09097591c65c96a
   "metadata": {},
   "outputs": [
    {
     "data": {
      "text/html": [
       "<div>\n",
       "<style scoped>\n",
       "    .dataframe tbody tr th:only-of-type {\n",
       "        vertical-align: middle;\n",
       "    }\n",
       "\n",
       "    .dataframe tbody tr th {\n",
       "        vertical-align: top;\n",
       "    }\n",
       "\n",
       "    .dataframe thead th {\n",
       "        text-align: right;\n",
       "    }\n",
       "</style>\n",
       "<table border=\"1\" class=\"dataframe\">\n",
       "  <thead>\n",
       "    <tr style=\"text-align: right;\">\n",
       "      <th></th>\n",
       "      <th>CJT_GESAMTTYP</th>\n",
       "      <th>FINANZTYP</th>\n",
       "      <th>GFK_URLAUBERTYP</th>\n",
       "      <th>LP_FAMILIE_FEIN</th>\n",
       "      <th>LP_FAMILIE_GROB</th>\n",
       "      <th>LP_STATUS_FEIN</th>\n",
       "      <th>LP_STATUS_GROB</th>\n",
       "      <th>NATIONALITAET_KZ</th>\n",
       "      <th>SHOPPER_TYP</th>\n",
       "      <th>ZABEOTYP</th>\n",
       "      <th>GEBAEUDETYP</th>\n",
       "      <th>CAMEO_DEUG_2015</th>\n",
       "      <th>CAMEO_DEU_2015</th>\n",
       "    </tr>\n",
       "  </thead>\n",
       "  <tbody>\n",
       "    <tr>\n",
       "      <th>1</th>\n",
       "      <td>5.0</td>\n",
       "      <td>1</td>\n",
       "      <td>10.0</td>\n",
       "      <td>5.0</td>\n",
       "      <td>3.0</td>\n",
       "      <td>2.0</td>\n",
       "      <td>1.0</td>\n",
       "      <td>1.0</td>\n",
       "      <td>3.0</td>\n",
       "      <td>5</td>\n",
       "      <td>8.0</td>\n",
       "      <td>8</td>\n",
       "      <td>8A</td>\n",
       "    </tr>\n",
       "    <tr>\n",
       "      <th>2</th>\n",
       "      <td>3.0</td>\n",
       "      <td>1</td>\n",
       "      <td>10.0</td>\n",
       "      <td>1.0</td>\n",
       "      <td>1.0</td>\n",
       "      <td>3.0</td>\n",
       "      <td>2.0</td>\n",
       "      <td>1.0</td>\n",
       "      <td>2.0</td>\n",
       "      <td>5</td>\n",
       "      <td>1.0</td>\n",
       "      <td>4</td>\n",
       "      <td>4C</td>\n",
       "    </tr>\n",
       "    <tr>\n",
       "      <th>3</th>\n",
       "      <td>2.0</td>\n",
       "      <td>6</td>\n",
       "      <td>1.0</td>\n",
       "      <td>NaN</td>\n",
       "      <td>NaN</td>\n",
       "      <td>9.0</td>\n",
       "      <td>4.0</td>\n",
       "      <td>1.0</td>\n",
       "      <td>1.0</td>\n",
       "      <td>3</td>\n",
       "      <td>1.0</td>\n",
       "      <td>2</td>\n",
       "      <td>2A</td>\n",
       "    </tr>\n",
       "    <tr>\n",
       "      <th>4</th>\n",
       "      <td>5.0</td>\n",
       "      <td>5</td>\n",
       "      <td>5.0</td>\n",
       "      <td>10.0</td>\n",
       "      <td>5.0</td>\n",
       "      <td>3.0</td>\n",
       "      <td>2.0</td>\n",
       "      <td>1.0</td>\n",
       "      <td>2.0</td>\n",
       "      <td>4</td>\n",
       "      <td>1.0</td>\n",
       "      <td>6</td>\n",
       "      <td>6B</td>\n",
       "    </tr>\n",
       "    <tr>\n",
       "      <th>5</th>\n",
       "      <td>2.0</td>\n",
       "      <td>2</td>\n",
       "      <td>1.0</td>\n",
       "      <td>1.0</td>\n",
       "      <td>1.0</td>\n",
       "      <td>4.0</td>\n",
       "      <td>2.0</td>\n",
       "      <td>1.0</td>\n",
       "      <td>0.0</td>\n",
       "      <td>4</td>\n",
       "      <td>1.0</td>\n",
       "      <td>8</td>\n",
       "      <td>8C</td>\n",
       "    </tr>\n",
       "  </tbody>\n",
       "</table>\n",
       "</div>"
      ],
      "text/plain": [
       "   CJT_GESAMTTYP  FINANZTYP  GFK_URLAUBERTYP  LP_FAMILIE_FEIN  \\\n",
       "1            5.0          1             10.0              5.0   \n",
       "2            3.0          1             10.0              1.0   \n",
       "3            2.0          6              1.0              NaN   \n",
       "4            5.0          5              5.0             10.0   \n",
       "5            2.0          2              1.0              1.0   \n",
       "\n",
       "   LP_FAMILIE_GROB  LP_STATUS_FEIN  LP_STATUS_GROB  NATIONALITAET_KZ  \\\n",
       "1              3.0             2.0             1.0               1.0   \n",
       "2              1.0             3.0             2.0               1.0   \n",
       "3              NaN             9.0             4.0               1.0   \n",
       "4              5.0             3.0             2.0               1.0   \n",
       "5              1.0             4.0             2.0               1.0   \n",
       "\n",
       "   SHOPPER_TYP  ZABEOTYP  GEBAEUDETYP CAMEO_DEUG_2015 CAMEO_DEU_2015  \n",
       "1          3.0         5          8.0               8             8A  \n",
       "2          2.0         5          1.0               4             4C  \n",
       "3          1.0         3          1.0               2             2A  \n",
       "4          2.0         4          1.0               6             6B  \n",
       "5          0.0         4          1.0               8             8C  "
      ]
     },
<<<<<<< HEAD
     "execution_count": 31,
=======
     "execution_count": 29,
>>>>>>> d5ca0ed332afa9678dbdb657c09097591c65c96a
     "metadata": {},
     "output_type": "execute_result"
    }
   ],
   "source": [
    "azdias_below15[multi].head()\n"
   ]
  },
  {
   "cell_type": "code",
<<<<<<< HEAD
   "execution_count": 32,
=======
   "execution_count": 30,
>>>>>>> d5ca0ed332afa9678dbdb657c09097591c65c96a
   "metadata": {},
   "outputs": [],
   "source": [
    "# Re-encode categorical variable(s) to be kept in the analysis.\n",
    "# Encoders trialed for creating dummies\n",
    "enc = OneHotEncoder(handle_unknown='ignore')\n",
    "le = LabelEncoder() \n",
    "\n",
    "multi_df = azdias_below15[multi]\n",
    "multi_dummy = pd.get_dummies(multi_df.astype('category'), prefix=multi) # Need to convert int values to categorical for get_dummies\n",
    "\n",
    "# Replacing the multilevel categoricals with encoded ones\n",
    "azdias_below15 = azdias_below15.drop(multi, axis=1)\n",
    "azdias_below15 = pd.concat([azdias_below15, multi_dummy], axis=1)\n",
    "\n"
   ]
  },
  {
   "cell_type": "code",
<<<<<<< HEAD
   "execution_count": 33,
=======
   "execution_count": 31,
>>>>>>> d5ca0ed332afa9678dbdb657c09097591c65c96a
   "metadata": {
    "scrolled": true
   },
   "outputs": [
    {
     "data": {
      "text/html": [
       "<div>\n",
       "<style scoped>\n",
       "    .dataframe tbody tr th:only-of-type {\n",
       "        vertical-align: middle;\n",
       "    }\n",
       "\n",
       "    .dataframe tbody tr th {\n",
       "        vertical-align: top;\n",
       "    }\n",
       "\n",
       "    .dataframe thead th {\n",
       "        text-align: right;\n",
       "    }\n",
       "</style>\n",
       "<table border=\"1\" class=\"dataframe\">\n",
       "  <thead>\n",
       "    <tr style=\"text-align: right;\">\n",
       "      <th></th>\n",
       "      <th>CJT_GESAMTTYP_1.0</th>\n",
       "      <th>CJT_GESAMTTYP_2.0</th>\n",
       "      <th>CJT_GESAMTTYP_3.0</th>\n",
       "      <th>CJT_GESAMTTYP_4.0</th>\n",
       "      <th>CJT_GESAMTTYP_5.0</th>\n",
       "      <th>CJT_GESAMTTYP_6.0</th>\n",
       "      <th>FINANZTYP_1</th>\n",
       "      <th>FINANZTYP_2</th>\n",
       "      <th>FINANZTYP_3</th>\n",
       "      <th>FINANZTYP_4</th>\n",
       "      <th>...</th>\n",
       "      <th>CAMEO_DEU_2015_7E</th>\n",
       "      <th>CAMEO_DEU_2015_8A</th>\n",
       "      <th>CAMEO_DEU_2015_8B</th>\n",
       "      <th>CAMEO_DEU_2015_8C</th>\n",
       "      <th>CAMEO_DEU_2015_8D</th>\n",
       "      <th>CAMEO_DEU_2015_9A</th>\n",
       "      <th>CAMEO_DEU_2015_9B</th>\n",
       "      <th>CAMEO_DEU_2015_9C</th>\n",
       "      <th>CAMEO_DEU_2015_9D</th>\n",
       "      <th>CAMEO_DEU_2015_9E</th>\n",
       "    </tr>\n",
       "  </thead>\n",
       "  <tbody>\n",
       "    <tr>\n",
       "      <th>1</th>\n",
       "      <td>0</td>\n",
       "      <td>0</td>\n",
       "      <td>0</td>\n",
       "      <td>0</td>\n",
       "      <td>1</td>\n",
       "      <td>0</td>\n",
       "      <td>1</td>\n",
       "      <td>0</td>\n",
       "      <td>0</td>\n",
       "      <td>0</td>\n",
       "      <td>...</td>\n",
       "      <td>0</td>\n",
       "      <td>1</td>\n",
       "      <td>0</td>\n",
       "      <td>0</td>\n",
       "      <td>0</td>\n",
       "      <td>0</td>\n",
       "      <td>0</td>\n",
       "      <td>0</td>\n",
       "      <td>0</td>\n",
       "      <td>0</td>\n",
       "    </tr>\n",
       "    <tr>\n",
       "      <th>2</th>\n",
       "      <td>0</td>\n",
       "      <td>0</td>\n",
       "      <td>1</td>\n",
       "      <td>0</td>\n",
       "      <td>0</td>\n",
       "      <td>0</td>\n",
       "      <td>1</td>\n",
       "      <td>0</td>\n",
       "      <td>0</td>\n",
       "      <td>0</td>\n",
       "      <td>...</td>\n",
       "      <td>0</td>\n",
       "      <td>0</td>\n",
       "      <td>0</td>\n",
       "      <td>0</td>\n",
       "      <td>0</td>\n",
       "      <td>0</td>\n",
       "      <td>0</td>\n",
       "      <td>0</td>\n",
       "      <td>0</td>\n",
       "      <td>0</td>\n",
       "    </tr>\n",
       "    <tr>\n",
       "      <th>3</th>\n",
       "      <td>0</td>\n",
       "      <td>1</td>\n",
       "      <td>0</td>\n",
       "      <td>0</td>\n",
       "      <td>0</td>\n",
       "      <td>0</td>\n",
       "      <td>0</td>\n",
       "      <td>0</td>\n",
       "      <td>0</td>\n",
       "      <td>0</td>\n",
       "      <td>...</td>\n",
       "      <td>0</td>\n",
       "      <td>0</td>\n",
       "      <td>0</td>\n",
       "      <td>0</td>\n",
       "      <td>0</td>\n",
       "      <td>0</td>\n",
       "      <td>0</td>\n",
       "      <td>0</td>\n",
       "      <td>0</td>\n",
       "      <td>0</td>\n",
       "    </tr>\n",
       "    <tr>\n",
       "      <th>4</th>\n",
       "      <td>0</td>\n",
       "      <td>0</td>\n",
       "      <td>0</td>\n",
       "      <td>0</td>\n",
       "      <td>1</td>\n",
       "      <td>0</td>\n",
       "      <td>0</td>\n",
       "      <td>0</td>\n",
       "      <td>0</td>\n",
       "      <td>0</td>\n",
       "      <td>...</td>\n",
       "      <td>0</td>\n",
       "      <td>0</td>\n",
       "      <td>0</td>\n",
       "      <td>0</td>\n",
       "      <td>0</td>\n",
       "      <td>0</td>\n",
       "      <td>0</td>\n",
       "      <td>0</td>\n",
       "      <td>0</td>\n",
       "      <td>0</td>\n",
       "    </tr>\n",
       "    <tr>\n",
       "      <th>5</th>\n",
       "      <td>0</td>\n",
       "      <td>1</td>\n",
       "      <td>0</td>\n",
       "      <td>0</td>\n",
       "      <td>0</td>\n",
       "      <td>0</td>\n",
       "      <td>0</td>\n",
       "      <td>1</td>\n",
       "      <td>0</td>\n",
       "      <td>0</td>\n",
       "      <td>...</td>\n",
       "      <td>0</td>\n",
       "      <td>0</td>\n",
       "      <td>0</td>\n",
       "      <td>1</td>\n",
       "      <td>0</td>\n",
       "      <td>0</td>\n",
       "      <td>0</td>\n",
       "      <td>0</td>\n",
       "      <td>0</td>\n",
       "      <td>0</td>\n",
       "    </tr>\n",
       "  </tbody>\n",
       "</table>\n",
       "<p>5 rows × 128 columns</p>\n",
       "</div>"
      ],
      "text/plain": [
       "   CJT_GESAMTTYP_1.0  CJT_GESAMTTYP_2.0  CJT_GESAMTTYP_3.0  CJT_GESAMTTYP_4.0  \\\n",
       "1                  0                  0                  0                  0   \n",
       "2                  0                  0                  1                  0   \n",
       "3                  0                  1                  0                  0   \n",
       "4                  0                  0                  0                  0   \n",
       "5                  0                  1                  0                  0   \n",
       "\n",
       "   CJT_GESAMTTYP_5.0  CJT_GESAMTTYP_6.0  FINANZTYP_1  FINANZTYP_2  \\\n",
       "1                  1                  0            1            0   \n",
       "2                  0                  0            1            0   \n",
       "3                  0                  0            0            0   \n",
       "4                  1                  0            0            0   \n",
       "5                  0                  0            0            1   \n",
       "\n",
       "   FINANZTYP_3  FINANZTYP_4        ...          CAMEO_DEU_2015_7E  \\\n",
       "1            0            0        ...                          0   \n",
       "2            0            0        ...                          0   \n",
       "3            0            0        ...                          0   \n",
       "4            0            0        ...                          0   \n",
       "5            0            0        ...                          0   \n",
       "\n",
       "   CAMEO_DEU_2015_8A  CAMEO_DEU_2015_8B  CAMEO_DEU_2015_8C  CAMEO_DEU_2015_8D  \\\n",
       "1                  1                  0                  0                  0   \n",
       "2                  0                  0                  0                  0   \n",
       "3                  0                  0                  0                  0   \n",
       "4                  0                  0                  0                  0   \n",
       "5                  0                  0                  1                  0   \n",
       "\n",
       "   CAMEO_DEU_2015_9A  CAMEO_DEU_2015_9B  CAMEO_DEU_2015_9C  CAMEO_DEU_2015_9D  \\\n",
       "1                  0                  0                  0                  0   \n",
       "2                  0                  0                  0                  0   \n",
       "3                  0                  0                  0                  0   \n",
       "4                  0                  0                  0                  0   \n",
       "5                  0                  0                  0                  0   \n",
       "\n",
       "   CAMEO_DEU_2015_9E  \n",
       "1                  0  \n",
       "2                  0  \n",
       "3                  0  \n",
       "4                  0  \n",
       "5                  0  \n",
       "\n",
       "[5 rows x 128 columns]"
      ]
     },
<<<<<<< HEAD
     "execution_count": 33,
=======
     "execution_count": 31,
>>>>>>> d5ca0ed332afa9678dbdb657c09097591c65c96a
     "metadata": {},
     "output_type": "execute_result"
    }
   ],
   "source": [
    "multi_dummy.head()"
   ]
  },
  {
   "cell_type": "code",
<<<<<<< HEAD
   "execution_count": 34,
=======
   "execution_count": 32,
>>>>>>> d5ca0ed332afa9678dbdb657c09097591c65c96a
   "metadata": {},
   "outputs": [
    {
     "data": {
      "text/html": [
       "<div>\n",
       "<style scoped>\n",
       "    .dataframe tbody tr th:only-of-type {\n",
       "        vertical-align: middle;\n",
       "    }\n",
       "\n",
       "    .dataframe tbody tr th {\n",
       "        vertical-align: top;\n",
       "    }\n",
       "\n",
       "    .dataframe thead th {\n",
       "        text-align: right;\n",
       "    }\n",
       "</style>\n",
       "<table border=\"1\" class=\"dataframe\">\n",
       "  <thead>\n",
       "    <tr style=\"text-align: right;\">\n",
       "      <th></th>\n",
       "      <th>ALTERSKATEGORIE_GROB</th>\n",
       "      <th>ANREDE_KZ</th>\n",
       "      <th>FINANZ_MINIMALIST</th>\n",
       "      <th>FINANZ_SPARER</th>\n",
       "      <th>FINANZ_VORSORGER</th>\n",
       "      <th>FINANZ_ANLEGER</th>\n",
       "      <th>FINANZ_UNAUFFAELLIGER</th>\n",
       "      <th>FINANZ_HAUSBAUER</th>\n",
       "      <th>GREEN_AVANTGARDE</th>\n",
       "      <th>HEALTH_TYP</th>\n",
       "      <th>...</th>\n",
       "      <th>CAMEO_DEU_2015_7E</th>\n",
       "      <th>CAMEO_DEU_2015_8A</th>\n",
       "      <th>CAMEO_DEU_2015_8B</th>\n",
       "      <th>CAMEO_DEU_2015_8C</th>\n",
       "      <th>CAMEO_DEU_2015_8D</th>\n",
       "      <th>CAMEO_DEU_2015_9A</th>\n",
       "      <th>CAMEO_DEU_2015_9B</th>\n",
       "      <th>CAMEO_DEU_2015_9C</th>\n",
       "      <th>CAMEO_DEU_2015_9D</th>\n",
       "      <th>CAMEO_DEU_2015_9E</th>\n",
       "    </tr>\n",
       "  </thead>\n",
       "  <tbody>\n",
       "    <tr>\n",
       "      <th>891216</th>\n",
       "      <td>3.0</td>\n",
       "      <td>2</td>\n",
       "      <td>1</td>\n",
       "      <td>4</td>\n",
       "      <td>2</td>\n",
       "      <td>5</td>\n",
       "      <td>4</td>\n",
       "      <td>4</td>\n",
       "      <td>0</td>\n",
       "      <td>3.0</td>\n",
       "      <td>...</td>\n",
       "      <td>0</td>\n",
       "      <td>0</td>\n",
       "      <td>0</td>\n",
       "      <td>0</td>\n",
       "      <td>0</td>\n",
       "      <td>0</td>\n",
       "      <td>0</td>\n",
       "      <td>0</td>\n",
       "      <td>0</td>\n",
       "      <td>0</td>\n",
       "    </tr>\n",
       "    <tr>\n",
       "      <th>891217</th>\n",
       "      <td>2.0</td>\n",
       "      <td>1</td>\n",
       "      <td>3</td>\n",
       "      <td>3</td>\n",
       "      <td>3</td>\n",
       "      <td>2</td>\n",
       "      <td>2</td>\n",
       "      <td>3</td>\n",
       "      <td>0</td>\n",
       "      <td>NaN</td>\n",
       "      <td>...</td>\n",
       "      <td>0</td>\n",
       "      <td>0</td>\n",
       "      <td>0</td>\n",
       "      <td>0</td>\n",
       "      <td>0</td>\n",
       "      <td>0</td>\n",
       "      <td>0</td>\n",
       "      <td>0</td>\n",
       "      <td>1</td>\n",
       "      <td>0</td>\n",
       "    </tr>\n",
       "    <tr>\n",
       "      <th>891218</th>\n",
       "      <td>2.0</td>\n",
       "      <td>2</td>\n",
       "      <td>2</td>\n",
       "      <td>4</td>\n",
       "      <td>2</td>\n",
       "      <td>5</td>\n",
       "      <td>4</td>\n",
       "      <td>3</td>\n",
       "      <td>0</td>\n",
       "      <td>1.0</td>\n",
       "      <td>...</td>\n",
       "      <td>0</td>\n",
       "      <td>0</td>\n",
       "      <td>0</td>\n",
       "      <td>0</td>\n",
       "      <td>0</td>\n",
       "      <td>0</td>\n",
       "      <td>0</td>\n",
       "      <td>0</td>\n",
       "      <td>0</td>\n",
       "      <td>0</td>\n",
       "    </tr>\n",
       "    <tr>\n",
       "      <th>891219</th>\n",
       "      <td>1.0</td>\n",
       "      <td>1</td>\n",
       "      <td>1</td>\n",
       "      <td>5</td>\n",
       "      <td>3</td>\n",
       "      <td>5</td>\n",
       "      <td>5</td>\n",
       "      <td>5</td>\n",
       "      <td>0</td>\n",
       "      <td>1.0</td>\n",
       "      <td>...</td>\n",
       "      <td>0</td>\n",
       "      <td>0</td>\n",
       "      <td>0</td>\n",
       "      <td>0</td>\n",
       "      <td>0</td>\n",
       "      <td>0</td>\n",
       "      <td>0</td>\n",
       "      <td>0</td>\n",
       "      <td>1</td>\n",
       "      <td>0</td>\n",
       "    </tr>\n",
       "    <tr>\n",
       "      <th>891220</th>\n",
       "      <td>4.0</td>\n",
       "      <td>1</td>\n",
       "      <td>4</td>\n",
       "      <td>2</td>\n",
       "      <td>5</td>\n",
       "      <td>2</td>\n",
       "      <td>1</td>\n",
       "      <td>5</td>\n",
       "      <td>0</td>\n",
       "      <td>2.0</td>\n",
       "      <td>...</td>\n",
       "      <td>0</td>\n",
       "      <td>0</td>\n",
       "      <td>0</td>\n",
       "      <td>0</td>\n",
       "      <td>0</td>\n",
       "      <td>0</td>\n",
       "      <td>0</td>\n",
       "      <td>0</td>\n",
       "      <td>0</td>\n",
       "      <td>0</td>\n",
       "    </tr>\n",
       "  </tbody>\n",
       "</table>\n",
       "<p>5 rows × 195 columns</p>\n",
       "</div>"
      ],
      "text/plain": [
       "        ALTERSKATEGORIE_GROB  ANREDE_KZ  FINANZ_MINIMALIST  FINANZ_SPARER  \\\n",
       "891216                   3.0          2                  1              4   \n",
       "891217                   2.0          1                  3              3   \n",
       "891218                   2.0          2                  2              4   \n",
       "891219                   1.0          1                  1              5   \n",
       "891220                   4.0          1                  4              2   \n",
       "\n",
       "        FINANZ_VORSORGER  FINANZ_ANLEGER  FINANZ_UNAUFFAELLIGER  \\\n",
       "891216                 2               5                      4   \n",
       "891217                 3               2                      2   \n",
       "891218                 2               5                      4   \n",
       "891219                 3               5                      5   \n",
       "891220                 5               2                      1   \n",
       "\n",
       "        FINANZ_HAUSBAUER  GREEN_AVANTGARDE  HEALTH_TYP        ...          \\\n",
       "891216                 4                 0         3.0        ...           \n",
       "891217                 3                 0         NaN        ...           \n",
       "891218                 3                 0         1.0        ...           \n",
       "891219                 5                 0         1.0        ...           \n",
       "891220                 5                 0         2.0        ...           \n",
       "\n",
       "        CAMEO_DEU_2015_7E  CAMEO_DEU_2015_8A  CAMEO_DEU_2015_8B  \\\n",
       "891216                  0                  0                  0   \n",
       "891217                  0                  0                  0   \n",
       "891218                  0                  0                  0   \n",
       "891219                  0                  0                  0   \n",
       "891220                  0                  0                  0   \n",
       "\n",
       "        CAMEO_DEU_2015_8C  CAMEO_DEU_2015_8D  CAMEO_DEU_2015_9A  \\\n",
       "891216                  0                  0                  0   \n",
       "891217                  0                  0                  0   \n",
       "891218                  0                  0                  0   \n",
       "891219                  0                  0                  0   \n",
       "891220                  0                  0                  0   \n",
       "\n",
       "        CAMEO_DEU_2015_9B  CAMEO_DEU_2015_9C  CAMEO_DEU_2015_9D  \\\n",
       "891216                  0                  0                  0   \n",
       "891217                  0                  0                  1   \n",
       "891218                  0                  0                  0   \n",
       "891219                  0                  0                  1   \n",
       "891220                  0                  0                  0   \n",
       "\n",
       "        CAMEO_DEU_2015_9E  \n",
       "891216                  0  \n",
       "891217                  0  \n",
       "891218                  0  \n",
       "891219                  0  \n",
       "891220                  0  \n",
       "\n",
       "[5 rows x 195 columns]"
      ]
     },
<<<<<<< HEAD
     "execution_count": 34,
=======
     "execution_count": 32,
>>>>>>> d5ca0ed332afa9678dbdb657c09097591c65c96a
     "metadata": {},
     "output_type": "execute_result"
    }
   ],
   "source": [
    "azdias_below15.tail()"
   ]
  },
  {
   "cell_type": "markdown",
   "metadata": {},
   "source": [
    "#### Discussion 1.2.1: Re-Encode Categorical Features\n",
    "\n",
    "I chose to keep them all, as they are a small number of features that can be encoded, but in the end its reward to be meaningful in terms of data variability. The downside to this is that by adding the multi-level categoricals, I add 67 additional features into the dataset, which might affect the model's performance. Overall, I used the get_dummies method to encode the categorical variables, by first casting the values to actual categorical (prerequisite of the function). "
   ]
  },
  {
   "cell_type": "markdown",
   "metadata": {},
   "source": [
    "#### Step 1.2.2: Engineer Mixed-Type Features\n",
    "\n",
    "There are a handful of features that are marked as \"mixed\" in the feature summary that require special treatment in order to be included in the analysis. There are two in particular that deserve attention; the handling of the rest are up to your own choices:\n",
    "- \"PRAEGENDE_JUGENDJAHRE\" combines information on three dimensions: generation by decade, movement (mainstream vs. avantgarde), and nation (east vs. west). While there aren't enough levels to disentangle east from west, you should create two new variables to capture the other two dimensions: an interval-type variable for decade, and a binary variable for movement.\n",
    "- \"CAMEO_INTL_2015\" combines information on two axes: wealth and life stage. Break up the two-digit codes by their 'tens'-place and 'ones'-place digits into two new ordinal variables (which, for the purposes of this project, is equivalent to just treating them as their raw numeric values).\n",
    "- If you decide to keep or engineer new features around the other mixed-type features, make sure you note your steps in the Discussion section.\n",
    "\n",
    "Be sure to check `Data_Dictionary.md` for the details needed to finish these tasks."
   ]
  },
  {
   "cell_type": "code",
<<<<<<< HEAD
   "execution_count": 35,
=======
   "execution_count": 33,
>>>>>>> d5ca0ed332afa9678dbdb657c09097591c65c96a
   "metadata": {},
   "outputs": [
    {
     "data": {
      "text/html": [
       "<div>\n",
       "<style scoped>\n",
       "    .dataframe tbody tr th:only-of-type {\n",
       "        vertical-align: middle;\n",
       "    }\n",
       "\n",
       "    .dataframe tbody tr th {\n",
       "        vertical-align: top;\n",
       "    }\n",
       "\n",
       "    .dataframe thead th {\n",
       "        text-align: right;\n",
       "    }\n",
       "</style>\n",
       "<table border=\"1\" class=\"dataframe\">\n",
       "  <thead>\n",
       "    <tr style=\"text-align: right;\">\n",
       "      <th></th>\n",
       "      <th>attribute</th>\n",
       "      <th>information_level</th>\n",
       "      <th>type</th>\n",
       "      <th>missing_or_unknown</th>\n",
       "      <th>clean_tag</th>\n",
       "    </tr>\n",
       "  </thead>\n",
       "  <tbody>\n",
       "    <tr>\n",
       "      <th>15</th>\n",
       "      <td>LP_LEBENSPHASE_FEIN</td>\n",
       "      <td>person</td>\n",
       "      <td>mixed</td>\n",
       "      <td>[0]</td>\n",
       "      <td>0</td>\n",
       "    </tr>\n",
       "    <tr>\n",
       "      <th>16</th>\n",
       "      <td>LP_LEBENSPHASE_GROB</td>\n",
       "      <td>person</td>\n",
       "      <td>mixed</td>\n",
       "      <td>[0]</td>\n",
       "      <td>0</td>\n",
       "    </tr>\n",
       "    <tr>\n",
       "      <th>22</th>\n",
       "      <td>PRAEGENDE_JUGENDJAHRE</td>\n",
       "      <td>person</td>\n",
       "      <td>mixed</td>\n",
       "      <td>[-1,0]</td>\n",
       "      <td>-1,0</td>\n",
       "    </tr>\n",
       "    <tr>\n",
       "      <th>56</th>\n",
       "      <td>WOHNLAGE</td>\n",
       "      <td>building</td>\n",
       "      <td>mixed</td>\n",
       "      <td>[-1]</td>\n",
       "      <td>-1</td>\n",
       "    </tr>\n",
       "    <tr>\n",
       "      <th>59</th>\n",
       "      <td>CAMEO_INTL_2015</td>\n",
       "      <td>microcell_rr4</td>\n",
       "      <td>mixed</td>\n",
       "      <td>[-1,XX]</td>\n",
       "      <td>-1,XX</td>\n",
       "    </tr>\n",
       "    <tr>\n",
       "      <th>79</th>\n",
       "      <td>PLZ8_BAUMAX</td>\n",
       "      <td>macrocell_plz8</td>\n",
       "      <td>mixed</td>\n",
       "      <td>[-1,0]</td>\n",
       "      <td>-1,0</td>\n",
       "    </tr>\n",
       "  </tbody>\n",
       "</table>\n",
       "</div>"
      ],
      "text/plain": [
       "                attribute information_level   type missing_or_unknown  \\\n",
       "15    LP_LEBENSPHASE_FEIN            person  mixed                [0]   \n",
       "16    LP_LEBENSPHASE_GROB            person  mixed                [0]   \n",
       "22  PRAEGENDE_JUGENDJAHRE            person  mixed             [-1,0]   \n",
       "56               WOHNLAGE          building  mixed               [-1]   \n",
       "59        CAMEO_INTL_2015     microcell_rr4  mixed            [-1,XX]   \n",
       "79            PLZ8_BAUMAX    macrocell_plz8  mixed             [-1,0]   \n",
       "\n",
       "   clean_tag  \n",
       "15         0  \n",
       "16         0  \n",
       "22      -1,0  \n",
       "56        -1  \n",
       "59     -1,XX  \n",
       "79      -1,0  "
      ]
     },
<<<<<<< HEAD
     "execution_count": 35,
=======
     "execution_count": 33,
>>>>>>> d5ca0ed332afa9678dbdb657c09097591c65c96a
     "metadata": {},
     "output_type": "execute_result"
    }
   ],
   "source": [
    "mixed = feat_info_2[feat_info_2['type'] == 'mixed']\n",
    "mixed"
   ]
  },
  {
   "cell_type": "code",
<<<<<<< HEAD
   "execution_count": 36,
=======
   "execution_count": 34,
>>>>>>> d5ca0ed332afa9678dbdb657c09097591c65c96a
   "metadata": {},
   "outputs": [
    {
     "data": {
      "text/plain": [
       "1    14.0\n",
       "2    15.0\n",
       "3     8.0\n",
       "4     8.0\n",
       "5     3.0\n",
       "Name: PRAEGENDE_JUGENDJAHRE, dtype: float64"
      ]
     },
<<<<<<< HEAD
     "execution_count": 36,
=======
     "execution_count": 34,
>>>>>>> d5ca0ed332afa9678dbdb657c09097591c65c96a
     "metadata": {},
     "output_type": "execute_result"
    }
   ],
   "source": [
    "azdias_below15['PRAEGENDE_JUGENDJAHRE'].head()\n"
   ]
  },
  {
   "cell_type": "code",
<<<<<<< HEAD
   "execution_count": 37,
=======
   "execution_count": 35,
>>>>>>> d5ca0ed332afa9678dbdb657c09097591c65c96a
   "metadata": {},
   "outputs": [],
   "source": [
    "# Investigate \"PRAEGENDE_JUGENDJAHRE\" and engineer two new variables\n",
    "pragen_dec = {1 : 40,\n",
    "              2 : 40,\n",
    "              3 : 50,\n",
    "              4 : 50,\n",
    "              5 : 60,\n",
    "              6 : 60,\n",
    "              7 : 60,\n",
    "              8 : 70,\n",
    "              9 : 70,\n",
    "              10 : 80,\n",
    "              11 : 80,\n",
    "              12 : 80,\n",
    "              13 : 80,\n",
    "              14 : 90,\n",
    "              15 : 90}\n",
    "\n",
    "# Type of movement \n",
    "pragen_move = dict.fromkeys([1, 3, 5, 8, 10, 12, 14], True)\n",
    "pragen_move.update(dict.fromkeys([2, 4, 6, 7, 9, 11, 13, 15], False))\n",
    "\n",
    "azdias_below15['PRAEGENDE_JUGENDJAHRE_DECADE'] = azdias_below15['PRAEGENDE_JUGENDJAHRE'].map(pragen_dec)\n",
    "azdias_below15['PRAEGENDE_JUGENDJAHRE_MOVE'] = azdias_below15['PRAEGENDE_JUGENDJAHRE'].map(pragen_move)"
   ]
  },
  {
   "cell_type": "code",
<<<<<<< HEAD
   "execution_count": 38,
=======
   "execution_count": 36,
>>>>>>> d5ca0ed332afa9678dbdb657c09097591c65c96a
   "metadata": {},
   "outputs": [
    {
     "data": {
      "text/plain": [
       "1    51\n",
       "2    24\n",
       "3    12\n",
       "4    43\n",
       "5    54\n",
       "Name: CAMEO_INTL_2015, dtype: object"
      ]
     },
<<<<<<< HEAD
     "execution_count": 38,
=======
     "execution_count": 36,
>>>>>>> d5ca0ed332afa9678dbdb657c09097591c65c96a
     "metadata": {},
     "output_type": "execute_result"
    }
   ],
   "source": [
    "azdias_below15['CAMEO_INTL_2015'].head()\n"
   ]
  },
  {
   "cell_type": "code",
<<<<<<< HEAD
   "execution_count": 39,
=======
   "execution_count": 37,
>>>>>>> d5ca0ed332afa9678dbdb657c09097591c65c96a
   "metadata": {},
   "outputs": [
    {
     "data": {
      "text/plain": [
       "15      LP_LEBENSPHASE_FEIN\n",
       "16      LP_LEBENSPHASE_GROB\n",
       "22    PRAEGENDE_JUGENDJAHRE\n",
       "56                 WOHNLAGE\n",
       "59          CAMEO_INTL_2015\n",
       "79              PLZ8_BAUMAX\n",
       "Name: attribute, dtype: object"
      ]
     },
<<<<<<< HEAD
     "execution_count": 39,
=======
     "execution_count": 37,
>>>>>>> d5ca0ed332afa9678dbdb657c09097591c65c96a
     "metadata": {},
     "output_type": "execute_result"
    }
   ],
   "source": [
    "# Investigate \"CAMEO_INTL_2015\" and engineer two new variables.\n",
    "cameo = azdias_below15['CAMEO_INTL_2015']\n",
    "cameo_wealth = [str(elem)[0] for elem in cameo.values]\n",
    "cameo_stage = [str(elem)[1] for elem in cameo.values]\n",
    "\n",
    "cameo_map = {'1' : 1,\n",
    "              '2' : 2,\n",
    "              '3' : 3,\n",
    "              '4' : 4,\n",
    "              '5' : 5,\n",
    "              'X' : np.nan}\n",
    "\n",
    "# print(cameo.unique())\n",
    "# print(np.unique(cameo_wealth))\n",
    "\n",
    "azdias_below15['CAMEO_WEALTH'] = pd.Series(cameo_wealth).map(cameo_map)\n",
    "azdias_below15['CAMEO_STAGE'] = pd.Series(cameo_stage).map(cameo_map)\n",
    "# azdias_below15['CAMEO_WEALTH'].describe()\n",
    "mixed.attribute"
   ]
  },
  {
   "cell_type": "code",
<<<<<<< HEAD
   "execution_count": 40,
=======
   "execution_count": 38,
>>>>>>> d5ca0ed332afa9678dbdb657c09097591c65c96a
   "metadata": {},
   "outputs": [
    {
     "data": {
      "text/html": [
       "<div>\n",
       "<style scoped>\n",
       "    .dataframe tbody tr th:only-of-type {\n",
       "        vertical-align: middle;\n",
       "    }\n",
       "\n",
       "    .dataframe tbody tr th {\n",
       "        vertical-align: top;\n",
       "    }\n",
       "\n",
       "    .dataframe thead th {\n",
       "        text-align: right;\n",
       "    }\n",
       "</style>\n",
       "<table border=\"1\" class=\"dataframe\">\n",
       "  <thead>\n",
       "    <tr style=\"text-align: right;\">\n",
       "      <th></th>\n",
       "      <th>LP_LEBENSPHASE_FEIN</th>\n",
       "      <th>LP_LEBENSPHASE_GROB</th>\n",
       "      <th>PRAEGENDE_JUGENDJAHRE</th>\n",
       "      <th>WOHNLAGE</th>\n",
       "      <th>PLZ8_BAUMAX</th>\n",
       "    </tr>\n",
       "  </thead>\n",
       "  <tbody>\n",
       "    <tr>\n",
       "      <th>count</th>\n",
       "      <td>734256.000000</td>\n",
       "      <td>736940.000000</td>\n",
       "      <td>754677.000000</td>\n",
       "      <td>781280.000000</td>\n",
       "      <td>772720.000000</td>\n",
       "    </tr>\n",
       "    <tr>\n",
       "      <th>mean</th>\n",
       "      <td>16.285173</td>\n",
       "      <td>4.942333</td>\n",
       "      <td>9.256898</td>\n",
       "      <td>4.063525</td>\n",
       "      <td>1.945043</td>\n",
       "    </tr>\n",
       "    <tr>\n",
       "      <th>std</th>\n",
       "      <td>12.254198</td>\n",
       "      <td>3.752334</td>\n",
       "      <td>4.026299</td>\n",
       "      <td>1.925802</td>\n",
       "      <td>1.460145</td>\n",
       "    </tr>\n",
       "    <tr>\n",
       "      <th>min</th>\n",
       "      <td>1.000000</td>\n",
       "      <td>1.000000</td>\n",
       "      <td>1.000000</td>\n",
       "      <td>0.000000</td>\n",
       "      <td>1.000000</td>\n",
       "    </tr>\n",
       "    <tr>\n",
       "      <th>25%</th>\n",
       "      <td>6.000000</td>\n",
       "      <td>2.000000</td>\n",
       "      <td>6.000000</td>\n",
       "      <td>3.000000</td>\n",
       "      <td>1.000000</td>\n",
       "    </tr>\n",
       "    <tr>\n",
       "      <th>50%</th>\n",
       "      <td>13.000000</td>\n",
       "      <td>3.000000</td>\n",
       "      <td>9.000000</td>\n",
       "      <td>3.000000</td>\n",
       "      <td>1.000000</td>\n",
       "    </tr>\n",
       "    <tr>\n",
       "      <th>75%</th>\n",
       "      <td>28.000000</td>\n",
       "      <td>8.000000</td>\n",
       "      <td>14.000000</td>\n",
       "      <td>5.000000</td>\n",
       "      <td>3.000000</td>\n",
       "    </tr>\n",
       "    <tr>\n",
       "      <th>max</th>\n",
       "      <td>40.000000</td>\n",
       "      <td>12.000000</td>\n",
       "      <td>15.000000</td>\n",
       "      <td>8.000000</td>\n",
       "      <td>5.000000</td>\n",
       "    </tr>\n",
       "  </tbody>\n",
       "</table>\n",
       "</div>"
      ],
      "text/plain": [
       "       LP_LEBENSPHASE_FEIN  LP_LEBENSPHASE_GROB  PRAEGENDE_JUGENDJAHRE  \\\n",
       "count        734256.000000        736940.000000          754677.000000   \n",
       "mean             16.285173             4.942333               9.256898   \n",
       "std              12.254198             3.752334               4.026299   \n",
       "min               1.000000             1.000000               1.000000   \n",
       "25%               6.000000             2.000000               6.000000   \n",
       "50%              13.000000             3.000000               9.000000   \n",
       "75%              28.000000             8.000000              14.000000   \n",
       "max              40.000000            12.000000              15.000000   \n",
       "\n",
       "            WOHNLAGE    PLZ8_BAUMAX  \n",
       "count  781280.000000  772720.000000  \n",
       "mean        4.063525       1.945043  \n",
       "std         1.925802       1.460145  \n",
       "min         0.000000       1.000000  \n",
       "25%         3.000000       1.000000  \n",
       "50%         3.000000       1.000000  \n",
       "75%         5.000000       3.000000  \n",
       "max         8.000000       5.000000  "
      ]
     },
<<<<<<< HEAD
     "execution_count": 40,
=======
     "execution_count": 38,
>>>>>>> d5ca0ed332afa9678dbdb657c09097591c65c96a
     "metadata": {},
     "output_type": "execute_result"
    }
   ],
   "source": [
    "attrib = mixed.attribute.values\n",
    "azdias_mixed = azdias_below15[attrib]\n",
    "azdias_mixed.describe()"
   ]
  },
  {
   "cell_type": "code",
<<<<<<< HEAD
   "execution_count": 41,
=======
   "execution_count": 39,
>>>>>>> d5ca0ed332afa9678dbdb657c09097591c65c96a
   "metadata": {},
   "outputs": [
    {
     "data": {
      "text/plain": [
       "LP_LEBENSPHASE_FEIN      47024\n",
       "LP_LEBENSPHASE_GROB      44340\n",
       "PRAEGENDE_JUGENDJAHRE    26603\n",
       "WOHNLAGE                     0\n",
       "CAMEO_INTL_2015           4107\n",
       "PLZ8_BAUMAX               8560\n",
       "dtype: int64"
      ]
     },
<<<<<<< HEAD
     "execution_count": 41,
=======
     "execution_count": 39,
>>>>>>> d5ca0ed332afa9678dbdb657c09097591c65c96a
     "metadata": {},
     "output_type": "execute_result"
    }
   ],
   "source": [
    "azdias_mixed.isna().sum()"
   ]
  },
  {
   "cell_type": "code",
<<<<<<< HEAD
   "execution_count": 42,
=======
   "execution_count": 40,
>>>>>>> d5ca0ed332afa9678dbdb657c09097591c65c96a
   "metadata": {
    "scrolled": true
   },
   "outputs": [],
   "source": [
    "azdias_below15.drop(['LP_LEBENSPHASE_GROB', 'LP_LEBENSPHASE_FEIN'], inplace=True, axis=1) # Many N/A values and similar info to other features"
   ]
  },
  {
   "cell_type": "code",
<<<<<<< HEAD
   "execution_count": 43,
=======
   "execution_count": 41,
>>>>>>> d5ca0ed332afa9678dbdb657c09097591c65c96a
   "metadata": {},
   "outputs": [
    {
     "data": {
      "text/plain": [
       "1    4.0\n",
       "2    2.0\n",
       "3    7.0\n",
       "4    3.0\n",
       "5    7.0\n",
       "Name: WOHNLAGE, dtype: float64"
      ]
     },
<<<<<<< HEAD
     "execution_count": 43,
=======
     "execution_count": 41,
>>>>>>> d5ca0ed332afa9678dbdb657c09097591c65c96a
     "metadata": {},
     "output_type": "execute_result"
    }
   ],
   "source": [
    "azdias_below15['WOHNLAGE'].head()"
   ]
  },
  {
   "cell_type": "code",
<<<<<<< HEAD
   "execution_count": 44,
=======
   "execution_count": 42,
>>>>>>> d5ca0ed332afa9678dbdb657c09097591c65c96a
   "metadata": {},
   "outputs": [
    {
     "data": {
      "text/plain": [
       "3.0    246431\n",
       "7.0    167386\n",
       "4.0    134193\n",
       "2.0     98898\n",
       "5.0     73006\n",
       "1.0     43238\n",
       "8.0     15115\n",
       "0.0      3013\n",
       "Name: WOHNLAGE, dtype: int64"
      ]
     },
<<<<<<< HEAD
     "execution_count": 44,
=======
     "execution_count": 42,
>>>>>>> d5ca0ed332afa9678dbdb657c09097591c65c96a
     "metadata": {},
     "output_type": "execute_result"
    }
   ],
   "source": [
    "azdias_below15['WOHNLAGE'].value_counts()"
   ]
  },
  {
   "cell_type": "code",
<<<<<<< HEAD
   "execution_count": 45,
=======
   "execution_count": 43,
>>>>>>> d5ca0ed332afa9678dbdb657c09097591c65c96a
   "metadata": {},
   "outputs": [
    {
     "data": {
      "text/plain": [
       "1    1.0\n",
       "2    1.0\n",
       "3    1.0\n",
       "4    2.0\n",
       "5    1.0\n",
       "Name: PLZ8_BAUMAX, dtype: float64"
      ]
     },
<<<<<<< HEAD
     "execution_count": 45,
=======
     "execution_count": 43,
>>>>>>> d5ca0ed332afa9678dbdb657c09097591c65c96a
     "metadata": {},
     "output_type": "execute_result"
    }
   ],
   "source": [
    "azdias_below15['PLZ8_BAUMAX'].head()"
   ]
  },
  {
   "cell_type": "code",
<<<<<<< HEAD
   "execution_count": 46,
=======
   "execution_count": 44,
>>>>>>> d5ca0ed332afa9678dbdb657c09097591c65c96a
   "metadata": {},
   "outputs": [
    {
     "data": {
      "text/plain": [
       "1.0    497943\n",
       "5.0     97190\n",
       "2.0     70294\n",
       "4.0     56614\n",
       "3.0     50679\n",
       "Name: PLZ8_BAUMAX, dtype: int64"
      ]
     },
<<<<<<< HEAD
     "execution_count": 46,
=======
     "execution_count": 44,
>>>>>>> d5ca0ed332afa9678dbdb657c09097591c65c96a
     "metadata": {},
     "output_type": "execute_result"
    }
   ],
   "source": [
    "azdias_below15['PLZ8_BAUMAX'].value_counts()"
   ]
  },
  {
   "cell_type": "code",
<<<<<<< HEAD
   "execution_count": 47,
=======
   "execution_count": 45,
>>>>>>> d5ca0ed332afa9678dbdb657c09097591c65c96a
   "metadata": {},
   "outputs": [],
   "source": [
    "# Number of families hosted on site\n",
    "plz8_size = { 1 : 1.5,\n",
    "              2 : 3.5,\n",
    "              3 : 8,\n",
    "              4 : 10,\n",
    "              5 : np.nan\n",
    "            }\n",
    "\n",
    "# Family or Business Estate\n",
    "plz8_type = dict.fromkeys([1, 2, 3, 4], True)\n",
    "plz8_type.update({5: False})\n",
    "\n",
    "azdias_below15['PLZ8_BAUMAX_SIZE'] = azdias_below15['PLZ8_BAUMAX'].map(plz8_size)\n",
    "azdias_below15['PLZ8_BAUMAX_TYPE'] = azdias_below15['PLZ8_BAUMAX'].map(plz8_type)"
   ]
  },
  {
   "cell_type": "code",
<<<<<<< HEAD
   "execution_count": 48,
=======
   "execution_count": 46,
>>>>>>> d5ca0ed332afa9678dbdb657c09097591c65c96a
   "metadata": {},
   "outputs": [
    {
     "data": {
      "text/plain": [
       "1    1.5\n",
       "2    1.5\n",
       "3    1.5\n",
       "4    3.5\n",
       "5    1.5\n",
       "Name: PLZ8_BAUMAX_SIZE, dtype: float64"
      ]
     },
<<<<<<< HEAD
     "execution_count": 48,
=======
     "execution_count": 46,
>>>>>>> d5ca0ed332afa9678dbdb657c09097591c65c96a
     "metadata": {},
     "output_type": "execute_result"
    }
   ],
   "source": [
    "azdias_below15['PLZ8_BAUMAX_SIZE'].head()"
   ]
  },
  {
   "cell_type": "markdown",
   "metadata": {},
   "source": [
    "#### Discussion 1.2.2: Engineer Mixed-Type Features\n",
    "\n",
    "The features kept where the **PRAEGENDE_JUGENDJAHRE**, **WOHNLAGE**, **CAMEO_INTL_2015** and **PLZ8_BAUMAX**, from the mixed type. These are variables with mixed information and/or notations, so had the need of being analyzed. For the first one I engineered two new variables, that depicted the decade or generation that a person had been growing up (as interval) and also the movement that they followed in their youth (as binary). The second feature, I kept it as it was. I decided to do that as it was the \"cleanest\" with no NaN variables and also its values had a clear separation as to what they depicted, and there wasn't any further room for splitting it. For the third feature, I made two new variables which specifically depicted the wealth and the life stage of one individual. More specifically, they are numeric ordinal variables, for which I split the original variable at its 'tens' and 'ones' place, and mapped the values accordingly. Lastly, for the last feature, I made two new features, which depicted the number of families living on the same site (as Interval) and whether the building was residential or commercial (as binary). The rest of the features were dropped, as they were either with many NaN values (e.g. **LP_LEBENSPHASE_GROB**) and much complex in terms of the information stored within the variables (e.g. **LP_LEBENSPHASE_FEIN**)."
   ]
  },
  {
   "cell_type": "markdown",
   "metadata": {},
   "source": [
    "#### Step 1.2.3: Complete Feature Selection\n",
    "\n",
    "In order to finish this step up, you need to make sure that your data frame now only has the columns that you want to keep. To summarize, the dataframe should consist of the following:\n",
    "- All numeric, interval, and ordinal type columns from the original dataset.\n",
    "- Binary categorical features (all numerically-encoded).\n",
    "- Engineered features from other multi-level categorical features and mixed features.\n",
    "\n",
    "Make sure that for any new columns that you have engineered, that you've excluded the original columns from the final dataset. Otherwise, their values will interfere with the analysis later on the project. For example, you should not keep \"PRAEGENDE_JUGENDJAHRE\", since its values won't be useful for the algorithm: only the values derived from it in the engineered features you created should be retained. As a reminder, your data should only be from **the subset with few or no missing values**."
   ]
  },
  {
   "cell_type": "code",
<<<<<<< HEAD
   "execution_count": 49,
=======
   "execution_count": 47,
>>>>>>> d5ca0ed332afa9678dbdb657c09097591c65c96a
   "metadata": {
    "scrolled": true
   },
   "outputs": [],
   "source": [
    "# Dropping the original non-engineered columns\n",
    "\n",
    "azdias_below15.drop(['PLZ8_BAUMAX', 'CAMEO_INTL_2015', 'PRAEGENDE_JUGENDJAHRE'], inplace=True, axis=1)"
   ]
  },
  {
   "cell_type": "code",
<<<<<<< HEAD
   "execution_count": 50,
=======
   "execution_count": 48,
>>>>>>> d5ca0ed332afa9678dbdb657c09097591c65c96a
   "metadata": {},
   "outputs": [
    {
     "data": {
      "text/html": [
       "<div>\n",
       "<style scoped>\n",
       "    .dataframe tbody tr th:only-of-type {\n",
       "        vertical-align: middle;\n",
       "    }\n",
       "\n",
       "    .dataframe tbody tr th {\n",
       "        vertical-align: top;\n",
       "    }\n",
       "\n",
       "    .dataframe thead th {\n",
       "        text-align: right;\n",
       "    }\n",
       "</style>\n",
       "<table border=\"1\" class=\"dataframe\">\n",
       "  <thead>\n",
       "    <tr style=\"text-align: right;\">\n",
       "      <th></th>\n",
       "      <th>ALTERSKATEGORIE_GROB</th>\n",
       "      <th>ANREDE_KZ</th>\n",
       "      <th>FINANZ_MINIMALIST</th>\n",
       "      <th>FINANZ_SPARER</th>\n",
       "      <th>FINANZ_VORSORGER</th>\n",
       "      <th>FINANZ_ANLEGER</th>\n",
       "      <th>FINANZ_UNAUFFAELLIGER</th>\n",
       "      <th>FINANZ_HAUSBAUER</th>\n",
       "      <th>GREEN_AVANTGARDE</th>\n",
       "      <th>HEALTH_TYP</th>\n",
       "      <th>...</th>\n",
       "      <th>CAMEO_DEU_2015_9B</th>\n",
       "      <th>CAMEO_DEU_2015_9C</th>\n",
       "      <th>CAMEO_DEU_2015_9D</th>\n",
       "      <th>CAMEO_DEU_2015_9E</th>\n",
       "      <th>PRAEGENDE_JUGENDJAHRE_DECADE</th>\n",
       "      <th>PRAEGENDE_JUGENDJAHRE_MOVE</th>\n",
       "      <th>CAMEO_WEALTH</th>\n",
       "      <th>CAMEO_STAGE</th>\n",
       "      <th>PLZ8_BAUMAX_SIZE</th>\n",
       "      <th>PLZ8_BAUMAX_TYPE</th>\n",
       "    </tr>\n",
       "  </thead>\n",
       "  <tbody>\n",
       "    <tr>\n",
       "      <th>1</th>\n",
       "      <td>1.0</td>\n",
       "      <td>2</td>\n",
       "      <td>1</td>\n",
       "      <td>5</td>\n",
       "      <td>2</td>\n",
       "      <td>5</td>\n",
       "      <td>4</td>\n",
       "      <td>5</td>\n",
       "      <td>0</td>\n",
       "      <td>3.0</td>\n",
       "      <td>...</td>\n",
       "      <td>0</td>\n",
       "      <td>0</td>\n",
       "      <td>0</td>\n",
       "      <td>0</td>\n",
       "      <td>90.0</td>\n",
       "      <td>True</td>\n",
       "      <td>2.0</td>\n",
       "      <td>4.0</td>\n",
       "      <td>1.5</td>\n",
       "      <td>True</td>\n",
       "    </tr>\n",
       "    <tr>\n",
       "      <th>2</th>\n",
       "      <td>3.0</td>\n",
       "      <td>2</td>\n",
       "      <td>1</td>\n",
       "      <td>4</td>\n",
       "      <td>1</td>\n",
       "      <td>2</td>\n",
       "      <td>3</td>\n",
       "      <td>5</td>\n",
       "      <td>1</td>\n",
       "      <td>3.0</td>\n",
       "      <td>...</td>\n",
       "      <td>0</td>\n",
       "      <td>0</td>\n",
       "      <td>0</td>\n",
       "      <td>0</td>\n",
       "      <td>90.0</td>\n",
       "      <td>False</td>\n",
       "      <td>1.0</td>\n",
       "      <td>2.0</td>\n",
       "      <td>1.5</td>\n",
       "      <td>True</td>\n",
       "    </tr>\n",
       "    <tr>\n",
       "      <th>3</th>\n",
       "      <td>4.0</td>\n",
       "      <td>2</td>\n",
       "      <td>4</td>\n",
       "      <td>2</td>\n",
       "      <td>5</td>\n",
       "      <td>2</td>\n",
       "      <td>1</td>\n",
       "      <td>2</td>\n",
       "      <td>0</td>\n",
       "      <td>2.0</td>\n",
       "      <td>...</td>\n",
       "      <td>0</td>\n",
       "      <td>0</td>\n",
       "      <td>0</td>\n",
       "      <td>0</td>\n",
       "      <td>70.0</td>\n",
       "      <td>True</td>\n",
       "      <td>4.0</td>\n",
       "      <td>3.0</td>\n",
       "      <td>1.5</td>\n",
       "      <td>True</td>\n",
       "    </tr>\n",
       "    <tr>\n",
       "      <th>4</th>\n",
       "      <td>3.0</td>\n",
       "      <td>1</td>\n",
       "      <td>4</td>\n",
       "      <td>3</td>\n",
       "      <td>4</td>\n",
       "      <td>1</td>\n",
       "      <td>3</td>\n",
       "      <td>2</td>\n",
       "      <td>0</td>\n",
       "      <td>3.0</td>\n",
       "      <td>...</td>\n",
       "      <td>0</td>\n",
       "      <td>0</td>\n",
       "      <td>0</td>\n",
       "      <td>0</td>\n",
       "      <td>70.0</td>\n",
       "      <td>True</td>\n",
       "      <td>5.0</td>\n",
       "      <td>4.0</td>\n",
       "      <td>3.5</td>\n",
       "      <td>True</td>\n",
       "    </tr>\n",
       "    <tr>\n",
       "      <th>5</th>\n",
       "      <td>1.0</td>\n",
       "      <td>2</td>\n",
       "      <td>3</td>\n",
       "      <td>1</td>\n",
       "      <td>5</td>\n",
       "      <td>2</td>\n",
       "      <td>2</td>\n",
       "      <td>5</td>\n",
       "      <td>0</td>\n",
       "      <td>3.0</td>\n",
       "      <td>...</td>\n",
       "      <td>0</td>\n",
       "      <td>0</td>\n",
       "      <td>0</td>\n",
       "      <td>0</td>\n",
       "      <td>50.0</td>\n",
       "      <td>True</td>\n",
       "      <td>2.0</td>\n",
       "      <td>2.0</td>\n",
       "      <td>1.5</td>\n",
       "      <td>True</td>\n",
       "    </tr>\n",
       "  </tbody>\n",
       "</table>\n",
       "<p>5 rows × 196 columns</p>\n",
       "</div>"
      ],
      "text/plain": [
       "   ALTERSKATEGORIE_GROB  ANREDE_KZ  FINANZ_MINIMALIST  FINANZ_SPARER  \\\n",
       "1                   1.0          2                  1              5   \n",
       "2                   3.0          2                  1              4   \n",
       "3                   4.0          2                  4              2   \n",
       "4                   3.0          1                  4              3   \n",
       "5                   1.0          2                  3              1   \n",
       "\n",
       "   FINANZ_VORSORGER  FINANZ_ANLEGER  FINANZ_UNAUFFAELLIGER  FINANZ_HAUSBAUER  \\\n",
       "1                 2               5                      4                 5   \n",
       "2                 1               2                      3                 5   \n",
       "3                 5               2                      1                 2   \n",
       "4                 4               1                      3                 2   \n",
       "5                 5               2                      2                 5   \n",
       "\n",
       "   GREEN_AVANTGARDE  HEALTH_TYP        ...         CAMEO_DEU_2015_9B  \\\n",
       "1                 0         3.0        ...                         0   \n",
       "2                 1         3.0        ...                         0   \n",
       "3                 0         2.0        ...                         0   \n",
       "4                 0         3.0        ...                         0   \n",
       "5                 0         3.0        ...                         0   \n",
       "\n",
       "   CAMEO_DEU_2015_9C  CAMEO_DEU_2015_9D  CAMEO_DEU_2015_9E  \\\n",
       "1                  0                  0                  0   \n",
       "2                  0                  0                  0   \n",
       "3                  0                  0                  0   \n",
       "4                  0                  0                  0   \n",
       "5                  0                  0                  0   \n",
       "\n",
       "   PRAEGENDE_JUGENDJAHRE_DECADE  PRAEGENDE_JUGENDJAHRE_MOVE  CAMEO_WEALTH  \\\n",
       "1                          90.0                        True           2.0   \n",
       "2                          90.0                       False           1.0   \n",
       "3                          70.0                        True           4.0   \n",
       "4                          70.0                        True           5.0   \n",
       "5                          50.0                        True           2.0   \n",
       "\n",
       "   CAMEO_STAGE  PLZ8_BAUMAX_SIZE  PLZ8_BAUMAX_TYPE  \n",
       "1          4.0               1.5              True  \n",
       "2          2.0               1.5              True  \n",
       "3          3.0               1.5              True  \n",
       "4          4.0               3.5              True  \n",
       "5          2.0               1.5              True  \n",
       "\n",
       "[5 rows x 196 columns]"
      ]
     },
<<<<<<< HEAD
     "execution_count": 50,
=======
     "execution_count": 48,
>>>>>>> d5ca0ed332afa9678dbdb657c09097591c65c96a
     "metadata": {},
     "output_type": "execute_result"
    }
   ],
   "source": [
    "# Do whatever you need to in order to ensure that the dataframe only contains\n",
    "# the columns that should be passed to the algorithm functions.\n",
    "azdias_below15.head()\n"
   ]
  },
  {
   "cell_type": "markdown",
   "metadata": {},
   "source": [
    "### Step 1.3: Create a Cleaning Function\n",
    "\n",
    "Even though you've finished cleaning up the general population demographics data, it's important to look ahead to the future and realize that you'll need to perform the same cleaning steps on the customer demographics data. In this substep, complete the function below to execute the main feature selection, encoding, and re-engineering steps you performed above. Then, when it comes to looking at the customer data in Step 3, you can just run this function on that DataFrame to get the trimmed dataset in a single step."
   ]
  },
  {
   "cell_type": "code",
<<<<<<< HEAD
   "execution_count": 51,
=======
   "execution_count": 49,
>>>>>>> d5ca0ed332afa9678dbdb657c09097591c65c96a
   "metadata": {},
   "outputs": [],
   "source": [
    "def clean_data(df):\n",
    "    \"\"\"\n",
    "    Perform feature trimming, re-encoding, and engineering for demographics\n",
    "    data\n",
    "    \n",
    "    INPUT: Demographics DataFrame\n",
    "    OUTPUT: Trimmed and cleaned demographics DataFrame\n",
    "    \"\"\"\n",
    "    # convert missing value codes into NaNs\n",
    "    for column in range(df.shape[1]):\n",
    "        tag_tup = feat_info.iloc[column]['clean_tag']\n",
    "        tag_arr = tag_tup.split(sep=\",\")\n",
    "        tag = [eval(i) if (i != 'X' and i != 'XX' and i != '') else i for i in tag_arr]\n",
    "        if tag != ['']:\n",
    "            df_clean = df.replace({feat_info.iloc[column]['attribute']:tag}, np.nan) \n",
    "    \n",
    "    # remove columns of high NaN value count\n",
    "    df_nan = (df_clean.isna().sum()/len(df_clean))*100\n",
    "    df_nan.sort_values(ascending=False)\n",
    "    outliers = df_nan[df_nan >= 30] \n",
    "    df_clean.drop(outliers.index, axis=1, inplace=True)\n",
    "    \n",
    "    # remove rows of high NaN value count\n",
    "    df_rownan = (df_clean.isna().sum(axis=1)/len(df_clean.columns))*100\n",
    "    df_rownan.sort_values(ascending=False)\n",
    "    df_out = df_rownan[df_rownan >= 15]\n",
    "    df_in = df_rownan.drop(df_out.index)\n",
    "    df_clean = df_clean.iloc[df_in.index, :]\n",
    "    \n",
    "    ## select, re-encode, and engineer column values.\n",
    "    \n",
    "    # wrangling non-numeric binary categoricals\n",
    "    binar_non = df_clean['OST_WEST_KZ'] \n",
    "    binar_non = pd.get_dummies(binar_non.astype('category'), prefix='OST_WEST_KZ')\n",
    "    df_clean.drop('OST_WEST_KZ', axis=1, inplace=True)\n",
    "    df_clean = pd.concat([df_clean, binar_non], axis=1)\n",
    "    \n",
    "    # wrangling multi-level categoricals\n",
    "    multi_df = df_clean[multi]\n",
    "    multi_dummy = pd.get_dummies(multi_df.astype('category'), prefix=multi)\n",
    "    df_clean.drop(multi, axis=1, inplace=True)\n",
    "    df_clean = pd.concat([df_clean, multi_dummy], axis=1)\n",
    "    \n",
    "    # wrangling mixed-type features\n",
    "    df_clean['PRAEGENDE_JUGENDJAHRE_DECADE'] = df_clean['PRAEGENDE_JUGENDJAHRE'].map(pragen_dec)\n",
    "    df_clean['PRAEGENDE_JUGENDJAHRE_MOVE'] = df_clean['PRAEGENDE_JUGENDJAHRE'].map(pragen_move)\n",
    "    \n",
    "    cameo = df_clean['CAMEO_INTL_2015']\n",
    "    cameo_wealth = [str(elem)[0] for elem in cameo.values]\n",
    "    cameo_stage = [str(elem)[1] for elem in cameo.values]\n",
    "    df_clean['CAMEO_WEALTH'] = pd.Series(cameo_wealth).map(cameo_map)\n",
    "    df_clean['CAMEO_STAGE'] = pd.Series(cameo_stage).map(cameo_map)\n",
    "    \n",
    "    df_clean.drop(['LP_LEBENSPHASE_GROB', 'LP_LEBENSPHASE_FEIN'], inplace=True, axis=1)\n",
    "    \n",
    "    df_clean['PLZ8_BAUMAX_SIZE'] = df_clean['PLZ8_BAUMAX'].map(plz8_size)\n",
    "    df_clean['PLZ8_BAUMAX_TYPE'] = df_clean['PLZ8_BAUMAX'].map(plz8_type)\n",
    "    \n",
    "    df_clean.drop(['PLZ8_BAUMAX', 'CAMEO_INTL_2015', 'PRAEGENDE_JUGENDJAHRE'], inplace=True, axis=1)\n",
    "    \n",
    "    # Return the cleaned dataframe.\n",
    "    return(df_clean)\n",
    "    "
   ]
  },
  {
   "cell_type": "markdown",
   "metadata": {},
   "source": [
    "## Step 2: Feature Transformation\n",
    "\n",
    "### Step 2.1: Apply Feature Scaling\n",
    "\n",
    "Before we apply dimensionality reduction techniques to the data, we need to perform feature scaling so that the principal component vectors are not influenced by the natural differences in scale for features. Starting from this part of the project, you'll want to keep an eye on the [API reference page for sklearn](http://scikit-learn.org/stable/modules/classes.html) to help you navigate to all of the classes and functions that you'll need. In this substep, you'll need to check the following:\n",
    "\n",
    "- sklearn requires that data not have missing values in order for its estimators to work properly. So, before applying the scaler to your data, make sure that you've cleaned the DataFrame of the remaining missing values. This can be as simple as just removing all data points with missing data, or applying an [Imputer](https://scikit-learn.org/0.16/modules/generated/sklearn.preprocessing.Imputer.html) to replace all missing values. You might also try a more complicated procedure where you temporarily remove missing values in order to compute the scaling parameters before re-introducing those missing values and applying imputation. Think about how much missing data you have and what possible effects each approach might have on your analysis, and justify your decision in the discussion section below.\n",
    "- For the actual scaling function, a [StandardScaler](http://scikit-learn.org/stable/modules/generated/sklearn.preprocessing.StandardScaler.html) instance is suggested, scaling each feature to mean 0 and standard deviation 1.\n",
    "- For these classes, you can make use of the `.fit_transform()` method to both fit a procedure to the data as well as apply the transformation to the data at the same time. Don't forget to keep the fit sklearn objects handy, since you'll be applying them to the customer demographics data towards the end of the project."
   ]
  },
  {
   "cell_type": "code",
<<<<<<< HEAD
   "execution_count": 52,
=======
   "execution_count": 50,
>>>>>>> d5ca0ed332afa9678dbdb657c09097591c65c96a
   "metadata": {},
   "outputs": [
    {
     "name": "stdout",
     "output_type": "stream",
     "text": [
      "The NaN values are 0.55% of the dataset\n"
     ]
    }
   ],
   "source": [
    "# Counting all NaNs\n",
    "na_count = azdias_below15.isna().sum().sum()\n",
    "na_ratio = na_count/azdias_below15.size\n",
    "print(\"The NaN values are {:.2f}% of the dataset\".format(na_ratio*100))"
   ]
  },
  {
   "cell_type": "code",
<<<<<<< HEAD
   "execution_count": 53,
   "metadata": {},
   "outputs": [],
   "source": [
=======
   "execution_count": 51,
   "metadata": {},
   "outputs": [],
   "source": [
    "from sklearn.preprocessing import Imputer, StandardScaler\n",
    "\n",
>>>>>>> d5ca0ed332afa9678dbdb657c09097591c65c96a
    "imp = Imputer()\n",
    "intervals = azdias_below15.select_dtypes(pd.Interval)\n",
    "\n",
    "azdias_below15['PRAEGENDE_JUGENDJAHRE_MOVE'] = (intervals['PRAEGENDE_JUGENDJAHRE_MOVE'] == True) # Converting object types to bool\n",
    "azdias_below15['PLZ8_BAUMAX_TYPE'] = (intervals['PLZ8_BAUMAX_TYPE'] == True)\n"
   ]
  },
  {
   "cell_type": "code",
<<<<<<< HEAD
   "execution_count": 54,
=======
   "execution_count": 52,
>>>>>>> d5ca0ed332afa9678dbdb657c09097591c65c96a
   "metadata": {},
   "outputs": [
    {
     "data": {
      "text/plain": [
       "ALTERSKATEGORIE_GROB            float64\n",
       "ANREDE_KZ                         int64\n",
       "FINANZ_MINIMALIST                 int64\n",
       "FINANZ_SPARER                     int64\n",
       "FINANZ_VORSORGER                  int64\n",
       "FINANZ_ANLEGER                    int64\n",
       "FINANZ_UNAUFFAELLIGER             int64\n",
       "FINANZ_HAUSBAUER                  int64\n",
       "GREEN_AVANTGARDE                  int64\n",
       "HEALTH_TYP                      float64\n",
       "RETOURTYP_BK_S                  float64\n",
       "SEMIO_SOZ                         int64\n",
       "SEMIO_FAM                         int64\n",
       "SEMIO_REL                         int64\n",
       "SEMIO_MAT                         int64\n",
       "SEMIO_VERT                        int64\n",
       "SEMIO_LUST                        int64\n",
       "SEMIO_ERL                         int64\n",
       "SEMIO_KULT                        int64\n",
       "SEMIO_RAT                         int64\n",
       "SEMIO_KRIT                        int64\n",
       "SEMIO_DOM                         int64\n",
       "SEMIO_KAEM                        int64\n",
       "SEMIO_PFLICHT                     int64\n",
       "SEMIO_TRADV                       int64\n",
       "SOHO_KZ                         float64\n",
       "VERS_TYP                        float64\n",
       "ANZ_PERSONEN                    float64\n",
       "ANZ_TITEL                       float64\n",
       "HH_EINKOMMEN_SCORE              float64\n",
       "                                 ...   \n",
       "CAMEO_DEU_2015_5C                 uint8\n",
       "CAMEO_DEU_2015_5D                 uint8\n",
       "CAMEO_DEU_2015_5E                 uint8\n",
       "CAMEO_DEU_2015_5F                 uint8\n",
       "CAMEO_DEU_2015_6A                 uint8\n",
       "CAMEO_DEU_2015_6B                 uint8\n",
       "CAMEO_DEU_2015_6C                 uint8\n",
       "CAMEO_DEU_2015_6D                 uint8\n",
       "CAMEO_DEU_2015_6E                 uint8\n",
       "CAMEO_DEU_2015_6F                 uint8\n",
       "CAMEO_DEU_2015_7A                 uint8\n",
       "CAMEO_DEU_2015_7B                 uint8\n",
       "CAMEO_DEU_2015_7C                 uint8\n",
       "CAMEO_DEU_2015_7D                 uint8\n",
       "CAMEO_DEU_2015_7E                 uint8\n",
       "CAMEO_DEU_2015_8A                 uint8\n",
       "CAMEO_DEU_2015_8B                 uint8\n",
       "CAMEO_DEU_2015_8C                 uint8\n",
       "CAMEO_DEU_2015_8D                 uint8\n",
       "CAMEO_DEU_2015_9A                 uint8\n",
       "CAMEO_DEU_2015_9B                 uint8\n",
       "CAMEO_DEU_2015_9C                 uint8\n",
       "CAMEO_DEU_2015_9D                 uint8\n",
       "CAMEO_DEU_2015_9E                 uint8\n",
       "PRAEGENDE_JUGENDJAHRE_DECADE    float64\n",
       "PRAEGENDE_JUGENDJAHRE_MOVE         bool\n",
       "CAMEO_WEALTH                    float64\n",
       "CAMEO_STAGE                     float64\n",
       "PLZ8_BAUMAX_SIZE                float64\n",
       "PLZ8_BAUMAX_TYPE                   bool\n",
       "Length: 196, dtype: object"
      ]
     },
<<<<<<< HEAD
     "execution_count": 54,
=======
     "execution_count": 52,
>>>>>>> d5ca0ed332afa9678dbdb657c09097591c65c96a
     "metadata": {},
     "output_type": "execute_result"
    }
   ],
   "source": [
    "azdias_below15.dtypes"
   ]
  },
  {
   "cell_type": "code",
<<<<<<< HEAD
   "execution_count": 55,
=======
   "execution_count": 53,
>>>>>>> d5ca0ed332afa9678dbdb657c09097591c65c96a
   "metadata": {},
   "outputs": [],
   "source": [
    "azdias_full = imp.fit_transform(azdias_below15) # imputed values"
   ]
  },
  {
   "cell_type": "code",
<<<<<<< HEAD
   "execution_count": 56,
=======
   "execution_count": 54,
>>>>>>> d5ca0ed332afa9678dbdb657c09097591c65c96a
   "metadata": {},
   "outputs": [
    {
     "data": {
      "text/plain": [
       "0"
      ]
     },
<<<<<<< HEAD
     "execution_count": 56,
=======
     "execution_count": 54,
>>>>>>> d5ca0ed332afa9678dbdb657c09097591c65c96a
     "metadata": {},
     "output_type": "execute_result"
    }
   ],
   "source": [
    "azdias_full = pd.DataFrame(azdias_full, columns=azdias_below15.columns)\n",
    "na_count_post = azdias_full.isna().sum().sum()\n",
    "na_count_post"
   ]
  },
  {
   "cell_type": "code",
<<<<<<< HEAD
   "execution_count": 57,
=======
   "execution_count": 55,
>>>>>>> d5ca0ed332afa9678dbdb657c09097591c65c96a
   "metadata": {},
   "outputs": [],
   "source": [
    "# Apply feature scaling to the general population demographics data.\n",
    "scaler = StandardScaler()\n",
    "azdias_proc = scaler.fit_transform(azdias_full)\n",
    "azdias_final = pd.DataFrame(azdias_proc, columns=azdias_below15.columns)"
   ]
  },
  {
   "cell_type": "markdown",
   "metadata": {},
   "source": [
    "### Discussion 2.1: Apply Feature Scaling\n",
    "\n",
    "The total NaN values of our preprocessed dataset are equal to about 0.5% of the total dataset. That is not a significant ratio of values, thus imputting the missing values with the respective feature mean value, won't have a significant effect to the dataset statistical distributions nor later on the feature extraction and modelling stage. This is the reason why, I chose to step forward with this method. Whilst imputting, I came across the challenge of the 'object' variables, which the Imputer wasn't able to process, hence the need of boolean casting. In the end, I performed a Standard scaling on the dataset to prepare it for the dimensionality reduction stages. "
   ]
  },
  {
   "cell_type": "markdown",
   "metadata": {},
   "source": [
    "### Step 2.2: Perform Dimensionality Reduction\n",
    "\n",
    "On your scaled data, you are now ready to apply dimensionality reduction techniques.\n",
    "\n",
    "- Use sklearn's [PCA](http://scikit-learn.org/stable/modules/generated/sklearn.decomposition.PCA.html) class to apply principal component analysis on the data, thus finding the vectors of maximal variance in the data. To start, you should not set any parameters (so all components are computed) or set a number of components that is at least half the number of features (so there's enough features to see the general trend in variability).\n",
    "- Check out the ratio of variance explained by each principal component as well as the cumulative variance explained. Try plotting the cumulative or sequential values using matplotlib's [`plot()`](https://matplotlib.org/api/_as_gen/matplotlib.pyplot.plot.html) function. Based on what you find, select a value for the number of transformed features you'll retain for the clustering part of the project.\n",
    "- Once you've made a choice for the number of components to keep, make sure you re-fit a PCA instance to perform the decided-on transformation."
   ]
  },
  {
   "cell_type": "code",
<<<<<<< HEAD
   "execution_count": 58,
=======
   "execution_count": 56,
>>>>>>> d5ca0ed332afa9678dbdb657c09097591c65c96a
   "metadata": {},
   "outputs": [],
   "source": [
    "# Apply PCA to the data.\n",
    "from sklearn.decomposition import PCA\n",
    "pca = PCA()\n",
    "azdias_pca = pca.fit_transform(azdias_final)\n"
   ]
  },
  {
   "cell_type": "code",
<<<<<<< HEAD
   "execution_count": 59,
=======
   "execution_count": 57,
>>>>>>> d5ca0ed332afa9678dbdb657c09097591c65c96a
   "metadata": {},
   "outputs": [
    {
     "data": {
      "text/plain": [
       "(781280, 196)"
      ]
     },
<<<<<<< HEAD
     "execution_count": 59,
=======
     "execution_count": 57,
>>>>>>> d5ca0ed332afa9678dbdb657c09097591c65c96a
     "metadata": {},
     "output_type": "execute_result"
    }
   ],
   "source": [
    "azdias_pca.shape"
   ]
  },
  {
   "cell_type": "code",
<<<<<<< HEAD
   "execution_count": 60,
=======
   "execution_count": 58,
>>>>>>> d5ca0ed332afa9678dbdb657c09097591c65c96a
   "metadata": {},
   "outputs": [
    {
     "data": {
      "text/plain": [
       "Text(0.5,1,'Explained Variance Per Principal Component')"
      ]
     },
<<<<<<< HEAD
     "execution_count": 60,
=======
     "execution_count": 58,
>>>>>>> d5ca0ed332afa9678dbdb657c09097591c65c96a
     "metadata": {},
     "output_type": "execute_result"
    },
    {
     "data": {
      "image/png": "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\n",
      "text/plain": [
<<<<<<< HEAD
       "<matplotlib.figure.Figure at 0x7ff1f3819828>"
=======
       "<matplotlib.figure.Figure at 0x7f16adf7d7b8>"
>>>>>>> d5ca0ed332afa9678dbdb657c09097591c65c96a
      ]
     },
     "metadata": {
      "needs_background": "light"
     },
     "output_type": "display_data"
    }
   ],
   "source": [
    "# Investigate the variance accounted for by each principal component.\n",
    "pca_ratio = pca.explained_variance_ratio_\n",
    "\n",
    "num_components=len(pca_ratio)\n",
    "ind = np.arange(num_components)\n",
    "vals = pca_ratio\n",
    "\n",
    "plt.figure(figsize=(10, 6))\n",
    "ax = plt.subplot(111)\n",
    "cumvals = np.cumsum(vals)\n",
    "ax.bar(ind, vals)\n",
    "ax.plot(ind, cumvals)\n",
    "\n",
    "ax.xaxis.set_tick_params(width=0)\n",
    "ax.yaxis.set_tick_params(width=2, length=12)\n",
    "\n",
    "ax.set_xlabel(\"Principal Component\")\n",
    "ax.set_ylabel(\"Variance Explained (%)\")\n",
    "plt.title('Explained Variance Per Principal Component')"
   ]
  },
  {
   "cell_type": "code",
<<<<<<< HEAD
   "execution_count": 61,
=======
   "execution_count": 59,
>>>>>>> d5ca0ed332afa9678dbdb657c09097591c65c96a
   "metadata": {},
   "outputs": [
    {
     "data": {
      "text/plain": [
<<<<<<< HEAD
       "(781280, 100)"
      ]
     },
     "execution_count": 61,
=======
       "(781280, 110)"
      ]
     },
     "execution_count": 59,
>>>>>>> d5ca0ed332afa9678dbdb657c09097591c65c96a
     "metadata": {},
     "output_type": "execute_result"
    }
   ],
   "source": [
    "# Re-apply PCA to the data while selecting for number of components to retain.\n",
<<<<<<< HEAD
    "pca2 = PCA(100)\n",
=======
    "pca2 = PCA(110)\n",
>>>>>>> d5ca0ed332afa9678dbdb657c09097591c65c96a
    "azdias_pca2 = pca2.fit_transform(azdias_final)\n",
    "azdias_pca2.shape"
   ]
  },
  {
   "cell_type": "code",
<<<<<<< HEAD
   "execution_count": 62,
=======
   "execution_count": 60,
>>>>>>> d5ca0ed332afa9678dbdb657c09097591c65c96a
   "metadata": {},
   "outputs": [
    {
     "name": "stdout",
     "output_type": "stream",
     "text": [
<<<<<<< HEAD
      "Total variance captured by the eigenvectors is: 0.860\n"
=======
      "Total variance captured by the eigenvectors is: 0.904\n"
>>>>>>> d5ca0ed332afa9678dbdb657c09097591c65c96a
     ]
    }
   ],
   "source": [
    "print(\"Total variance captured by the eigenvectors is: {var:.3f}\".format(var=pca2.explained_variance_ratio_.sum()))"
   ]
  },
  {
   "cell_type": "markdown",
   "metadata": {},
   "source": [
    "### Discussion 2.2: Perform Dimensionality Reduction\n",
    "\n",
<<<<<<< HEAD
    "I initially performed a PCA on the whole dataset in order to capture the variability of all eigenvectors. I, then, concluded that most of the information is retained within the first 100 components, by utilizing a scree plot. For that reason, I kept the first 100 vectors, which number would definitely be sufficient in terms of variability, but also reduces the dataset complexity significantly by 49%. In conclusion, I managed to retain 86% of the initial dataset information."
=======
    "I initially performed a PCA on the whole dataset in order to capture the variability of all eigenvectors. I, then, concluded that most of the information is retained within the first 100 components, by utilizing a scree plot. For that reason, I kept the first 110 vectors, which number would definitely be sufficient in terms of variability, but also reduces the dataset complexity significantly by 44%. In conclusion, I managed to retain 90.3% of the initial dataset information"
>>>>>>> d5ca0ed332afa9678dbdb657c09097591c65c96a
   ]
  },
  {
   "cell_type": "markdown",
   "metadata": {},
   "source": [
    "### Step 2.3: Interpret Principal Components\n",
    "\n",
    "Now that we have our transformed principal components, it's a nice idea to check out the weight of each variable on the first few components to see if they can be interpreted in some fashion.\n",
    "\n",
    "As a reminder, each principal component is a unit vector that points in the direction of highest variance (after accounting for the variance captured by earlier principal components). The further a weight is from zero, the more the principal component is in the direction of the corresponding feature. If two features have large weights of the same sign (both positive or both negative), then increases in one tend expect to be associated with increases in the other. To contrast, features with different signs can be expected to show a negative correlation: increases in one variable should result in a decrease in the other.\n",
    "\n",
    "- To investigate the features, you should map each weight to their corresponding feature name, then sort the features according to weight. The most interesting features for each principal component, then, will be those at the beginning and end of the sorted list. Use the data dictionary document to help you understand these most prominent features, their relationships, and what a positive or negative value on the principal component might indicate.\n",
    "- You should investigate and interpret feature associations from the first three principal components in this substep. To help facilitate this, you should write a function that you can call at any time to print the sorted list of feature weights, for the *i*-th principal component. This might come in handy in the next step of the project, when you interpret the tendencies of the discovered clusters."
   ]
  },
  {
   "cell_type": "code",
<<<<<<< HEAD
   "execution_count": 63,
=======
   "execution_count": 61,
>>>>>>> d5ca0ed332afa9678dbdb657c09097591c65c96a
   "metadata": {
    "scrolled": true
   },
   "outputs": [
    {
     "name": "stdout",
     "output_type": "stream",
     "text": [
      "LP_STATUS_GROB_1.0    0.196737\n",
      "PLZ8_ANTG3            0.188237\n",
      "PLZ8_ANTG4            0.182900\n",
      "HH_EINKOMMEN_SCORE    0.182476\n",
      "ORTSGR_KLS9           0.162294\n",
      "Name: 0, dtype: float64\n",
      "KBA05_GBZ           -0.184111\n",
      "PLZ8_ANTG1          -0.188050\n",
      "FINANZ_MINIMALIST   -0.191421\n",
      "KBA05_ANTG1         -0.192902\n",
      "MOBI_REGIO          -0.206470\n",
      "Name: 0, dtype: float64\n",
<<<<<<< HEAD
      "Variability contribution: 0.07723612110705685\n"
=======
      "Variability contribution: 0.0772361211071542\n"
>>>>>>> d5ca0ed332afa9678dbdb657c09097591c65c96a
     ]
    }
   ],
   "source": [
    "# Map weights for the first principal component to corresponding feature names\n",
    "# and then print the linked values, sorted by weight.\n",
    "def principals(df, pca, comp_num):\n",
    "    weights = pd.DataFrame(pca.components_, columns=df.columns).iloc[comp_num]\n",
    "    w_sort = weights.sort_values(ascending=False)\n",
    "    return(w_sort)\n",
    "\n",
    "firstvar = sorted(pca2.explained_variance_ratio_, reverse=True)[0] # Component variability\n",
    "eigenmap = principals(azdias_final, pca2, 0)\n",
    "\n",
    "print('{eigen1}\\n{eigen2}\\nVariability contribution: {var}'.format(eigen1=eigenmap.head(),eigen2=eigenmap.tail(), var=firstvar))"
   ]
  },
  {
   "cell_type": "code",
<<<<<<< HEAD
   "execution_count": 64,
=======
   "execution_count": 62,
>>>>>>> d5ca0ed332afa9678dbdb657c09097591c65c96a
   "metadata": {
    "scrolled": true
   },
   "outputs": [
    {
     "name": "stdout",
     "output_type": "stream",
     "text": [
      "ALTERSKATEGORIE_GROB    0.233130\n",
      "FINANZ_VORSORGER        0.218402\n",
      "ZABEOTYP_3              0.198735\n",
      "SEMIO_ERL               0.179774\n",
      "SEMIO_LUST              0.163205\n",
      "Name: 1, dtype: float64\n",
      "SEMIO_TRADV                    -0.207775\n",
      "FINANZ_UNAUFFAELLIGER          -0.214737\n",
      "SEMIO_REL                      -0.214867\n",
      "FINANZ_SPARER                  -0.227238\n",
      "PRAEGENDE_JUGENDJAHRE_DECADE   -0.237617\n",
      "Name: 1, dtype: float64\n",
<<<<<<< HEAD
      "Variability contribution: 0.056812336720751026\n"
=======
      "Variability contribution: 0.05681233672168212\n"
>>>>>>> d5ca0ed332afa9678dbdb657c09097591c65c96a
     ]
    }
   ],
   "source": [
    "# Map weights for the second principal component to corresponding feature names\n",
    "# and then print the linked values, sorted by weight.\n",
    "\n",
    "secondvar = sorted(pca2.explained_variance_ratio_, reverse=True)[1]\n",
    "eigenmap2 = principals(azdias_final, pca2, 1)\n",
    "\n",
    "print('{eigen1}\\n{eigen2}\\nVariability contribution: {var}'.format(eigen1=eigenmap2.head(),eigen2=eigenmap2.tail(), var=secondvar))"
   ]
  },
  {
   "cell_type": "code",
<<<<<<< HEAD
   "execution_count": 65,
=======
   "execution_count": 63,
>>>>>>> d5ca0ed332afa9678dbdb657c09097591c65c96a
   "metadata": {
    "scrolled": true
   },
   "outputs": [
    {
     "name": "stdout",
     "output_type": "stream",
     "text": [
      "SEMIO_VERT     0.317930\n",
      "SEMIO_FAM      0.258555\n",
<<<<<<< HEAD
      "SEMIO_SOZ      0.256330\n",
      "SEMIO_KULT     0.248878\n",
      "FINANZTYP_5    0.136896\n",
=======
      "SEMIO_SOZ      0.256332\n",
      "SEMIO_KULT     0.248878\n",
      "FINANZTYP_5    0.136897\n",
>>>>>>> d5ca0ed332afa9678dbdb657c09097591c65c96a
      "Name: 2, dtype: float64\n",
      "SEMIO_ERL    -0.207109\n",
      "SEMIO_KRIT   -0.264671\n",
      "SEMIO_DOM    -0.278650\n",
<<<<<<< HEAD
      "SEMIO_KAEM   -0.312280\n",
      "ANREDE_KZ    -0.342625\n",
      "Name: 2, dtype: float64\n",
      "Variability contribution: 0.03490915876670833\n"
=======
      "SEMIO_KAEM   -0.312279\n",
      "ANREDE_KZ    -0.342624\n",
      "Name: 2, dtype: float64\n",
      "Variability contribution: 0.03490915880243415\n"
>>>>>>> d5ca0ed332afa9678dbdb657c09097591c65c96a
     ]
    }
   ],
   "source": [
    "# Map weights for the third principal component to corresponding feature names\n",
    "# and then print the linked values, sorted by weight.\n",
    "\n",
    "thirdvar = sorted(pca2.explained_variance_ratio_, reverse=True)[2]\n",
    "eigenmap3 = principals(azdias_final, pca2, 2)\n",
    "\n",
    "print('{eigen1}\\n{eigen2}\\nVariability contribution: {var}'.format(eigen1=eigenmap3.head(),eigen2=eigenmap3.tail(), var=thirdvar))"
   ]
  },
  {
   "cell_type": "code",
<<<<<<< HEAD
   "execution_count": 66,
=======
   "execution_count": 64,
>>>>>>> d5ca0ed332afa9678dbdb657c09097591c65c96a
   "metadata": {},
   "outputs": [],
   "source": [
    "def plot_components(df, pca, num_component, num_features):\n",
    "\n",
    "    # PCA components\n",
    "    components = principals(df, pca, num_component)\n",
    "    components = pd.concat([components.head(num_component), components.tail(num_component)])\n",
    "    #components.index = dimensions\n",
    "\n",
    "    # Dimension indexing\n",
    "    dimensions = ['Dimension {}'.format(i) for i in range(1,len(components)+1)]\n",
    "\n",
    "    # PCA explained variance\n",
    "    ratios = pca.explained_variance_ratio_.reshape(len(components), 1)\n",
    "    variance_ratios = pd.DataFrame(np.round(ratios, 4), columns = ['Explained Variance'])\n",
    "    variance_ratios.index = dimensions\n",
    "\n",
    "    # Create a bar plot visualization\n",
    "    fig, ax = plt.subplots(figsize = (14,8))\n",
    "\n",
    "    # Plot the feature weights as a function of the components\n",
    "    components.plot(ax = ax, kind = 'bar');\n",
    "    ax.set_ylabel(\"Feature Weights\")\n",
    "    ax.set_xticklabels(dimensions, rotation=0)\n",
    "\n",
    "\n",
    "    # Display the explained variance ratios\n",
    "    for i, ev in enumerate(pca.explained_variance_ratio_):\n",
    "            ax.text(i-0.40, ax.get_ylim()[1] + 0.05, \"Explained Variance\\n          %.4f\"%(ev))\n",
    "\n",
    "    # Return a concatenated DataFrame\n",
    "    return pd.concat([variance_ratios, components], axis = 1)"
   ]
  },
  {
   "cell_type": "markdown",
   "metadata": {},
   "source": [
    "### Discussion 2.3: Interpret Principal Components\n",
    "\n",
    "During the investigation of the top three components, that contribute for 18.7% of the total dataset variability, we inferred the following attributes in terms of the general population behaviour. The major eigenvector is determined by the individuals' social status, his household income, but also the number of large buildings (>7 households) in PLZ8 region. On the contrary, it's inversely correlated with the individual's movement pattern, the number of individuals characterized financially as of \"low financial interest\" and the number of small buildings (<5 households) in PLZ* region. \n",
    "\n",
    "The second major eigenvector is mainly determined by the individual's age, the number of individuals characterized financially as \"prepared\" and their behavior as per the energy consumption via their activities. It opposes to the individual's youth movement, the individuals characterized as \"money savers\" and the religious individuals. \n",
    "\n",
    "Lastly, the third principal component is highly correlated with the dreamful, family-minded and socially-minded individuals. However, its tendency repels the combatibe and dominant-minded individuals, as well as the gender traits. "
   ]
  },
  {
   "cell_type": "markdown",
   "metadata": {},
   "source": [
    "## Step 3: Clustering\n",
    "\n",
    "### Step 3.1: Apply Clustering to General Population\n",
    "\n",
    "You've assessed and cleaned the demographics data, then scaled and transformed them. Now, it's time to see how the data clusters in the principal components space. In this substep, you will apply k-means clustering to the dataset and use the average within-cluster distances from each point to their assigned cluster's centroid to decide on a number of clusters to keep.\n",
    "\n",
    "- Use sklearn's [KMeans](http://scikit-learn.org/stable/modules/generated/sklearn.cluster.KMeans.html#sklearn.cluster.KMeans) class to perform k-means clustering on the PCA-transformed data.\n",
    "- Then, compute the average difference from each point to its assigned cluster's center. **Hint**: The KMeans object's `.score()` method might be useful here, but note that in sklearn, scores tend to be defined so that larger is better. Try applying it to a small, toy dataset, or use an internet search to help your understanding.\n",
    "- Perform the above two steps for a number of different cluster counts. You can then see how the average distance decreases with an increasing number of clusters. However, each additional cluster provides a smaller net benefit. Use this fact to select a final number of clusters in which to group the data. **Warning**: because of the large size of the dataset, it can take a long time for the algorithm to resolve. The more clusters to fit, the longer the algorithm will take. You should test for cluster counts through at least 10 clusters to get the full picture, but you shouldn't need to test for a number of clusters above about 30.\n",
    "- Once you've selected a final number of clusters to use, re-fit a KMeans instance to perform the clustering operation. Make sure that you also obtain the cluster assignments for the general demographics data, since you'll be using them in the final Step 3.3."
   ]
  },
  {
   "cell_type": "code",
<<<<<<< HEAD
   "execution_count": 67,
=======
   "execution_count": 84,
>>>>>>> d5ca0ed332afa9678dbdb657c09097591c65c96a
   "metadata": {},
   "outputs": [
    {
     "data": {
      "text/plain": [
       "dtype('float64')"
      ]
     },
<<<<<<< HEAD
     "execution_count": 67,
=======
     "execution_count": 84,
>>>>>>> d5ca0ed332afa9678dbdb657c09097591c65c96a
     "metadata": {},
     "output_type": "execute_result"
    }
   ],
   "source": [
    "azdias_pca2.dtype"
<<<<<<< HEAD
=======
   ]
  },
  {
   "cell_type": "code",
   "execution_count": 83,
   "metadata": {
    "scrolled": false
   },
   "outputs": [
    {
     "ename": "TypeError",
     "evalue": "'numpy.float64' object cannot be interpreted as an integer",
     "output_type": "error",
     "traceback": [
      "\u001b[0;31m---------------------------------------------------------------------------\u001b[0m",
      "\u001b[0;31mTypeError\u001b[0m                                 Traceback (most recent call last)",
      "\u001b[0;32m<ipython-input-83-39b404c45247>\u001b[0m in \u001b[0;36m<module>\u001b[0;34m()\u001b[0m\n\u001b[1;32m      8\u001b[0m \u001b[0;32mfor\u001b[0m \u001b[0mk\u001b[0m \u001b[0;32min\u001b[0m \u001b[0mclusters\u001b[0m\u001b[0;34m:\u001b[0m\u001b[0;34m\u001b[0m\u001b[0m\n\u001b[1;32m      9\u001b[0m     \u001b[0mkmeans\u001b[0m \u001b[0;34m=\u001b[0m \u001b[0mKMeans\u001b[0m\u001b[0;34m(\u001b[0m\u001b[0mk\u001b[0m\u001b[0;34m)\u001b[0m\u001b[0;34m\u001b[0m\u001b[0m\n\u001b[0;32m---> 10\u001b[0;31m     \u001b[0mkmeans\u001b[0m\u001b[0;34m.\u001b[0m\u001b[0mfit\u001b[0m\u001b[0;34m(\u001b[0m\u001b[0mazdiaspca_cast\u001b[0m\u001b[0;34m)\u001b[0m\u001b[0;34m\u001b[0m\u001b[0m\n\u001b[0m\u001b[1;32m     11\u001b[0m     \u001b[0mscore\u001b[0m \u001b[0;34m=\u001b[0m \u001b[0;34m-\u001b[0m\u001b[0mkmeans\u001b[0m\u001b[0;34m.\u001b[0m\u001b[0mscore\u001b[0m\u001b[0;34m(\u001b[0m\u001b[0mazdiaspca_cast\u001b[0m\u001b[0;34m)\u001b[0m\u001b[0;34m\u001b[0m\u001b[0m\n\u001b[1;32m     12\u001b[0m     \u001b[0mscores\u001b[0m\u001b[0;34m.\u001b[0m\u001b[0mappend\u001b[0m\u001b[0;34m(\u001b[0m\u001b[0mscore\u001b[0m\u001b[0;34m)\u001b[0m\u001b[0;34m\u001b[0m\u001b[0m\n",
      "\u001b[0;32m/opt/conda/lib/python3.6/site-packages/sklearn/cluster/k_means_.py\u001b[0m in \u001b[0;36mfit\u001b[0;34m(self, X, y)\u001b[0m\n\u001b[1;32m    894\u001b[0m                 \u001b[0mtol\u001b[0m\u001b[0;34m=\u001b[0m\u001b[0mself\u001b[0m\u001b[0;34m.\u001b[0m\u001b[0mtol\u001b[0m\u001b[0;34m,\u001b[0m \u001b[0mrandom_state\u001b[0m\u001b[0;34m=\u001b[0m\u001b[0mrandom_state\u001b[0m\u001b[0;34m,\u001b[0m \u001b[0mcopy_x\u001b[0m\u001b[0;34m=\u001b[0m\u001b[0mself\u001b[0m\u001b[0;34m.\u001b[0m\u001b[0mcopy_x\u001b[0m\u001b[0;34m,\u001b[0m\u001b[0;34m\u001b[0m\u001b[0m\n\u001b[1;32m    895\u001b[0m                 \u001b[0mn_jobs\u001b[0m\u001b[0;34m=\u001b[0m\u001b[0mself\u001b[0m\u001b[0;34m.\u001b[0m\u001b[0mn_jobs\u001b[0m\u001b[0;34m,\u001b[0m \u001b[0malgorithm\u001b[0m\u001b[0;34m=\u001b[0m\u001b[0mself\u001b[0m\u001b[0;34m.\u001b[0m\u001b[0malgorithm\u001b[0m\u001b[0;34m,\u001b[0m\u001b[0;34m\u001b[0m\u001b[0m\n\u001b[0;32m--> 896\u001b[0;31m                 return_n_iter=True)\n\u001b[0m\u001b[1;32m    897\u001b[0m         \u001b[0;32mreturn\u001b[0m \u001b[0mself\u001b[0m\u001b[0;34m\u001b[0m\u001b[0m\n\u001b[1;32m    898\u001b[0m \u001b[0;34m\u001b[0m\u001b[0m\n",
      "\u001b[0;32m/opt/conda/lib/python3.6/site-packages/sklearn/cluster/k_means_.py\u001b[0m in \u001b[0;36mk_means\u001b[0;34m(X, n_clusters, init, precompute_distances, n_init, max_iter, verbose, tol, random_state, copy_x, n_jobs, algorithm, return_n_iter)\u001b[0m\n\u001b[1;32m    344\u001b[0m                 \u001b[0mX\u001b[0m\u001b[0;34m,\u001b[0m \u001b[0mn_clusters\u001b[0m\u001b[0;34m,\u001b[0m \u001b[0mmax_iter\u001b[0m\u001b[0;34m=\u001b[0m\u001b[0mmax_iter\u001b[0m\u001b[0;34m,\u001b[0m \u001b[0minit\u001b[0m\u001b[0;34m=\u001b[0m\u001b[0minit\u001b[0m\u001b[0;34m,\u001b[0m \u001b[0mverbose\u001b[0m\u001b[0;34m=\u001b[0m\u001b[0mverbose\u001b[0m\u001b[0;34m,\u001b[0m\u001b[0;34m\u001b[0m\u001b[0m\n\u001b[1;32m    345\u001b[0m                 \u001b[0mprecompute_distances\u001b[0m\u001b[0;34m=\u001b[0m\u001b[0mprecompute_distances\u001b[0m\u001b[0;34m,\u001b[0m \u001b[0mtol\u001b[0m\u001b[0;34m=\u001b[0m\u001b[0mtol\u001b[0m\u001b[0;34m,\u001b[0m\u001b[0;34m\u001b[0m\u001b[0m\n\u001b[0;32m--> 346\u001b[0;31m                 x_squared_norms=x_squared_norms, random_state=random_state)\n\u001b[0m\u001b[1;32m    347\u001b[0m             \u001b[0;31m# determine if these results are the best so far\u001b[0m\u001b[0;34m\u001b[0m\u001b[0;34m\u001b[0m\u001b[0m\n\u001b[1;32m    348\u001b[0m             \u001b[0;32mif\u001b[0m \u001b[0mbest_inertia\u001b[0m \u001b[0;32mis\u001b[0m \u001b[0;32mNone\u001b[0m \u001b[0;32mor\u001b[0m \u001b[0minertia\u001b[0m \u001b[0;34m<\u001b[0m \u001b[0mbest_inertia\u001b[0m\u001b[0;34m:\u001b[0m\u001b[0;34m\u001b[0m\u001b[0m\n",
      "\u001b[0;32m/opt/conda/lib/python3.6/site-packages/sklearn/cluster/k_means_.py\u001b[0m in \u001b[0;36m_kmeans_single_elkan\u001b[0;34m(X, n_clusters, max_iter, init, verbose, x_squared_norms, random_state, tol, precompute_distances)\u001b[0m\n\u001b[1;32m    393\u001b[0m     \u001b[0;31m# init\u001b[0m\u001b[0;34m\u001b[0m\u001b[0;34m\u001b[0m\u001b[0m\n\u001b[1;32m    394\u001b[0m     centers = _init_centroids(X, n_clusters, init, random_state=random_state,\n\u001b[0;32m--> 395\u001b[0;31m                               x_squared_norms=x_squared_norms)\n\u001b[0m\u001b[1;32m    396\u001b[0m     \u001b[0mcenters\u001b[0m \u001b[0;34m=\u001b[0m \u001b[0mnp\u001b[0m\u001b[0;34m.\u001b[0m\u001b[0mascontiguousarray\u001b[0m\u001b[0;34m(\u001b[0m\u001b[0mcenters\u001b[0m\u001b[0;34m)\u001b[0m\u001b[0;34m\u001b[0m\u001b[0m\n\u001b[1;32m    397\u001b[0m     \u001b[0;32mif\u001b[0m \u001b[0mverbose\u001b[0m\u001b[0;34m:\u001b[0m\u001b[0;34m\u001b[0m\u001b[0m\n",
      "\u001b[0;32m/opt/conda/lib/python3.6/site-packages/sklearn/cluster/k_means_.py\u001b[0m in \u001b[0;36m_init_centroids\u001b[0;34m(X, k, init, random_state, x_squared_norms, init_size)\u001b[0m\n\u001b[1;32m    682\u001b[0m     \u001b[0;32mif\u001b[0m \u001b[0misinstance\u001b[0m\u001b[0;34m(\u001b[0m\u001b[0minit\u001b[0m\u001b[0;34m,\u001b[0m \u001b[0mstring_types\u001b[0m\u001b[0;34m)\u001b[0m \u001b[0;32mand\u001b[0m \u001b[0minit\u001b[0m \u001b[0;34m==\u001b[0m \u001b[0;34m'k-means++'\u001b[0m\u001b[0;34m:\u001b[0m\u001b[0;34m\u001b[0m\u001b[0m\n\u001b[1;32m    683\u001b[0m         centers = _k_init(X, k, random_state=random_state,\n\u001b[0;32m--> 684\u001b[0;31m                           x_squared_norms=x_squared_norms)\n\u001b[0m\u001b[1;32m    685\u001b[0m     \u001b[0;32melif\u001b[0m \u001b[0misinstance\u001b[0m\u001b[0;34m(\u001b[0m\u001b[0minit\u001b[0m\u001b[0;34m,\u001b[0m \u001b[0mstring_types\u001b[0m\u001b[0;34m)\u001b[0m \u001b[0;32mand\u001b[0m \u001b[0minit\u001b[0m \u001b[0;34m==\u001b[0m \u001b[0;34m'random'\u001b[0m\u001b[0;34m:\u001b[0m\u001b[0;34m\u001b[0m\u001b[0m\n\u001b[1;32m    686\u001b[0m         \u001b[0mseeds\u001b[0m \u001b[0;34m=\u001b[0m \u001b[0mrandom_state\u001b[0m\u001b[0;34m.\u001b[0m\u001b[0mpermutation\u001b[0m\u001b[0;34m(\u001b[0m\u001b[0mn_samples\u001b[0m\u001b[0;34m)\u001b[0m\u001b[0;34m[\u001b[0m\u001b[0;34m:\u001b[0m\u001b[0mk\u001b[0m\u001b[0;34m]\u001b[0m\u001b[0;34m\u001b[0m\u001b[0m\n",
      "\u001b[0;32m/opt/conda/lib/python3.6/site-packages/sklearn/cluster/k_means_.py\u001b[0m in \u001b[0;36m_k_init\u001b[0;34m(X, n_clusters, x_squared_norms, random_state, n_local_trials)\u001b[0m\n\u001b[1;32m     77\u001b[0m     \u001b[0mn_samples\u001b[0m\u001b[0;34m,\u001b[0m \u001b[0mn_features\u001b[0m \u001b[0;34m=\u001b[0m \u001b[0mX\u001b[0m\u001b[0;34m.\u001b[0m\u001b[0mshape\u001b[0m\u001b[0;34m\u001b[0m\u001b[0m\n\u001b[1;32m     78\u001b[0m \u001b[0;34m\u001b[0m\u001b[0m\n\u001b[0;32m---> 79\u001b[0;31m     \u001b[0mcenters\u001b[0m \u001b[0;34m=\u001b[0m \u001b[0mnp\u001b[0m\u001b[0;34m.\u001b[0m\u001b[0mempty\u001b[0m\u001b[0;34m(\u001b[0m\u001b[0;34m(\u001b[0m\u001b[0mn_clusters\u001b[0m\u001b[0;34m,\u001b[0m \u001b[0mn_features\u001b[0m\u001b[0;34m)\u001b[0m\u001b[0;34m,\u001b[0m \u001b[0mdtype\u001b[0m\u001b[0;34m=\u001b[0m\u001b[0mX\u001b[0m\u001b[0;34m.\u001b[0m\u001b[0mdtype\u001b[0m\u001b[0;34m)\u001b[0m\u001b[0;34m\u001b[0m\u001b[0m\n\u001b[0m\u001b[1;32m     80\u001b[0m \u001b[0;34m\u001b[0m\u001b[0m\n\u001b[1;32m     81\u001b[0m     \u001b[0;32massert\u001b[0m \u001b[0mx_squared_norms\u001b[0m \u001b[0;32mis\u001b[0m \u001b[0;32mnot\u001b[0m \u001b[0;32mNone\u001b[0m\u001b[0;34m,\u001b[0m \u001b[0;34m'x_squared_norms None in _k_init'\u001b[0m\u001b[0;34m\u001b[0m\u001b[0m\n",
      "\u001b[0;31mTypeError\u001b[0m: 'numpy.float64' object cannot be interpreted as an integer"
     ]
    }
   ],
   "source": [
    "# Over a number of different cluster counts run k-means clustering on the data and compute the average within-cluster distances.\n",
    "from mpl_toolkits.mplot3d import Axes3D\n",
    "from sklearn.cluster import KMeans\n",
    "\n",
    "clusters = np.linspace(10, 30, 11)\n",
    "scores = []\n",
    "azdiaspca_cast = azdias_pca2.astype(float, casting='safe') # KMeans accepts 'int' as input\n",
    "for k in clusters:\n",
    "    kmeans = KMeans(k)\n",
    "    kmeans.fit(azdiaspca_cast)\n",
    "    score = -kmeans.score(azdiaspca_cast)\n",
    "    scores.append(score)\n"
>>>>>>> d5ca0ed332afa9678dbdb657c09097591c65c96a
   ]
  },
  {
   "cell_type": "code",
   "execution_count": 132,
   "metadata": {
    "scrolled": false
   },
   "outputs": [],
   "source": [
    "# Over a number of different cluster counts run k-means clustering on the data and compute the average within-cluster distances.\n",
    "clusters = np.linspace(7, 28, 8)\n",
    "scores = []\n",
    "azdiaspca_cast = azdias_pca2.astype(float, casting='safe') # KMeans accepts 'int' as input\n",
    "for k in clusters:\n",
    "    kmeans = KMeans(int(k))\n",
    "    kmeans.fit(azdiaspca_cast)\n",
    "    score = -kmeans.score(azdiaspca_cast)\n",
    "    scores.append(score)\n"
   ]
  },
  {
   "cell_type": "code",
   "execution_count": 134,
   "metadata": {},
   "outputs": [
    {
     "name": "stdout",
     "output_type": "stream",
     "text": [
      "Stored 'scores' (list)\n"
     ]
    }
   ],
   "source": [
    "# storing instance of k-means model & its scores\n",
    "%store scores kmeans clusters "
   ]
  },
  {
   "cell_type": "code",
   "execution_count": 1,
   "metadata": {},
   "outputs": [],
   "source": [
    "%store -r  "
   ]
  },
  {
   "cell_type": "code",
   "execution_count": 133,
   "metadata": {},
   "outputs": [
    {
     "data": {
      "image/png": "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\n",
      "text/plain": [
       "<matplotlib.figure.Figure at 0x7f6dd4d8dc50>"
      ]
     },
     "metadata": {
      "needs_background": "light"
     },
     "output_type": "display_data"
    }
   ],
   "source": [
    "# Investigate the change in within-cluster distance across number of clusters.\n",
    "plt.plot(clusters, scores, linestyle='--', marker='o', color='b');\n",
    "plt.xlabel('K');\n",
    "plt.ylabel('SSE');\n",
    "plt.title('SSE vs. K');\n"
   ]
  },
  {
   "cell_type": "code",
   "execution_count": 68,
   "metadata": {},
   "outputs": [
    {
     "name": "stdout",
     "output_type": "stream",
     "text": [
      "734.6025664806366\n"
     ]
    }
   ],
   "source": [
    "# Re-fit the k-means model with the selected number of clusters and obtain\n",
    "# cluster predictions for the general population demographics data.\n",
    "import time\n",
    "\n",
    "start = time.time()\n",
    "\n",
    "kmeans_opt = KMeans(35)\n",
    "kmeans_opt.fit(azdias_pca2)\n",
    "preds = kmeans_opt.predict(azdias_pca2)\n",
    "\n",
    "end = time.time()\n",
    "print(end - start)"
   ]
  },
  {
   "cell_type": "code",
   "execution_count": 69,
   "metadata": {},
   "outputs": [
    {
     "name": "stdout",
     "output_type": "stream",
     "text": [
      "92152759.7106\n"
     ]
    }
   ],
   "source": [
    "score2 = -kmeans_opt.score(azdias_pca2)\n",
    "print(score2)"
   ]
  },
  {
   "cell_type": "code",
   "execution_count": 80,
   "metadata": {},
   "outputs": [
    {
     "name": "stdout",
     "output_type": "stream",
     "text": [
      "Cluster predictions are: [ 2 20 13 ...,  7 19  6]\n"
     ]
    }
   ],
   "source": [
    "print(f'Cluster predictions are: {preds}')"
   ]
  },
  {
   "cell_type": "code",
   "execution_count": 139,
   "metadata": {},
   "outputs": [
    {
     "name": "stdout",
     "output_type": "stream",
     "text": [
      "Stored 'kmeans_opt' (KMeans)\n"
     ]
    }
   ],
   "source": [
    "%store kmeans_opt preds"
   ]
  },
  {
   "cell_type": "markdown",
   "metadata": {},
   "source": [
    "### Discussion 3.1: Apply Clustering to General Population\n",
    "\n",
    "(Double-click this cell and replace this text with your own text, reporting your findings and decisions regarding clustering. Into how many clusters have you decided to segment the population?)"
   ]
  },
  {
   "cell_type": "markdown",
   "metadata": {},
   "source": [
    "### Step 3.2: Apply All Steps to the Customer Data\n",
    "\n",
    "Now that you have clusters and cluster centers for the general population, it's time to see how the customer data maps on to those clusters. Take care to not confuse this for re-fitting all of the models to the customer data. Instead, you're going to use the fits from the general population to clean, transform, and cluster the customer data. In the last step of the project, you will interpret how the general population fits apply to the customer data.\n",
    "\n",
    "- Don't forget when loading in the customers data, that it is semicolon (`;`) delimited.\n",
    "- Apply the same feature wrangling, selection, and engineering steps to the customer demographics using the `clean_data()` function you created earlier. (You can assume that the customer demographics data has similar meaning behind missing data patterns as the general demographics data.)\n",
    "- Use the sklearn objects from the general demographics data, and apply their transformations to the customers data. That is, you should not be using a `.fit()` or `.fit_transform()` method to re-fit the old objects, nor should you be creating new sklearn objects! Carry the data through the feature scaling, PCA, and clustering steps, obtaining cluster assignments for all of the data in the customer demographics data."
   ]
  },
  {
   "cell_type": "code",
   "execution_count": 70,
   "metadata": {},
   "outputs": [],
   "source": [
    "# Load in the customer demographics data.\n",
    "customers = pd.read_csv('./Udacity_CUSTOMERS_Subset.csv', sep=';')"
   ]
  },
  {
   "cell_type": "code",
   "execution_count": 71,
   "metadata": {},
   "outputs": [
    {
     "data": {
      "text/html": [
       "<div>\n",
       "<style scoped>\n",
       "    .dataframe tbody tr th:only-of-type {\n",
       "        vertical-align: middle;\n",
       "    }\n",
       "\n",
       "    .dataframe tbody tr th {\n",
       "        vertical-align: top;\n",
       "    }\n",
       "\n",
       "    .dataframe thead th {\n",
       "        text-align: right;\n",
       "    }\n",
       "</style>\n",
       "<table border=\"1\" class=\"dataframe\">\n",
       "  <thead>\n",
       "    <tr style=\"text-align: right;\">\n",
       "      <th></th>\n",
       "      <th>AGER_TYP</th>\n",
       "      <th>ALTERSKATEGORIE_GROB</th>\n",
       "      <th>ANREDE_KZ</th>\n",
       "      <th>FINANZ_MINIMALIST</th>\n",
       "      <th>FINANZ_SPARER</th>\n",
       "      <th>FINANZ_VORSORGER</th>\n",
       "      <th>FINANZ_ANLEGER</th>\n",
       "      <th>FINANZ_UNAUFFAELLIGER</th>\n",
       "      <th>FINANZ_HAUSBAUER</th>\n",
       "      <th>GEBURTSJAHR</th>\n",
       "      <th>...</th>\n",
       "      <th>CAMEO_DEU_2015_9C</th>\n",
       "      <th>CAMEO_DEU_2015_9D</th>\n",
       "      <th>CAMEO_DEU_2015_9E</th>\n",
       "      <th>CAMEO_DEU_2015_XX</th>\n",
       "      <th>PRAEGENDE_JUGENDJAHRE_DECADE</th>\n",
       "      <th>PRAEGENDE_JUGENDJAHRE_MOVE</th>\n",
       "      <th>CAMEO_WEALTH</th>\n",
       "      <th>CAMEO_STAGE</th>\n",
       "      <th>PLZ8_BAUMAX_SIZE</th>\n",
       "      <th>PLZ8_BAUMAX_TYPE</th>\n",
       "    </tr>\n",
       "  </thead>\n",
       "  <tbody>\n",
       "    <tr>\n",
       "      <th>0</th>\n",
       "      <td>2</td>\n",
       "      <td>4</td>\n",
       "      <td>1</td>\n",
       "      <td>5</td>\n",
       "      <td>1</td>\n",
       "      <td>5</td>\n",
       "      <td>1</td>\n",
       "      <td>2</td>\n",
       "      <td>2</td>\n",
       "      <td>0</td>\n",
       "      <td>...</td>\n",
       "      <td>0</td>\n",
       "      <td>0</td>\n",
       "      <td>0</td>\n",
       "      <td>0</td>\n",
       "      <td>50.0</td>\n",
       "      <td>False</td>\n",
       "      <td>1.0</td>\n",
       "      <td>3.0</td>\n",
       "      <td>1.5</td>\n",
       "      <td>True</td>\n",
       "    </tr>\n",
       "    <tr>\n",
       "      <th>2</th>\n",
       "      <td>-1</td>\n",
       "      <td>4</td>\n",
       "      <td>2</td>\n",
       "      <td>5</td>\n",
       "      <td>1</td>\n",
       "      <td>5</td>\n",
       "      <td>1</td>\n",
       "      <td>4</td>\n",
       "      <td>4</td>\n",
       "      <td>0</td>\n",
       "      <td>...</td>\n",
       "      <td>0</td>\n",
       "      <td>0</td>\n",
       "      <td>0</td>\n",
       "      <td>0</td>\n",
       "      <td>50.0</td>\n",
       "      <td>False</td>\n",
       "      <td>2.0</td>\n",
       "      <td>4.0</td>\n",
       "      <td>8.0</td>\n",
       "      <td>True</td>\n",
       "    </tr>\n",
       "    <tr>\n",
       "      <th>3</th>\n",
       "      <td>1</td>\n",
       "      <td>4</td>\n",
       "      <td>1</td>\n",
       "      <td>5</td>\n",
       "      <td>1</td>\n",
       "      <td>5</td>\n",
       "      <td>2</td>\n",
       "      <td>1</td>\n",
       "      <td>2</td>\n",
       "      <td>0</td>\n",
       "      <td>...</td>\n",
       "      <td>0</td>\n",
       "      <td>0</td>\n",
       "      <td>0</td>\n",
       "      <td>0</td>\n",
       "      <td>40.0</td>\n",
       "      <td>True</td>\n",
       "      <td>4.0</td>\n",
       "      <td>1.0</td>\n",
       "      <td>1.5</td>\n",
       "      <td>True</td>\n",
       "    </tr>\n",
       "    <tr>\n",
       "      <th>4</th>\n",
       "      <td>-1</td>\n",
       "      <td>3</td>\n",
       "      <td>1</td>\n",
       "      <td>3</td>\n",
       "      <td>1</td>\n",
       "      <td>4</td>\n",
       "      <td>4</td>\n",
       "      <td>5</td>\n",
       "      <td>2</td>\n",
       "      <td>1960</td>\n",
       "      <td>...</td>\n",
       "      <td>0</td>\n",
       "      <td>0</td>\n",
       "      <td>0</td>\n",
       "      <td>0</td>\n",
       "      <td>70.0</td>\n",
       "      <td>True</td>\n",
       "      <td>3.0</td>\n",
       "      <td>4.0</td>\n",
       "      <td>3.5</td>\n",
       "      <td>True</td>\n",
       "    </tr>\n",
       "    <tr>\n",
       "      <th>5</th>\n",
       "      <td>1</td>\n",
       "      <td>3</td>\n",
       "      <td>1</td>\n",
       "      <td>5</td>\n",
       "      <td>1</td>\n",
       "      <td>5</td>\n",
       "      <td>1</td>\n",
       "      <td>2</td>\n",
       "      <td>3</td>\n",
       "      <td>0</td>\n",
       "      <td>...</td>\n",
       "      <td>0</td>\n",
       "      <td>0</td>\n",
       "      <td>0</td>\n",
       "      <td>0</td>\n",
       "      <td>50.0</td>\n",
       "      <td>False</td>\n",
       "      <td>2.0</td>\n",
       "      <td>3.0</td>\n",
       "      <td>1.5</td>\n",
       "      <td>True</td>\n",
       "    </tr>\n",
       "  </tbody>\n",
       "</table>\n",
       "<p>5 rows × 206 columns</p>\n",
       "</div>"
      ],
      "text/plain": [
       "   AGER_TYP  ALTERSKATEGORIE_GROB  ANREDE_KZ  FINANZ_MINIMALIST  \\\n",
       "0         2                     4          1                  5   \n",
       "2        -1                     4          2                  5   \n",
       "3         1                     4          1                  5   \n",
       "4        -1                     3          1                  3   \n",
       "5         1                     3          1                  5   \n",
       "\n",
       "   FINANZ_SPARER  FINANZ_VORSORGER  FINANZ_ANLEGER  FINANZ_UNAUFFAELLIGER  \\\n",
       "0              1                 5               1                      2   \n",
       "2              1                 5               1                      4   \n",
       "3              1                 5               2                      1   \n",
       "4              1                 4               4                      5   \n",
       "5              1                 5               1                      2   \n",
       "\n",
       "   FINANZ_HAUSBAUER  GEBURTSJAHR        ...         CAMEO_DEU_2015_9C  \\\n",
       "0                 2            0        ...                         0   \n",
       "2                 4            0        ...                         0   \n",
       "3                 2            0        ...                         0   \n",
       "4                 2         1960        ...                         0   \n",
       "5                 3            0        ...                         0   \n",
       "\n",
       "   CAMEO_DEU_2015_9D  CAMEO_DEU_2015_9E  CAMEO_DEU_2015_XX  \\\n",
       "0                  0                  0                  0   \n",
       "2                  0                  0                  0   \n",
       "3                  0                  0                  0   \n",
       "4                  0                  0                  0   \n",
       "5                  0                  0                  0   \n",
       "\n",
       "   PRAEGENDE_JUGENDJAHRE_DECADE  PRAEGENDE_JUGENDJAHRE_MOVE  CAMEO_WEALTH  \\\n",
       "0                          50.0                       False           1.0   \n",
       "2                          50.0                       False           2.0   \n",
       "3                          40.0                        True           4.0   \n",
       "4                          70.0                        True           3.0   \n",
       "5                          50.0                       False           2.0   \n",
       "\n",
       "   CAMEO_STAGE  PLZ8_BAUMAX_SIZE  PLZ8_BAUMAX_TYPE  \n",
       "0          3.0               1.5              True  \n",
       "2          4.0               8.0              True  \n",
       "3          1.0               1.5              True  \n",
       "4          4.0               3.5              True  \n",
       "5          3.0               1.5              True  \n",
       "\n",
       "[5 rows x 206 columns]"
      ]
     },
     "execution_count": 71,
     "metadata": {},
     "output_type": "execute_result"
    }
   ],
   "source": [
    "# Apply preprocessing, feature transformation, and clustering from the general demographics onto the customer data\n",
    "customer_df = clean_data(customers)\n",
    "customer_df.head()"
   ]
  },
  {
   "cell_type": "code",
   "execution_count": 83,
   "metadata": {},
   "outputs": [
    {
     "ename": "ValueError",
     "evalue": "X has 206 features per sample, expected 196",
     "output_type": "error",
     "traceback": [
      "\u001b[0;31m---------------------------------------------------------------------------\u001b[0m",
      "\u001b[0;31mValueError\u001b[0m                                Traceback (most recent call last)",
      "\u001b[0;32m<ipython-input-83-e7afd8b64a52>\u001b[0m in \u001b[0;36m<module>\u001b[0;34m()\u001b[0m\n\u001b[1;32m      2\u001b[0m \u001b[0;31m# customer_df['PLZ8_BAUMAX_TYPE'] = (customer_df['PLZ8_BAUMAX_TYPE'] == True)\u001b[0m\u001b[0;34m\u001b[0m\u001b[0;34m\u001b[0m\u001b[0m\n\u001b[1;32m      3\u001b[0m \u001b[0;34m\u001b[0m\u001b[0m\n\u001b[0;32m----> 4\u001b[0;31m \u001b[0mcustomer_full\u001b[0m \u001b[0;34m=\u001b[0m \u001b[0mimp\u001b[0m\u001b[0;34m.\u001b[0m\u001b[0mtransform\u001b[0m\u001b[0;34m(\u001b[0m\u001b[0mcustomer_df\u001b[0m\u001b[0;34m)\u001b[0m\u001b[0;34m\u001b[0m\u001b[0m\n\u001b[0m\u001b[1;32m      5\u001b[0m \u001b[0mcustomer_full\u001b[0m \u001b[0;34m=\u001b[0m \u001b[0mpd\u001b[0m\u001b[0;34m.\u001b[0m\u001b[0mDataFrame\u001b[0m\u001b[0;34m(\u001b[0m\u001b[0mcustomer_full\u001b[0m\u001b[0;34m,\u001b[0m \u001b[0mcolumns\u001b[0m\u001b[0;34m=\u001b[0m\u001b[0mazdias_below15\u001b[0m\u001b[0;34m.\u001b[0m\u001b[0mcolumns\u001b[0m\u001b[0;34m)\u001b[0m\u001b[0;34m\u001b[0m\u001b[0m\n\u001b[1;32m      6\u001b[0m \u001b[0mcustomer_proc\u001b[0m \u001b[0;34m=\u001b[0m \u001b[0mscaler\u001b[0m\u001b[0;34m.\u001b[0m\u001b[0mtransform\u001b[0m\u001b[0;34m(\u001b[0m\u001b[0mcustomer_full\u001b[0m\u001b[0;34m)\u001b[0m\u001b[0;34m\u001b[0m\u001b[0m\n",
      "\u001b[0;32m/opt/conda/lib/python3.6/site-packages/sklearn/preprocessing/imputation.py\u001b[0m in \u001b[0;36mtransform\u001b[0;34m(self, X)\u001b[0m\n\u001b[1;32m    314\u001b[0m             \u001b[0;32mif\u001b[0m \u001b[0mX\u001b[0m\u001b[0;34m.\u001b[0m\u001b[0mshape\u001b[0m\u001b[0;34m[\u001b[0m\u001b[0;36m1\u001b[0m\u001b[0;34m]\u001b[0m \u001b[0;34m!=\u001b[0m \u001b[0mstatistics\u001b[0m\u001b[0;34m.\u001b[0m\u001b[0mshape\u001b[0m\u001b[0;34m[\u001b[0m\u001b[0;36m0\u001b[0m\u001b[0;34m]\u001b[0m\u001b[0;34m:\u001b[0m\u001b[0;34m\u001b[0m\u001b[0m\n\u001b[1;32m    315\u001b[0m                 raise ValueError(\"X has %d features per sample, expected %d\"\n\u001b[0;32m--> 316\u001b[0;31m                                  % (X.shape[1], self.statistics_.shape[0]))\n\u001b[0m\u001b[1;32m    317\u001b[0m \u001b[0;34m\u001b[0m\u001b[0m\n\u001b[1;32m    318\u001b[0m         \u001b[0;31m# Since two different arrays can be provided in fit(X) and\u001b[0m\u001b[0;34m\u001b[0m\u001b[0;34m\u001b[0m\u001b[0m\n",
      "\u001b[0;31mValueError\u001b[0m: X has 206 features per sample, expected 196"
     ]
    }
   ],
   "source": [
    "# customer_df['PRAEGENDE_JUGENDJAHRE_MOVE'] = (customer_df['PRAEGENDE_JUGENDJAHRE_MOVE'] == True) \n",
    "# customer_df['PLZ8_BAUMAX_TYPE'] = (customer_df['PLZ8_BAUMAX_TYPE'] == True)\n",
    "\n",
    "customer_full = imp.transform(customer_df)\n",
    "customer_full = pd.DataFrame(customer_full, columns=azdias_below15.columns)\n",
    "customer_proc = scaler.transform(customer_full)\n",
    "customer_final = pd.DataFrame(customer_proc, columns=azdias_below15.columns)\n",
    "customer_pca = pca2.transform(customer_final)\n"
   ]
  },
  {
   "cell_type": "code",
   "execution_count": null,
   "metadata": {},
   "outputs": [],
   "source": [
    "#Cluster predictions for the customer demographics data\n",
    "cust_preds = kmeans_opt.predict(customer_pca)"
   ]
  },
  {
   "cell_type": "markdown",
   "metadata": {},
   "source": [
    "### Step 3.3: Compare Customer Data to Demographics Data\n",
    "\n",
    "At this point, you have clustered data based on demographics of the general population of Germany, and seen how the customer data for a mail-order sales company maps onto those demographic clusters. In this final substep, you will compare the two cluster distributions to see where the strongest customer base for the company is.\n",
    "\n",
    "Consider the proportion of persons in each cluster for the general population, and the proportions for the customers. If we think the company's customer base to be universal, then the cluster assignment proportions should be fairly similar between the two. If there are only particular segments of the population that are interested in the company's products, then we should see a mismatch from one to the other. If there is a higher proportion of persons in a cluster for the customer data compared to the general population (e.g. 5% of persons are assigned to a cluster for the general population, but 15% of the customer data is closest to that cluster's centroid) then that suggests the people in that cluster to be a target audience for the company. On the other hand, the proportion of the data in a cluster being larger in the general population than the customer data (e.g. only 2% of customers closest to a population centroid that captures 6% of the data) suggests that group of persons to be outside of the target demographics.\n",
    "\n",
    "Take a look at the following points in this step:\n",
    "\n",
    "- Compute the proportion of data points in each cluster for the general population and the customer data. Visualizations will be useful here: both for the individual dataset proportions, but also to visualize the ratios in cluster representation between groups. Seaborn's [`countplot()`](https://seaborn.pydata.org/generated/seaborn.countplot.html) or [`barplot()`](https://seaborn.pydata.org/generated/seaborn.barplot.html) function could be handy.\n",
    "  - Recall the analysis you performed in step 1.1.3 of the project, where you separated out certain data points from the dataset if they had more than a specified threshold of missing values. If you found that this group was qualitatively different from the main bulk of the data, you should treat this as an additional data cluster in this analysis. Make sure that you account for the number of data points in this subset, for both the general population and customer datasets, when making your computations!\n",
    "- Which cluster or clusters are overrepresented in the customer dataset compared to the general population? Select at least one such cluster and infer what kind of people might be represented by that cluster. Use the principal component interpretations from step 2.3 or look at additional components to help you make this inference. Alternatively, you can use the `.inverse_transform()` method of the PCA and StandardScaler objects to transform centroids back to the original data space and interpret the retrieved values directly.\n",
    "- Perform a similar investigation for the underrepresented clusters. Which cluster or clusters are underrepresented in the customer dataset compared to the general population, and what kinds of people are typified by these clusters?"
   ]
  },
  {
   "cell_type": "code",
   "execution_count": null,
   "metadata": {},
   "outputs": [],
   "source": [
    "# Compare the proportion of data in each cluster for the customer data to the\n",
    "# proportion of data in each cluster for the general population.\n",
    "\n"
   ]
  },
  {
   "cell_type": "code",
   "execution_count": null,
   "metadata": {},
   "outputs": [],
   "source": [
    "# What kinds of people are part of a cluster that is overrepresented in the\n",
    "# customer data compared to the general population?\n",
    "\n"
   ]
  },
  {
   "cell_type": "code",
   "execution_count": null,
   "metadata": {},
   "outputs": [],
   "source": [
    "# What kinds of people are part of a cluster that is underrepresented in the\n",
    "# customer data compared to the general population?\n",
    "\n"
   ]
  },
  {
   "cell_type": "markdown",
   "metadata": {},
   "source": [
    "### Discussion 3.3: Compare Customer Data to Demographics Data\n",
    "\n",
    "(Double-click this cell and replace this text with your own text, reporting findings and conclusions from the clustering analysis. Can we describe segments of the population that are relatively popular with the mail-order company, or relatively unpopular with the company?)"
   ]
  },
  {
   "cell_type": "markdown",
   "metadata": {},
   "source": [
    "> Congratulations on making it this far in the project! Before you finish, make sure to check through the entire notebook from top to bottom to make sure that your analysis follows a logical flow and all of your findings are documented in **Discussion** cells. Once you've checked over all of your work, you should export the notebook as an HTML document to submit for evaluation. You can do this from the menu, navigating to **File -> Download as -> HTML (.html)**. You will submit both that document and this notebook for your project submission."
   ]
  },
  {
   "cell_type": "code",
   "execution_count": null,
   "metadata": {},
   "outputs": [],
   "source": []
  }
 ],
 "metadata": {
  "kernelspec": {
   "display_name": "Python 3",
   "language": "python",
   "name": "python3"
  },
  "language_info": {
   "codemirror_mode": {
    "name": "ipython",
    "version": 3
   },
   "file_extension": ".py",
   "mimetype": "text/x-python",
   "name": "python",
   "nbconvert_exporter": "python",
   "pygments_lexer": "ipython3",
   "version": "3.6.3"
  }
 },
 "nbformat": 4,
 "nbformat_minor": 2
}
